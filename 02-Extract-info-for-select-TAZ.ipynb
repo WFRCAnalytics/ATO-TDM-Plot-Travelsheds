{
 "cells": [
  {
   "cell_type": "code",
   "execution_count": 7,
   "metadata": {},
   "outputs": [],
   "source": [
    "import openmatrix as omx\n",
    "import pandas as d"
   ]
  },
  {
   "cell_type": "code",
   "execution_count": 8,
   "metadata": {},
   "outputs": [],
   "source": [
    "matrix_for_extraction = 'GP_TotTime'\n",
    "\n",
    "# List of TAZ rows to extract\n",
    "taz_rows_to_extract = [832, 1629, 1984] #832:Bountiful, 1629:Murray, 1984:South Jordan"
   ]
  },
  {
   "cell_type": "code",
   "execution_count": 9,
   "metadata": {},
   "outputs": [],
   "source": [
    "# Define the input OMX file and output CSV file\n",
    "omx_file = \"data/input_matrix.omx\"\n",
    "output_csv = f\"intermediate/TAZ-I-J-{matrix_for_extraction}.csv\""
   ]
  },
  {
   "cell_type": "code",
   "execution_count": 10,
   "metadata": {},
   "outputs": [
    {
     "name": "stdout",
     "output_type": "stream",
     "text": [
      "Extracted data saved to intermediate/TAZ-I-J-GP_TotTime.csv\n"
     ]
    }
   ],
   "source": [
    "matrix_rows_to_extract = [i - 1 for i in taz_rows_to_extract]  # Convert to zero-based index\n",
    "\n",
    "# Open the OMX file\n",
    "with omx.open_file(omx_file, 'r') as omx_data:\n",
    "    # Read the entire matrix_for_extraction matrix\n",
    "    _matrix = omx_data[matrix_for_extraction][:]\n",
    "\n",
    "    # Extract I-J-Value data\n",
    "    extracted_data = []\n",
    "    for i in matrix_rows_to_extract:\n",
    "        for j in range(_matrix.shape[1]):  # Iterate over all columns\n",
    "            extracted_data.append([i + 1, j + 1, _matrix[i, j]])  # Convert back to 1-based for output\n",
    "\n",
    "# Convert to DataFrame\n",
    "df = pd.DataFrame(extracted_data, columns=['I', 'J', 'Value'])\n",
    "\n",
    "# Save to CSV\n",
    "df.to_csv(output_csv, index=False)\n",
    "\n",
    "print(f\"Extracted data saved to {output_csv}\")"
   ]
  }
 ],
 "metadata": {
  "kernelspec": {
   "display_name": "march2024",
   "language": "python",
   "name": "python3"
  },
  "language_info": {
   "codemirror_mode": {
    "name": "ipython",
    "version": 3
   },
   "file_extension": ".py",
   "mimetype": "text/x-python",
   "name": "python",
   "nbconvert_exporter": "python",
   "pygments_lexer": "ipython3",
   "version": "3.9.19"
  }
 },
 "nbformat": 4,
 "nbformat_minor": 2
}
