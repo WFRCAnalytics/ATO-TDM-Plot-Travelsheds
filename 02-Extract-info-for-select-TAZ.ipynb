{
 "cells": [
  {
   "cell_type": "code",
   "execution_count": 24,
   "metadata": {},
   "outputs": [],
   "source": [
    "import geopandas as gpd\n",
    "import pandas as pd\n",
    "import folium\n",
    "from branca.colormap import linear\n",
    "import os\n",
    "from selenium import webdriver\n",
    "from selenium.webdriver.chrome.service import Service\n",
    "from webdriver_manager.chrome import ChromeDriverManager"
   ]
  },
  {
   "cell_type": "code",
   "execution_count": null,
   "metadata": {},
   "outputs": [],
   "source": [
    "matrix_for_extraction = 'GP_TotTime'\n",
    "\n",
    "# List of TAZ rows to extract\n",
    "taz_rows_to_extract = [ 832, # Bountiful\n",
    "                       1629, # Murray\n",
    "                       1984, # South Jordan\n",
    "                       3167, # Spanish Fork\n",
    "                       2845, # MAG Office\n",
    "                       2513] # Saratoga"
   ]
  },
  {
   "cell_type": "code",
   "execution_count": 26,
   "metadata": {},
   "outputs": [],
   "source": [
    "# Define the input OMX file and output CSV file\n",
    "omx_file = \"data/input_matrix.omx\"\n",
    "output_csv = f\"intermediate/TAZ-I-J-{matrix_for_extraction}.csv\""
   ]
  },
  {
   "cell_type": "code",
   "execution_count": 27,
   "metadata": {},
   "outputs": [
    {
     "data": {
      "application/vnd.microsoft.datawrangler.viewer.v0+json": {
       "columns": [
        {
         "name": "index",
         "rawType": "int64",
         "type": "integer"
        },
        {
         "name": "I",
         "rawType": "int64",
         "type": "integer"
        },
        {
         "name": "J",
         "rawType": "int64",
         "type": "integer"
        },
        {
         "name": "Value",
         "rawType": "float64",
         "type": "float"
        }
       ],
       "conversionMethod": "pd.DataFrame",
       "ref": "3b5c78bd-f4dc-4bc1-a2cb-6b85ba053691",
       "rows": [
        [
         "0",
         "832",
         "1",
         "77.7"
        ],
        [
         "1",
         "832",
         "2",
         "77.14"
        ],
        [
         "2",
         "832",
         "3",
         "72.45"
        ],
        [
         "3",
         "832",
         "4",
         "73.51"
        ],
        [
         "4",
         "832",
         "5",
         "76.02"
        ],
        [
         "5",
         "832",
         "6",
         "72.12"
        ],
        [
         "6",
         "832",
         "7",
         "72.36"
        ],
        [
         "7",
         "832",
         "8",
         "72.9"
        ],
        [
         "8",
         "832",
         "9",
         "69.6"
        ],
        [
         "9",
         "832",
         "10",
         "69.32"
        ],
        [
         "10",
         "832",
         "11",
         "70.43"
        ],
        [
         "11",
         "832",
         "12",
         "68.64"
        ],
        [
         "12",
         "832",
         "13",
         "67.06"
        ],
        [
         "13",
         "832",
         "14",
         "67.53"
        ],
        [
         "14",
         "832",
         "15",
         "71.37"
        ],
        [
         "15",
         "832",
         "16",
         "69.41"
        ],
        [
         "16",
         "832",
         "17",
         "68.63"
        ],
        [
         "17",
         "832",
         "18",
         "68.0"
        ],
        [
         "18",
         "832",
         "19",
         "70.42"
        ],
        [
         "19",
         "832",
         "20",
         "71.89"
        ],
        [
         "20",
         "832",
         "21",
         "68.9"
        ],
        [
         "21",
         "832",
         "22",
         "69.2"
        ],
        [
         "22",
         "832",
         "23",
         "69.6"
        ],
        [
         "23",
         "832",
         "24",
         "70.06"
        ],
        [
         "24",
         "832",
         "25",
         "70.85"
        ],
        [
         "25",
         "832",
         "26",
         "71.13"
        ],
        [
         "26",
         "832",
         "27",
         "68.94"
        ],
        [
         "27",
         "832",
         "28",
         "69.52"
        ],
        [
         "28",
         "832",
         "29",
         "70.43"
        ],
        [
         "29",
         "832",
         "30",
         "71.27"
        ],
        [
         "30",
         "832",
         "31",
         "70.99"
        ],
        [
         "31",
         "832",
         "32",
         "71.63"
        ],
        [
         "32",
         "832",
         "33",
         "71.84"
        ],
        [
         "33",
         "832",
         "34",
         "72.23"
        ],
        [
         "34",
         "832",
         "35",
         "72.59"
        ],
        [
         "35",
         "832",
         "36",
         "73.79"
        ],
        [
         "36",
         "832",
         "37",
         "66.86"
        ],
        [
         "37",
         "832",
         "38",
         "67.86"
        ],
        [
         "38",
         "832",
         "39",
         "70.27"
        ],
        [
         "39",
         "832",
         "40",
         "70.71"
        ],
        [
         "40",
         "832",
         "41",
         "71.48"
        ],
        [
         "41",
         "832",
         "42",
         "71.17"
        ],
        [
         "42",
         "832",
         "43",
         "72.07"
        ],
        [
         "43",
         "832",
         "44",
         "72.36"
        ],
        [
         "44",
         "832",
         "45",
         "72.66"
        ],
        [
         "45",
         "832",
         "46",
         "73.62"
        ],
        [
         "46",
         "832",
         "47",
         "70.85"
        ],
        [
         "47",
         "832",
         "48",
         "68.93"
        ],
        [
         "48",
         "832",
         "49",
         "66.9"
        ],
        [
         "49",
         "832",
         "50",
         "68.08"
        ]
       ],
       "shape": {
        "columns": 3,
        "rows": 10887
       }
      },
      "text/html": [
       "<div>\n",
       "<style scoped>\n",
       "    .dataframe tbody tr th:only-of-type {\n",
       "        vertical-align: middle;\n",
       "    }\n",
       "\n",
       "    .dataframe tbody tr th {\n",
       "        vertical-align: top;\n",
       "    }\n",
       "\n",
       "    .dataframe thead th {\n",
       "        text-align: right;\n",
       "    }\n",
       "</style>\n",
       "<table border=\"1\" class=\"dataframe\">\n",
       "  <thead>\n",
       "    <tr style=\"text-align: right;\">\n",
       "      <th></th>\n",
       "      <th>I</th>\n",
       "      <th>J</th>\n",
       "      <th>Value</th>\n",
       "    </tr>\n",
       "  </thead>\n",
       "  <tbody>\n",
       "    <tr>\n",
       "      <th>0</th>\n",
       "      <td>832</td>\n",
       "      <td>1</td>\n",
       "      <td>77.70</td>\n",
       "    </tr>\n",
       "    <tr>\n",
       "      <th>1</th>\n",
       "      <td>832</td>\n",
       "      <td>2</td>\n",
       "      <td>77.14</td>\n",
       "    </tr>\n",
       "    <tr>\n",
       "      <th>2</th>\n",
       "      <td>832</td>\n",
       "      <td>3</td>\n",
       "      <td>72.45</td>\n",
       "    </tr>\n",
       "    <tr>\n",
       "      <th>3</th>\n",
       "      <td>832</td>\n",
       "      <td>4</td>\n",
       "      <td>73.51</td>\n",
       "    </tr>\n",
       "    <tr>\n",
       "      <th>4</th>\n",
       "      <td>832</td>\n",
       "      <td>5</td>\n",
       "      <td>76.02</td>\n",
       "    </tr>\n",
       "    <tr>\n",
       "      <th>...</th>\n",
       "      <td>...</td>\n",
       "      <td>...</td>\n",
       "      <td>...</td>\n",
       "    </tr>\n",
       "    <tr>\n",
       "      <th>10882</th>\n",
       "      <td>1984</td>\n",
       "      <td>3625</td>\n",
       "      <td>160.88</td>\n",
       "    </tr>\n",
       "    <tr>\n",
       "      <th>10883</th>\n",
       "      <td>1984</td>\n",
       "      <td>3626</td>\n",
       "      <td>100.00</td>\n",
       "    </tr>\n",
       "    <tr>\n",
       "      <th>10884</th>\n",
       "      <td>1984</td>\n",
       "      <td>3627</td>\n",
       "      <td>141.18</td>\n",
       "    </tr>\n",
       "    <tr>\n",
       "      <th>10885</th>\n",
       "      <td>1984</td>\n",
       "      <td>3628</td>\n",
       "      <td>76.42</td>\n",
       "    </tr>\n",
       "    <tr>\n",
       "      <th>10886</th>\n",
       "      <td>1984</td>\n",
       "      <td>3629</td>\n",
       "      <td>77.97</td>\n",
       "    </tr>\n",
       "  </tbody>\n",
       "</table>\n",
       "<p>10887 rows × 3 columns</p>\n",
       "</div>"
      ],
      "text/plain": [
       "          I     J   Value\n",
       "0       832     1   77.70\n",
       "1       832     2   77.14\n",
       "2       832     3   72.45\n",
       "3       832     4   73.51\n",
       "4       832     5   76.02\n",
       "...     ...   ...     ...\n",
       "10882  1984  3625  160.88\n",
       "10883  1984  3626  100.00\n",
       "10884  1984  3627  141.18\n",
       "10885  1984  3628   76.42\n",
       "10886  1984  3629   77.97\n",
       "\n",
       "[10887 rows x 3 columns]"
      ]
     },
     "metadata": {},
     "output_type": "display_data"
    },
    {
     "name": "stdout",
     "output_type": "stream",
     "text": [
      "Extracted data saved to intermediate/TAZ-I-J-GP_TotTime.csv\n"
     ]
    }
   ],
   "source": [
    "matrix_rows_to_extract = [i - 1 for i in taz_rows_to_extract]  # Convert to zero-based index\n",
    "\n",
    "# Open the OMX file\n",
    "with omx.open_file(omx_file, 'r') as omx_data:\n",
    "    # Read the entire matrix_for_extraction matrix\n",
    "    _matrix = omx_data[matrix_for_extraction][:]\n",
    "\n",
    "    # Extract I-J-Value data\n",
    "    extracted_data = []\n",
    "    for i in matrix_rows_to_extract:\n",
    "        for j in range(_matrix.shape[1]):  # Iterate over all columns\n",
    "            extracted_data.append([i + 1, j + 1, _matrix[i, j]])  # Convert back to 1-based for output\n",
    "\n",
    "# Convert to DataFrame\n",
    "extracted_data_df = pd.DataFrame(extracted_data, columns=['I', 'J', 'Value'])\n",
    "\n",
    "display(extracted_data_df)\n",
    "\n",
    "# Save to CSV\n",
    "extracted_data_df.to_csv(output_csv, index=False)\n",
    "\n",
    "print(f\"Extracted data saved to {output_csv}\")"
   ]
  },
  {
   "cell_type": "code",
   "execution_count": 28,
   "metadata": {},
   "outputs": [
    {
     "data": {
      "application/vnd.microsoft.datawrangler.viewer.v0+json": {
       "columns": [
        {
         "name": "index",
         "rawType": "int64",
         "type": "integer"
        },
        {
         "name": "Method",
         "rawType": "object",
         "type": "string"
        },
        {
         "name": "TTStart_Minutes",
         "rawType": "float64",
         "type": "float"
        },
        {
         "name": "TTEnd_Minutes",
         "rawType": "float64",
         "type": "float"
        },
        {
         "name": "MAPCLASS",
         "rawType": "int64",
         "type": "integer"
        },
        {
         "name": "JOBFRACT",
         "rawType": "object",
         "type": "string"
        }
       ],
       "conversionMethod": "pd.DataFrame",
       "ref": "635066ad-e4d5-4a3f-ae87-4e31a7555994",
       "rows": [
        [
         "0",
         "New",
         "0.0",
         "10.0",
         "11",
         "1"
        ],
        [
         "1",
         "New",
         "10.001",
         "13.5",
         "10",
         "0.90 - 0.99"
        ],
        [
         "2",
         "New",
         "13.501",
         "17.0",
         "9",
         "0.80 - 0.89"
        ],
        [
         "3",
         "New",
         "17.001",
         "20.5",
         "8",
         "0.70 - 0.79"
        ],
        [
         "4",
         "New",
         "20.501",
         "24.0",
         "7",
         "0.60 - 0.69"
        ],
        [
         "5",
         "New",
         "24.001",
         "27.5",
         "6",
         "0.50 - 0.59"
        ],
        [
         "6",
         "New",
         "27.501",
         "31.0",
         "5",
         "0.40 - 0.49"
        ],
        [
         "7",
         "New",
         "31.001",
         "34.5",
         "4",
         "0.30 - 0.39"
        ],
        [
         "8",
         "New",
         "34.501",
         "38.0",
         "3",
         "0.20 - 0.29"
        ],
        [
         "9",
         "New",
         "38.001",
         "41.5",
         "2",
         "0.10 - 0.19"
        ],
        [
         "10",
         "New",
         "41.501",
         "45.0",
         "1",
         "0.00 - 0.09"
        ],
        [
         "11",
         "Old",
         "0.0",
         "3.0",
         "11",
         "1"
        ],
        [
         "12",
         "Old",
         "3.0001",
         "7.25",
         "10",
         "0.90 - 0.99"
        ],
        [
         "13",
         "Old",
         "7.251",
         "9.75",
         "9",
         "0.80 - 0.89"
        ],
        [
         "14",
         "Old",
         "9.751",
         "12.25",
         "8",
         "0.70 - 0.79"
        ],
        [
         "15",
         "Old",
         "12.251",
         "14.5",
         "7",
         "0.60 - 0.69"
        ],
        [
         "16",
         "Old",
         "14.501",
         "17.25",
         "6",
         "0.50 - 0.59"
        ],
        [
         "17",
         "Old",
         "17.251",
         "20.25",
         "5",
         "0.40 - 0.49"
        ],
        [
         "18",
         "Old",
         "20.251",
         "23.75",
         "4",
         "0.30 - 0.39"
        ],
        [
         "19",
         "Old",
         "23.751",
         "29.25",
         "3",
         "0.20 - 0.29"
        ],
        [
         "20",
         "Old",
         "29.251",
         "39.25",
         "2",
         "0.10 - 0.19"
        ],
        [
         "21",
         "Old",
         "39.251",
         "75.0",
         "1",
         "0.00 - 0.09"
        ]
       ],
       "shape": {
        "columns": 5,
        "rows": 22
       }
      },
      "text/html": [
       "<div>\n",
       "<style scoped>\n",
       "    .dataframe tbody tr th:only-of-type {\n",
       "        vertical-align: middle;\n",
       "    }\n",
       "\n",
       "    .dataframe tbody tr th {\n",
       "        vertical-align: top;\n",
       "    }\n",
       "\n",
       "    .dataframe thead th {\n",
       "        text-align: right;\n",
       "    }\n",
       "</style>\n",
       "<table border=\"1\" class=\"dataframe\">\n",
       "  <thead>\n",
       "    <tr style=\"text-align: right;\">\n",
       "      <th></th>\n",
       "      <th>Method</th>\n",
       "      <th>TTStart_Minutes</th>\n",
       "      <th>TTEnd_Minutes</th>\n",
       "      <th>MAPCLASS</th>\n",
       "      <th>JOBFRACT</th>\n",
       "    </tr>\n",
       "  </thead>\n",
       "  <tbody>\n",
       "    <tr>\n",
       "      <th>0</th>\n",
       "      <td>New</td>\n",
       "      <td>0.0000</td>\n",
       "      <td>10.00</td>\n",
       "      <td>11</td>\n",
       "      <td>1</td>\n",
       "    </tr>\n",
       "    <tr>\n",
       "      <th>1</th>\n",
       "      <td>New</td>\n",
       "      <td>10.0010</td>\n",
       "      <td>13.50</td>\n",
       "      <td>10</td>\n",
       "      <td>0.90 - 0.99</td>\n",
       "    </tr>\n",
       "    <tr>\n",
       "      <th>2</th>\n",
       "      <td>New</td>\n",
       "      <td>13.5010</td>\n",
       "      <td>17.00</td>\n",
       "      <td>9</td>\n",
       "      <td>0.80 - 0.89</td>\n",
       "    </tr>\n",
       "    <tr>\n",
       "      <th>3</th>\n",
       "      <td>New</td>\n",
       "      <td>17.0010</td>\n",
       "      <td>20.50</td>\n",
       "      <td>8</td>\n",
       "      <td>0.70 - 0.79</td>\n",
       "    </tr>\n",
       "    <tr>\n",
       "      <th>4</th>\n",
       "      <td>New</td>\n",
       "      <td>20.5010</td>\n",
       "      <td>24.00</td>\n",
       "      <td>7</td>\n",
       "      <td>0.60 - 0.69</td>\n",
       "    </tr>\n",
       "    <tr>\n",
       "      <th>5</th>\n",
       "      <td>New</td>\n",
       "      <td>24.0010</td>\n",
       "      <td>27.50</td>\n",
       "      <td>6</td>\n",
       "      <td>0.50 - 0.59</td>\n",
       "    </tr>\n",
       "    <tr>\n",
       "      <th>6</th>\n",
       "      <td>New</td>\n",
       "      <td>27.5010</td>\n",
       "      <td>31.00</td>\n",
       "      <td>5</td>\n",
       "      <td>0.40 - 0.49</td>\n",
       "    </tr>\n",
       "    <tr>\n",
       "      <th>7</th>\n",
       "      <td>New</td>\n",
       "      <td>31.0010</td>\n",
       "      <td>34.50</td>\n",
       "      <td>4</td>\n",
       "      <td>0.30 - 0.39</td>\n",
       "    </tr>\n",
       "    <tr>\n",
       "      <th>8</th>\n",
       "      <td>New</td>\n",
       "      <td>34.5010</td>\n",
       "      <td>38.00</td>\n",
       "      <td>3</td>\n",
       "      <td>0.20 - 0.29</td>\n",
       "    </tr>\n",
       "    <tr>\n",
       "      <th>9</th>\n",
       "      <td>New</td>\n",
       "      <td>38.0010</td>\n",
       "      <td>41.50</td>\n",
       "      <td>2</td>\n",
       "      <td>0.10 - 0.19</td>\n",
       "    </tr>\n",
       "    <tr>\n",
       "      <th>10</th>\n",
       "      <td>New</td>\n",
       "      <td>41.5010</td>\n",
       "      <td>45.00</td>\n",
       "      <td>1</td>\n",
       "      <td>0.00 - 0.09</td>\n",
       "    </tr>\n",
       "    <tr>\n",
       "      <th>11</th>\n",
       "      <td>Old</td>\n",
       "      <td>0.0000</td>\n",
       "      <td>3.00</td>\n",
       "      <td>11</td>\n",
       "      <td>1</td>\n",
       "    </tr>\n",
       "    <tr>\n",
       "      <th>12</th>\n",
       "      <td>Old</td>\n",
       "      <td>3.0001</td>\n",
       "      <td>7.25</td>\n",
       "      <td>10</td>\n",
       "      <td>0.90 - 0.99</td>\n",
       "    </tr>\n",
       "    <tr>\n",
       "      <th>13</th>\n",
       "      <td>Old</td>\n",
       "      <td>7.2510</td>\n",
       "      <td>9.75</td>\n",
       "      <td>9</td>\n",
       "      <td>0.80 - 0.89</td>\n",
       "    </tr>\n",
       "    <tr>\n",
       "      <th>14</th>\n",
       "      <td>Old</td>\n",
       "      <td>9.7510</td>\n",
       "      <td>12.25</td>\n",
       "      <td>8</td>\n",
       "      <td>0.70 - 0.79</td>\n",
       "    </tr>\n",
       "    <tr>\n",
       "      <th>15</th>\n",
       "      <td>Old</td>\n",
       "      <td>12.2510</td>\n",
       "      <td>14.50</td>\n",
       "      <td>7</td>\n",
       "      <td>0.60 - 0.69</td>\n",
       "    </tr>\n",
       "    <tr>\n",
       "      <th>16</th>\n",
       "      <td>Old</td>\n",
       "      <td>14.5010</td>\n",
       "      <td>17.25</td>\n",
       "      <td>6</td>\n",
       "      <td>0.50 - 0.59</td>\n",
       "    </tr>\n",
       "    <tr>\n",
       "      <th>17</th>\n",
       "      <td>Old</td>\n",
       "      <td>17.2510</td>\n",
       "      <td>20.25</td>\n",
       "      <td>5</td>\n",
       "      <td>0.40 - 0.49</td>\n",
       "    </tr>\n",
       "    <tr>\n",
       "      <th>18</th>\n",
       "      <td>Old</td>\n",
       "      <td>20.2510</td>\n",
       "      <td>23.75</td>\n",
       "      <td>4</td>\n",
       "      <td>0.30 - 0.39</td>\n",
       "    </tr>\n",
       "    <tr>\n",
       "      <th>19</th>\n",
       "      <td>Old</td>\n",
       "      <td>23.7510</td>\n",
       "      <td>29.25</td>\n",
       "      <td>3</td>\n",
       "      <td>0.20 - 0.29</td>\n",
       "    </tr>\n",
       "    <tr>\n",
       "      <th>20</th>\n",
       "      <td>Old</td>\n",
       "      <td>29.2510</td>\n",
       "      <td>39.25</td>\n",
       "      <td>2</td>\n",
       "      <td>0.10 - 0.19</td>\n",
       "    </tr>\n",
       "    <tr>\n",
       "      <th>21</th>\n",
       "      <td>Old</td>\n",
       "      <td>39.2510</td>\n",
       "      <td>75.00</td>\n",
       "      <td>1</td>\n",
       "      <td>0.00 - 0.09</td>\n",
       "    </tr>\n",
       "  </tbody>\n",
       "</table>\n",
       "</div>"
      ],
      "text/plain": [
       "   Method  TTStart_Minutes  TTEnd_Minutes  MAPCLASS     JOBFRACT\n",
       "0     New           0.0000          10.00        11            1\n",
       "1     New          10.0010          13.50        10  0.90 - 0.99\n",
       "2     New          13.5010          17.00         9  0.80 - 0.89\n",
       "3     New          17.0010          20.50         8  0.70 - 0.79\n",
       "4     New          20.5010          24.00         7  0.60 - 0.69\n",
       "5     New          24.0010          27.50         6  0.50 - 0.59\n",
       "6     New          27.5010          31.00         5  0.40 - 0.49\n",
       "7     New          31.0010          34.50         4  0.30 - 0.39\n",
       "8     New          34.5010          38.00         3  0.20 - 0.29\n",
       "9     New          38.0010          41.50         2  0.10 - 0.19\n",
       "10    New          41.5010          45.00         1  0.00 - 0.09\n",
       "11    Old           0.0000           3.00        11            1\n",
       "12    Old           3.0001           7.25        10  0.90 - 0.99\n",
       "13    Old           7.2510           9.75         9  0.80 - 0.89\n",
       "14    Old           9.7510          12.25         8  0.70 - 0.79\n",
       "15    Old          12.2510          14.50         7  0.60 - 0.69\n",
       "16    Old          14.5010          17.25         6  0.50 - 0.59\n",
       "17    Old          17.2510          20.25         5  0.40 - 0.49\n",
       "18    Old          20.2510          23.75         4  0.30 - 0.39\n",
       "19    Old          23.7510          29.25         3  0.20 - 0.29\n",
       "20    Old          29.2510          39.25         2  0.10 - 0.19\n",
       "21    Old          39.2510          75.00         1  0.00 - 0.09"
      ]
     },
     "execution_count": 28,
     "metadata": {},
     "output_type": "execute_result"
    }
   ],
   "source": [
    "travel_shed_ato_classes_df = pd.read_csv(\"data/NEW And OLD ATO Method (for travelsheds).csv\")\n",
    "travel_shed_ato_classes_df"
   ]
  },
  {
   "cell_type": "code",
   "execution_count": 29,
   "metadata": {},
   "outputs": [
    {
     "data": {
      "application/vnd.microsoft.datawrangler.viewer.v0+json": {
       "columns": [
        {
         "name": "index",
         "rawType": "int64",
         "type": "integer"
        },
        {
         "name": "I",
         "rawType": "int64",
         "type": "integer"
        },
        {
         "name": "J",
         "rawType": "int64",
         "type": "integer"
        },
        {
         "name": "Value",
         "rawType": "float64",
         "type": "float"
        },
        {
         "name": "Method",
         "rawType": "object",
         "type": "string"
        },
        {
         "name": "TTStart_Minutes",
         "rawType": "float64",
         "type": "float"
        },
        {
         "name": "TTEnd_Minutes",
         "rawType": "float64",
         "type": "float"
        },
        {
         "name": "MAPCLASS",
         "rawType": "int64",
         "type": "integer"
        },
        {
         "name": "JOBFRACT",
         "rawType": "object",
         "type": "string"
        }
       ],
       "conversionMethod": "pd.DataFrame",
       "ref": "3faf3992-936c-4041-8548-6be9bb3548f0",
       "rows": [
        [
         "65",
         "832",
         "3",
         "72.45",
         "Old",
         "39.251",
         "75.0",
         "1",
         "0.00 - 0.09"
        ],
        [
         "87",
         "832",
         "4",
         "73.51",
         "Old",
         "39.251",
         "75.0",
         "1",
         "0.00 - 0.09"
        ],
        [
         "131",
         "832",
         "6",
         "72.12",
         "Old",
         "39.251",
         "75.0",
         "1",
         "0.00 - 0.09"
        ],
        [
         "153",
         "832",
         "7",
         "72.36",
         "Old",
         "39.251",
         "75.0",
         "1",
         "0.00 - 0.09"
        ],
        [
         "175",
         "832",
         "8",
         "72.9",
         "Old",
         "39.251",
         "75.0",
         "1",
         "0.00 - 0.09"
        ],
        [
         "197",
         "832",
         "9",
         "69.6",
         "Old",
         "39.251",
         "75.0",
         "1",
         "0.00 - 0.09"
        ],
        [
         "219",
         "832",
         "10",
         "69.32",
         "Old",
         "39.251",
         "75.0",
         "1",
         "0.00 - 0.09"
        ],
        [
         "241",
         "832",
         "11",
         "70.43",
         "Old",
         "39.251",
         "75.0",
         "1",
         "0.00 - 0.09"
        ],
        [
         "263",
         "832",
         "12",
         "68.64",
         "Old",
         "39.251",
         "75.0",
         "1",
         "0.00 - 0.09"
        ],
        [
         "285",
         "832",
         "13",
         "67.06",
         "Old",
         "39.251",
         "75.0",
         "1",
         "0.00 - 0.09"
        ],
        [
         "307",
         "832",
         "14",
         "67.53",
         "Old",
         "39.251",
         "75.0",
         "1",
         "0.00 - 0.09"
        ],
        [
         "329",
         "832",
         "15",
         "71.37",
         "Old",
         "39.251",
         "75.0",
         "1",
         "0.00 - 0.09"
        ],
        [
         "351",
         "832",
         "16",
         "69.41",
         "Old",
         "39.251",
         "75.0",
         "1",
         "0.00 - 0.09"
        ],
        [
         "373",
         "832",
         "17",
         "68.63",
         "Old",
         "39.251",
         "75.0",
         "1",
         "0.00 - 0.09"
        ],
        [
         "395",
         "832",
         "18",
         "68.0",
         "Old",
         "39.251",
         "75.0",
         "1",
         "0.00 - 0.09"
        ],
        [
         "417",
         "832",
         "19",
         "70.42",
         "Old",
         "39.251",
         "75.0",
         "1",
         "0.00 - 0.09"
        ],
        [
         "439",
         "832",
         "20",
         "71.89",
         "Old",
         "39.251",
         "75.0",
         "1",
         "0.00 - 0.09"
        ],
        [
         "461",
         "832",
         "21",
         "68.9",
         "Old",
         "39.251",
         "75.0",
         "1",
         "0.00 - 0.09"
        ],
        [
         "483",
         "832",
         "22",
         "69.2",
         "Old",
         "39.251",
         "75.0",
         "1",
         "0.00 - 0.09"
        ],
        [
         "505",
         "832",
         "23",
         "69.6",
         "Old",
         "39.251",
         "75.0",
         "1",
         "0.00 - 0.09"
        ],
        [
         "527",
         "832",
         "24",
         "70.06",
         "Old",
         "39.251",
         "75.0",
         "1",
         "0.00 - 0.09"
        ],
        [
         "549",
         "832",
         "25",
         "70.85",
         "Old",
         "39.251",
         "75.0",
         "1",
         "0.00 - 0.09"
        ],
        [
         "571",
         "832",
         "26",
         "71.13",
         "Old",
         "39.251",
         "75.0",
         "1",
         "0.00 - 0.09"
        ],
        [
         "593",
         "832",
         "27",
         "68.94",
         "Old",
         "39.251",
         "75.0",
         "1",
         "0.00 - 0.09"
        ],
        [
         "615",
         "832",
         "28",
         "69.52",
         "Old",
         "39.251",
         "75.0",
         "1",
         "0.00 - 0.09"
        ],
        [
         "637",
         "832",
         "29",
         "70.43",
         "Old",
         "39.251",
         "75.0",
         "1",
         "0.00 - 0.09"
        ],
        [
         "659",
         "832",
         "30",
         "71.27",
         "Old",
         "39.251",
         "75.0",
         "1",
         "0.00 - 0.09"
        ],
        [
         "681",
         "832",
         "31",
         "70.99",
         "Old",
         "39.251",
         "75.0",
         "1",
         "0.00 - 0.09"
        ],
        [
         "703",
         "832",
         "32",
         "71.63",
         "Old",
         "39.251",
         "75.0",
         "1",
         "0.00 - 0.09"
        ],
        [
         "725",
         "832",
         "33",
         "71.84",
         "Old",
         "39.251",
         "75.0",
         "1",
         "0.00 - 0.09"
        ],
        [
         "747",
         "832",
         "34",
         "72.23",
         "Old",
         "39.251",
         "75.0",
         "1",
         "0.00 - 0.09"
        ],
        [
         "769",
         "832",
         "35",
         "72.59",
         "Old",
         "39.251",
         "75.0",
         "1",
         "0.00 - 0.09"
        ],
        [
         "791",
         "832",
         "36",
         "73.79",
         "Old",
         "39.251",
         "75.0",
         "1",
         "0.00 - 0.09"
        ],
        [
         "813",
         "832",
         "37",
         "66.86",
         "Old",
         "39.251",
         "75.0",
         "1",
         "0.00 - 0.09"
        ],
        [
         "835",
         "832",
         "38",
         "67.86",
         "Old",
         "39.251",
         "75.0",
         "1",
         "0.00 - 0.09"
        ],
        [
         "857",
         "832",
         "39",
         "70.27",
         "Old",
         "39.251",
         "75.0",
         "1",
         "0.00 - 0.09"
        ],
        [
         "879",
         "832",
         "40",
         "70.71",
         "Old",
         "39.251",
         "75.0",
         "1",
         "0.00 - 0.09"
        ],
        [
         "901",
         "832",
         "41",
         "71.48",
         "Old",
         "39.251",
         "75.0",
         "1",
         "0.00 - 0.09"
        ],
        [
         "923",
         "832",
         "42",
         "71.17",
         "Old",
         "39.251",
         "75.0",
         "1",
         "0.00 - 0.09"
        ],
        [
         "945",
         "832",
         "43",
         "72.07",
         "Old",
         "39.251",
         "75.0",
         "1",
         "0.00 - 0.09"
        ],
        [
         "967",
         "832",
         "44",
         "72.36",
         "Old",
         "39.251",
         "75.0",
         "1",
         "0.00 - 0.09"
        ],
        [
         "989",
         "832",
         "45",
         "72.66",
         "Old",
         "39.251",
         "75.0",
         "1",
         "0.00 - 0.09"
        ],
        [
         "1011",
         "832",
         "46",
         "73.62",
         "Old",
         "39.251",
         "75.0",
         "1",
         "0.00 - 0.09"
        ],
        [
         "1033",
         "832",
         "47",
         "70.85",
         "Old",
         "39.251",
         "75.0",
         "1",
         "0.00 - 0.09"
        ],
        [
         "1055",
         "832",
         "48",
         "68.93",
         "Old",
         "39.251",
         "75.0",
         "1",
         "0.00 - 0.09"
        ],
        [
         "1077",
         "832",
         "49",
         "66.9",
         "Old",
         "39.251",
         "75.0",
         "1",
         "0.00 - 0.09"
        ],
        [
         "1099",
         "832",
         "50",
         "68.08",
         "Old",
         "39.251",
         "75.0",
         "1",
         "0.00 - 0.09"
        ],
        [
         "1121",
         "832",
         "51",
         "69.88",
         "Old",
         "39.251",
         "75.0",
         "1",
         "0.00 - 0.09"
        ],
        [
         "1143",
         "832",
         "52",
         "68.96",
         "Old",
         "39.251",
         "75.0",
         "1",
         "0.00 - 0.09"
        ],
        [
         "1165",
         "832",
         "53",
         "70.52",
         "Old",
         "39.251",
         "75.0",
         "1",
         "0.00 - 0.09"
        ]
       ],
       "shape": {
        "columns": 8,
        "rows": 11378
       }
      },
      "text/html": [
       "<div>\n",
       "<style scoped>\n",
       "    .dataframe tbody tr th:only-of-type {\n",
       "        vertical-align: middle;\n",
       "    }\n",
       "\n",
       "    .dataframe tbody tr th {\n",
       "        vertical-align: top;\n",
       "    }\n",
       "\n",
       "    .dataframe thead th {\n",
       "        text-align: right;\n",
       "    }\n",
       "</style>\n",
       "<table border=\"1\" class=\"dataframe\">\n",
       "  <thead>\n",
       "    <tr style=\"text-align: right;\">\n",
       "      <th></th>\n",
       "      <th>I</th>\n",
       "      <th>J</th>\n",
       "      <th>Value</th>\n",
       "      <th>Method</th>\n",
       "      <th>TTStart_Minutes</th>\n",
       "      <th>TTEnd_Minutes</th>\n",
       "      <th>MAPCLASS</th>\n",
       "      <th>JOBFRACT</th>\n",
       "    </tr>\n",
       "  </thead>\n",
       "  <tbody>\n",
       "    <tr>\n",
       "      <th>65</th>\n",
       "      <td>832</td>\n",
       "      <td>3</td>\n",
       "      <td>72.45</td>\n",
       "      <td>Old</td>\n",
       "      <td>39.251</td>\n",
       "      <td>75.00</td>\n",
       "      <td>1</td>\n",
       "      <td>0.00 - 0.09</td>\n",
       "    </tr>\n",
       "    <tr>\n",
       "      <th>87</th>\n",
       "      <td>832</td>\n",
       "      <td>4</td>\n",
       "      <td>73.51</td>\n",
       "      <td>Old</td>\n",
       "      <td>39.251</td>\n",
       "      <td>75.00</td>\n",
       "      <td>1</td>\n",
       "      <td>0.00 - 0.09</td>\n",
       "    </tr>\n",
       "    <tr>\n",
       "      <th>131</th>\n",
       "      <td>832</td>\n",
       "      <td>6</td>\n",
       "      <td>72.12</td>\n",
       "      <td>Old</td>\n",
       "      <td>39.251</td>\n",
       "      <td>75.00</td>\n",
       "      <td>1</td>\n",
       "      <td>0.00 - 0.09</td>\n",
       "    </tr>\n",
       "    <tr>\n",
       "      <th>153</th>\n",
       "      <td>832</td>\n",
       "      <td>7</td>\n",
       "      <td>72.36</td>\n",
       "      <td>Old</td>\n",
       "      <td>39.251</td>\n",
       "      <td>75.00</td>\n",
       "      <td>1</td>\n",
       "      <td>0.00 - 0.09</td>\n",
       "    </tr>\n",
       "    <tr>\n",
       "      <th>175</th>\n",
       "      <td>832</td>\n",
       "      <td>8</td>\n",
       "      <td>72.90</td>\n",
       "      <td>Old</td>\n",
       "      <td>39.251</td>\n",
       "      <td>75.00</td>\n",
       "      <td>1</td>\n",
       "      <td>0.00 - 0.09</td>\n",
       "    </tr>\n",
       "    <tr>\n",
       "      <th>...</th>\n",
       "      <td>...</td>\n",
       "      <td>...</td>\n",
       "      <td>...</td>\n",
       "      <td>...</td>\n",
       "      <td>...</td>\n",
       "      <td>...</td>\n",
       "      <td>...</td>\n",
       "      <td>...</td>\n",
       "    </tr>\n",
       "    <tr>\n",
       "      <th>239182</th>\n",
       "      <td>1984</td>\n",
       "      <td>3614</td>\n",
       "      <td>36.31</td>\n",
       "      <td>Old</td>\n",
       "      <td>29.251</td>\n",
       "      <td>39.25</td>\n",
       "      <td>2</td>\n",
       "      <td>0.10 - 0.19</td>\n",
       "    </tr>\n",
       "    <tr>\n",
       "      <th>239205</th>\n",
       "      <td>1984</td>\n",
       "      <td>3615</td>\n",
       "      <td>48.10</td>\n",
       "      <td>Old</td>\n",
       "      <td>39.251</td>\n",
       "      <td>75.00</td>\n",
       "      <td>1</td>\n",
       "      <td>0.00 - 0.09</td>\n",
       "    </tr>\n",
       "    <tr>\n",
       "      <th>239271</th>\n",
       "      <td>1984</td>\n",
       "      <td>3618</td>\n",
       "      <td>62.65</td>\n",
       "      <td>Old</td>\n",
       "      <td>39.251</td>\n",
       "      <td>75.00</td>\n",
       "      <td>1</td>\n",
       "      <td>0.00 - 0.09</td>\n",
       "    </tr>\n",
       "    <tr>\n",
       "      <th>239293</th>\n",
       "      <td>1984</td>\n",
       "      <td>3619</td>\n",
       "      <td>60.81</td>\n",
       "      <td>Old</td>\n",
       "      <td>39.251</td>\n",
       "      <td>75.00</td>\n",
       "      <td>1</td>\n",
       "      <td>0.00 - 0.09</td>\n",
       "    </tr>\n",
       "    <tr>\n",
       "      <th>239315</th>\n",
       "      <td>1984</td>\n",
       "      <td>3620</td>\n",
       "      <td>65.27</td>\n",
       "      <td>Old</td>\n",
       "      <td>39.251</td>\n",
       "      <td>75.00</td>\n",
       "      <td>1</td>\n",
       "      <td>0.00 - 0.09</td>\n",
       "    </tr>\n",
       "  </tbody>\n",
       "</table>\n",
       "<p>11378 rows × 8 columns</p>\n",
       "</div>"
      ],
      "text/plain": [
       "           I     J  Value Method  TTStart_Minutes  TTEnd_Minutes  MAPCLASS  \\\n",
       "65       832     3  72.45    Old           39.251          75.00         1   \n",
       "87       832     4  73.51    Old           39.251          75.00         1   \n",
       "131      832     6  72.12    Old           39.251          75.00         1   \n",
       "153      832     7  72.36    Old           39.251          75.00         1   \n",
       "175      832     8  72.90    Old           39.251          75.00         1   \n",
       "...      ...   ...    ...    ...              ...            ...       ...   \n",
       "239182  1984  3614  36.31    Old           29.251          39.25         2   \n",
       "239205  1984  3615  48.10    Old           39.251          75.00         1   \n",
       "239271  1984  3618  62.65    Old           39.251          75.00         1   \n",
       "239293  1984  3619  60.81    Old           39.251          75.00         1   \n",
       "239315  1984  3620  65.27    Old           39.251          75.00         1   \n",
       "\n",
       "           JOBFRACT  \n",
       "65      0.00 - 0.09  \n",
       "87      0.00 - 0.09  \n",
       "131     0.00 - 0.09  \n",
       "153     0.00 - 0.09  \n",
       "175     0.00 - 0.09  \n",
       "...             ...  \n",
       "239182  0.10 - 0.19  \n",
       "239205  0.00 - 0.09  \n",
       "239271  0.00 - 0.09  \n",
       "239293  0.00 - 0.09  \n",
       "239315  0.00 - 0.09  \n",
       "\n",
       "[11378 rows x 8 columns]"
      ]
     },
     "metadata": {},
     "output_type": "display_data"
    }
   ],
   "source": [
    "# Performing the join based on the Value being between TTStart_Minutes and TTEnd_Minutes\n",
    "merged_df = extracted_data_df.merge(\n",
    "    travel_shed_ato_classes_df,\n",
    "    how=\"cross\"\n",
    ").query(\"TTStart_Minutes <= Value < TTEnd_Minutes\")\n",
    "\n",
    "# Display the merged DataFrame\n",
    "display(merged_df)\n"
   ]
  },
  {
   "cell_type": "code",
   "execution_count": null,
   "metadata": {},
   "outputs": [],
   "source": []
  },
  {
   "cell_type": "code",
   "execution_count": 35,
   "metadata": {},
   "outputs": [
    {
     "name": "stderr",
     "output_type": "stream",
     "text": [
      "C:\\Users\\bhereth\\AppData\\Local\\Temp\\ipykernel_15124\\273152181.py:75: UserWarning: Geometry is in a geographic CRS. Results from 'centroid' are likely incorrect. Use 'GeoSeries.to_crs()' to re-project geometries to a projected CRS before this operation.\n",
      "\n",
      "  center = [subset_geo.geometry.centroid.y.mean(), subset_geo.geometry.centroid.x.mean()]\n"
     ]
    },
    {
     "name": "stdout",
     "output_type": "stream",
     "text": [
      "Saved: output_maps\\832_New_Method.png\n",
      "Saved: output_maps\\832_Old_Method.png\n"
     ]
    },
    {
     "name": "stderr",
     "output_type": "stream",
     "text": [
      "C:\\Users\\bhereth\\AppData\\Local\\Temp\\ipykernel_15124\\273152181.py:75: UserWarning: Geometry is in a geographic CRS. Results from 'centroid' are likely incorrect. Use 'GeoSeries.to_crs()' to re-project geometries to a projected CRS before this operation.\n",
      "\n",
      "  center = [subset_geo.geometry.centroid.y.mean(), subset_geo.geometry.centroid.x.mean()]\n"
     ]
    },
    {
     "name": "stdout",
     "output_type": "stream",
     "text": [
      "Saved: output_maps\\1629_New_Method.png\n",
      "Saved: output_maps\\1629_Old_Method.png\n"
     ]
    },
    {
     "name": "stderr",
     "output_type": "stream",
     "text": [
      "C:\\Users\\bhereth\\AppData\\Local\\Temp\\ipykernel_15124\\273152181.py:75: UserWarning: Geometry is in a geographic CRS. Results from 'centroid' are likely incorrect. Use 'GeoSeries.to_crs()' to re-project geometries to a projected CRS before this operation.\n",
      "\n",
      "  center = [subset_geo.geometry.centroid.y.mean(), subset_geo.geometry.centroid.x.mean()]\n"
     ]
    },
    {
     "name": "stdout",
     "output_type": "stream",
     "text": [
      "Saved: output_maps\\1984_New_Method.png\n",
      "Saved: output_maps\\1984_Old_Method.png\n",
      "All PNG maps saved in 'output_maps' folder.\n"
     ]
    }
   ],
   "source": [
    "# Load the TAZ GeoJSON file\n",
    "taz_geo = gpd.read_file(\"data/WFv910_TAZ.geojson\")\n",
    "taz_df = pd.read_csv(\"data/WFv910_TAZ.csv\")\n",
    "taz_geo_merged = pd.merge(taz_geo, taz_df, on=\"TAZID\")\n",
    "taz_geo_merged = taz_geo_merged[taz_geo_merged['REMM']==1]\n",
    "taz_geo = taz_geo_merged\n",
    "#display(taz_geo_merged)\n",
    "\n",
    "# Merge TAZ data with the extracted dataset using 'TAZID'\n",
    "merged_geo = taz_geo.merge(merged_df, left_on=\"TAZID\", right_on=\"J\")\n",
    "\n",
    "# Get unique 'I' values\n",
    "unique_I_values = merged_geo[\"I\"].unique()\n",
    "\n",
    "# Set up Chrome WebDriver for capturing PNGs\n",
    "chrome_options = webdriver.ChromeOptions()\n",
    "chrome_options.add_argument(\"--headless\")\n",
    "chrome_options.add_argument(\"--window-size=1200x800\")\n",
    "chrome_options.add_argument(\"--no-sandbox\")\n",
    "\n",
    "driver = webdriver.Chrome(service=Service(ChromeDriverManager().install()), options=chrome_options)\n",
    "\n",
    "# Custom RGB color palette for MAPCLASS (converted to HEX)\n",
    "mapclass_colors = {\n",
    "    11: \"#ACFA70\",  # (172,250,112)\n",
    "    10: \"#70EA80\",  # (112,234,128)\n",
    "    9:  \"#23D890\",  # (35,216,144)\n",
    "    8:  \"#00C49E\",  # (0,196,158)\n",
    "    7:  \"#00ADA4\",  # (0,173,164)\n",
    "    6:  \"#0097A3\",  # (0,151,163)\n",
    "    5:  \"#00829D\",  # (0,130,157)\n",
    "    4:  \"#006D95\",  # (0,109,149)\n",
    "    3:  \"#005886\",  # (0,88,134)\n",
    "    2:  \"#204370\",  # (32,67,112)\n",
    "    1:  \"#292F56\",  # (41,47,86)\n",
    "}\n",
    "\n",
    "# Function to create a Folium map with custom colors and matching polygon borders\n",
    "def create_map(geo_data, title, center, zoom_level):\n",
    "    \"\"\"Creates a Folium map with a custom color scheme and matching polygon border colors.\"\"\"\n",
    "    map_obj = folium.Map(location=center, zoom_start=zoom_level)\n",
    "\n",
    "    # Style function to apply custom colors and matching border color\n",
    "    def style_function(feature):\n",
    "        mapclass = feature[\"properties\"][\"MAPCLASS\"]\n",
    "        fill_color = mapclass_colors.get(mapclass, \"#FFFFFF\")  # Default to white if not found\n",
    "        return {\n",
    "            \"fillColor\": fill_color,\n",
    "            \"color\": fill_color,  # **MATCH BORDER TO FILL COLOR**\n",
    "            \"weight\": 0.5,  # Slight weight to avoid slivers\n",
    "            \"fillOpacity\": 0.85\n",
    "        }\n",
    "\n",
    "    folium.GeoJson(\n",
    "        geo_data,\n",
    "        style_function=style_function,\n",
    "        tooltip=folium.GeoJsonTooltip(fields=[\"MAPCLASS\"])\n",
    "    ).add_to(map_obj)\n",
    "\n",
    "    return map_obj\n",
    "\n",
    "# Folder to store PNGs\n",
    "output_folder = \"output_maps\"\n",
    "os.makedirs(output_folder, exist_ok=True)\n",
    "\n",
    "# Loop through each unique I value to create separate maps\n",
    "for i_val in unique_I_values:\n",
    "    subset_geo = merged_geo[merged_geo[\"I\"] == i_val]\n",
    "\n",
    "    # Separate datasets for New and Old methods\n",
    "    new_geo = subset_geo[subset_geo[\"Method\"] == \"New\"]\n",
    "    old_geo = subset_geo[subset_geo[\"Method\"] == \"Old\"]\n",
    "\n",
    "    # Define a consistent zoom extent based on the full dataset for `I`\n",
    "    center = [subset_geo.geometry.centroid.y.mean(), subset_geo.geometry.centroid.x.mean()]\n",
    "    zoom_level = 10  # Adjust if necessary\n",
    "\n",
    "    # Create maps with the same zoom extent\n",
    "    new_map = create_map(new_geo, f\"New Method - I={i_val}\", center, zoom_level)\n",
    "    old_map = create_map(old_geo, f\"Old Method - I={i_val}\", center, zoom_level)\n",
    "\n",
    "    # Save maps as temporary HTML files\n",
    "    new_map_html = f\"output_html/map_temp_new_I_{i_val}.html\"\n",
    "    old_map_html = f\"output_html/map_temp_old_I_{i_val}.html\"\n",
    "    \n",
    "    new_map.save(new_map_html)\n",
    "    old_map.save(old_map_html)\n",
    "\n",
    "    # Convert HTML to PNG\n",
    "    def save_as_png(html_file, output_file):\n",
    "        \"\"\"Renders the HTML map and saves it as a PNG image.\"\"\"\n",
    "        file_url = f\"file://{os.path.abspath(html_file)}\"\n",
    "        driver.get(file_url)\n",
    "        driver.save_screenshot(output_file)\n",
    "        print(f\"Saved: {output_file}\")\n",
    "\n",
    "    # File names with I at the beginning\n",
    "    new_png = os.path.join(output_folder, f\"{i_val}_New_Method.png\")\n",
    "    old_png = os.path.join(output_folder, f\"{i_val}_Old_Method.png\")\n",
    "\n",
    "    save_as_png(new_map_html, new_png)\n",
    "    save_as_png(old_map_html, old_png)\n",
    "\n",
    "    # Clean up temporary HTML files\n",
    "    os.remove(new_map_html)\n",
    "    os.remove(old_map_html)\n",
    "\n",
    "# Close the WebDriver\n",
    "driver.quit()\n",
    "\n",
    "print(f\"All PNG maps saved in '{output_folder}' folder.\")\n"
   ]
  }
 ],
 "metadata": {
  "kernelspec": {
   "display_name": "march2024",
   "language": "python",
   "name": "python3"
  },
  "language_info": {
   "codemirror_mode": {
    "name": "ipython",
    "version": 3
   },
   "file_extension": ".py",
   "mimetype": "text/x-python",
   "name": "python",
   "nbconvert_exporter": "python",
   "pygments_lexer": "ipython3",
   "version": "3.9.19"
  }
 },
 "nbformat": 4,
 "nbformat_minor": 2
}
