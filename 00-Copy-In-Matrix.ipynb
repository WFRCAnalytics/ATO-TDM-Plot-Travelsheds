{
 "cells": [
  {
   "cell_type": "code",
   "execution_count": 1,
   "metadata": {},
   "outputs": [
    {
     "name": "stdout",
     "output_type": "stream",
     "text": [
      "File copied successfully to data\\input_matrix.mtx\n"
     ]
    }
   ],
   "source": [
    "import shutil\n",
    "import os\n",
    "\n",
    "# Define source and destination paths\n",
    "source_path = r\"E:\\GitHub\\WF-TDM-v9x\\Scenarios\\v910-official\\BY_2019\\5_AssignHwy\\5_FinalNetSkims\\Skm_PM.mtx\"\n",
    "destination_folder = \"data\"\n",
    "\n",
    "# Ensure the destination folder exists\n",
    "os.makedirs(destination_folder, exist_ok=True)\n",
    "\n",
    "# Construct full destination path\n",
    "destination_path = os.path.join(destination_folder, \"input_matrix.mtx\")\n",
    "\n",
    "# Copy file\n",
    "shutil.copy2(source_path, destination_path)\n",
    "\n",
    "print(f\"File copied successfully to {destination_path}\")\n"
   ]
  }
 ],
 "metadata": {
  "kernelspec": {
   "display_name": "march2024",
   "language": "python",
   "name": "python3"
  },
  "language_info": {
   "codemirror_mode": {
    "name": "ipython",
    "version": 3
   },
   "file_extension": ".py",
   "mimetype": "text/x-python",
   "name": "python",
   "nbconvert_exporter": "python",
   "pygments_lexer": "ipython3",
   "version": "3.9.19"
  }
 },
 "nbformat": 4,
 "nbformat_minor": 2
}
