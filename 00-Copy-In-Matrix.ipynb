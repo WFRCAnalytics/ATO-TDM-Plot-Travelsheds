{
 "cells": [
  {
   "cell_type": "code",
   "execution_count": null,
   "metadata": {},
   "outputs": [
    {
     "name": "stdout",
     "output_type": "stream",
     "text": [
      "File copied successfully to data\\input_matrix_roads.mtx\n",
      "File copied successfully to data\\input_matrix_transit.mtx\n"
     ]
    }
   ],
   "source": [
    "import shutil\n",
    "import os\n",
    "\n",
    "# Define source and destination paths\n",
    "matrix_filenames = [r\"E:\\GitHub\\WF-TDM-v9x\\Scenarios\\v910-official\\BY_2019\\5_AssignHwy\\5_FinalNetSkims\\Skm_PM.mtx\",\n",
    "                    r\"E:\\GitHub\\WF-TDM-v9x\\Scenarios\\v910-official\\BY_2019\\4_ModeChoice\\1a_Skims\\1Skm_TotTransitTime_Pk.mtx\"]\n",
    "source_output_names = [\"input_matrix_auto.mtx\",\n",
    "                       \"input_matrix_transit.mtx\"]\n",
    "\n",
    "destination_folder = \"data\"\n",
    "\n",
    "# Ensure the destination folder exists\n",
    "os.makedirs(destination_folder, exist_ok=True)\n",
    "\n",
    "# Copy file\n",
    "for matrix_filename, source_output_name in zip(matrix_filenames, source_output_names):\n",
    "    destination_path = os.path.join(destination_folder, source_output_name)\n",
    "    shutil.copy2(matrix_filename, destination_path)\n",
    "\n",
    "    print(f\"File copied successfully to {destination_path}\")\n"
   ]
  }
 ],
 "metadata": {
  "kernelspec": {
   "display_name": "march2024",
   "language": "python",
   "name": "python3"
  },
  "language_info": {
   "codemirror_mode": {
    "name": "ipython",
    "version": 3
   },
   "file_extension": ".py",
   "mimetype": "text/x-python",
   "name": "python",
   "nbconvert_exporter": "python",
   "pygments_lexer": "ipython3",
   "version": "3.9.19"
  }
 },
 "nbformat": 4,
 "nbformat_minor": 2
}
