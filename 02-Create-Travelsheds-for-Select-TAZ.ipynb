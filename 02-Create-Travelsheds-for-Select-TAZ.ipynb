{
 "cells": [
  {
   "cell_type": "code",
   "execution_count": 1,
   "metadata": {},
   "outputs": [],
   "source": [
    "import geopandas as gpd\n",
    "import pandas as pd\n",
    "import folium\n",
    "from branca.colormap import linear\n",
    "import os\n",
    "from selenium import webdriver\n",
    "from selenium.webdriver.chrome.service import Service\n",
    "from webdriver_manager.chrome import ChromeDriverManager\n",
    "import openmatrix as omx"
   ]
  },
  {
   "cell_type": "code",
   "execution_count": 2,
   "metadata": {},
   "outputs": [
    {
     "data": {
      "application/vnd.microsoft.datawrangler.viewer.v0+json": {
       "columns": [
        {
         "name": "index",
         "rawType": "int64",
         "type": "integer"
        },
        {
         "name": "AutoTransit",
         "rawType": "object",
         "type": "string"
        },
        {
         "name": "omx_filename",
         "rawType": "object",
         "type": "string"
        }
       ],
       "conversionMethod": "pd.DataFrame",
       "ref": "2089ad94-e666-4593-83a9-3ee6e356b417",
       "rows": [
        [
         "0",
         "auto",
         "data/input_matrix_auto.omx"
        ],
        [
         "1",
         "transit",
         "data/input_matrix_transit.omx"
        ]
       ],
       "shape": {
        "columns": 2,
        "rows": 2
       }
      },
      "text/html": [
       "<div>\n",
       "<style scoped>\n",
       "    .dataframe tbody tr th:only-of-type {\n",
       "        vertical-align: middle;\n",
       "    }\n",
       "\n",
       "    .dataframe tbody tr th {\n",
       "        vertical-align: top;\n",
       "    }\n",
       "\n",
       "    .dataframe thead th {\n",
       "        text-align: right;\n",
       "    }\n",
       "</style>\n",
       "<table border=\"1\" class=\"dataframe\">\n",
       "  <thead>\n",
       "    <tr style=\"text-align: right;\">\n",
       "      <th></th>\n",
       "      <th>AutoTransit</th>\n",
       "      <th>omx_filename</th>\n",
       "    </tr>\n",
       "  </thead>\n",
       "  <tbody>\n",
       "    <tr>\n",
       "      <th>0</th>\n",
       "      <td>auto</td>\n",
       "      <td>data/input_matrix_auto.omx</td>\n",
       "    </tr>\n",
       "    <tr>\n",
       "      <th>1</th>\n",
       "      <td>transit</td>\n",
       "      <td>data/input_matrix_transit.omx</td>\n",
       "    </tr>\n",
       "  </tbody>\n",
       "</table>\n",
       "</div>"
      ],
      "text/plain": [
       "  AutoTransit                   omx_filename\n",
       "0        auto     data/input_matrix_auto.omx\n",
       "1     transit  data/input_matrix_transit.omx"
      ]
     },
     "metadata": {},
     "output_type": "display_data"
    },
    {
     "data": {
      "application/vnd.microsoft.datawrangler.viewer.v0+json": {
       "columns": [
        {
         "name": "index",
         "rawType": "int64",
         "type": "integer"
        },
        {
         "name": "AutoTransit",
         "rawType": "object",
         "type": "string"
        },
        {
         "name": "AccessMode",
         "rawType": "object",
         "type": "string"
        },
        {
         "name": "matrices_to_get_minimum",
         "rawType": "object",
         "type": "unknown"
        }
       ],
       "conversionMethod": "pd.DataFrame",
       "ref": "ef029f06-e15d-4065-80a7-ae9b6e4834c6",
       "rows": [
        [
         "0",
         "auto",
         "none",
         "['GP_TotTime']"
        ],
        [
         "1",
         "transit",
         "walk",
         "['w4time', 'w5time', 'w6time', 'w7time', 'w8time', 'w9time']"
        ],
        [
         "2",
         "transit",
         "drive",
         "['d4time', 'd5time', 'd6time', 'd7time', 'd8time', 'd9time']"
        ]
       ],
       "shape": {
        "columns": 3,
        "rows": 3
       }
      },
      "text/html": [
       "<div>\n",
       "<style scoped>\n",
       "    .dataframe tbody tr th:only-of-type {\n",
       "        vertical-align: middle;\n",
       "    }\n",
       "\n",
       "    .dataframe tbody tr th {\n",
       "        vertical-align: top;\n",
       "    }\n",
       "\n",
       "    .dataframe thead th {\n",
       "        text-align: right;\n",
       "    }\n",
       "</style>\n",
       "<table border=\"1\" class=\"dataframe\">\n",
       "  <thead>\n",
       "    <tr style=\"text-align: right;\">\n",
       "      <th></th>\n",
       "      <th>AutoTransit</th>\n",
       "      <th>AccessMode</th>\n",
       "      <th>matrices_to_get_minimum</th>\n",
       "    </tr>\n",
       "  </thead>\n",
       "  <tbody>\n",
       "    <tr>\n",
       "      <th>0</th>\n",
       "      <td>auto</td>\n",
       "      <td>none</td>\n",
       "      <td>[GP_TotTime]</td>\n",
       "    </tr>\n",
       "    <tr>\n",
       "      <th>1</th>\n",
       "      <td>transit</td>\n",
       "      <td>walk</td>\n",
       "      <td>[w4time, w5time, w6time, w7time, w8time, w9time]</td>\n",
       "    </tr>\n",
       "    <tr>\n",
       "      <th>2</th>\n",
       "      <td>transit</td>\n",
       "      <td>drive</td>\n",
       "      <td>[d4time, d5time, d6time, d7time, d8time, d9time]</td>\n",
       "    </tr>\n",
       "  </tbody>\n",
       "</table>\n",
       "</div>"
      ],
      "text/plain": [
       "  AutoTransit AccessMode                           matrices_to_get_minimum\n",
       "0        auto       none                                      [GP_TotTime]\n",
       "1     transit       walk  [w4time, w5time, w6time, w7time, w8time, w9time]\n",
       "2     transit      drive  [d4time, d5time, d6time, d7time, d8time, d9time]"
      ]
     },
     "metadata": {},
     "output_type": "display_data"
    }
   ],
   "source": [
    "# List of TAZ rows to extract\n",
    "taz_rows_to_extract_df = pd.DataFrame([\n",
    "    [ 832, 'Bountiful'    ],\n",
    "    [1629, 'Murray'       ],\n",
    "    [1984, 'South Jordan' ],\n",
    "    [3167, 'Spanish Fork' ],\n",
    "    [2845, 'MAG Office'   ],\n",
    "    [2513, 'Saratoga'      ]\n",
    "], columns=['taz_id','map_label'])\n",
    "\n",
    "taz_rows_to_extract = taz_rows_to_extract_df['taz_id'].drop_duplicates().to_list()\n",
    "\n",
    "output_csv = \"intermediate/TAZ-PA-Time.csv\"\n",
    "\n",
    "# Define the input OMX file and output CSV file\n",
    "omx_files_df = pd.DataFrame([\n",
    "    ['auto', 'data/input_matrix_auto.omx'],\n",
    "    ['transit', 'data/input_matrix_transit.omx']\n",
    "], columns=['AutoTransit','omx_filename'])\n",
    "display(omx_files_df)\n",
    "\n",
    "matrices_for_extraction_df = pd.DataFrame([\n",
    "    ['auto','none',['GP_TotTime']],#,'MG_TotTime']],\n",
    "    ['transit','walk',['w4time','w5time','w6time','w7time','w8time','w9time']],\n",
    "    ['transit','drive',['d4time','d5time','d6time','d7time','d8time','d9time']],\n",
    "], columns=['AutoTransit','AccessMode','matrices_to_get_minimum'])\n",
    "display(matrices_for_extraction_df)"
   ]
  },
  {
   "cell_type": "code",
   "execution_count": 3,
   "metadata": {},
   "outputs": [
    {
     "data": {
      "application/vnd.microsoft.datawrangler.viewer.v0+json": {
       "columns": [
        {
         "name": "index",
         "rawType": "int64",
         "type": "integer"
        },
        {
         "name": "TAZ_P",
         "rawType": "int64",
         "type": "integer"
        },
        {
         "name": "TAZ_A",
         "rawType": "int64",
         "type": "integer"
        },
        {
         "name": "Value",
         "rawType": "float64",
         "type": "float"
        },
        {
         "name": "AutoTransit",
         "rawType": "object",
         "type": "string"
        },
        {
         "name": "AccessMode",
         "rawType": "object",
         "type": "string"
        }
       ],
       "conversionMethod": "pd.DataFrame",
       "ref": "82984b91-3734-424b-a4ef-f264ccd5fc76",
       "rows": [
        [
         "0",
         "832",
         "1",
         "77.7",
         "auto",
         "none"
        ],
        [
         "1",
         "832",
         "2",
         "77.14",
         "auto",
         "none"
        ],
        [
         "2",
         "832",
         "3",
         "72.45",
         "auto",
         "none"
        ],
        [
         "3",
         "832",
         "4",
         "73.51",
         "auto",
         "none"
        ],
        [
         "4",
         "832",
         "5",
         "76.02",
         "auto",
         "none"
        ],
        [
         "5",
         "832",
         "6",
         "72.12",
         "auto",
         "none"
        ],
        [
         "6",
         "832",
         "7",
         "72.36",
         "auto",
         "none"
        ],
        [
         "7",
         "832",
         "8",
         "72.9",
         "auto",
         "none"
        ],
        [
         "8",
         "832",
         "9",
         "69.6",
         "auto",
         "none"
        ],
        [
         "9",
         "832",
         "10",
         "69.32",
         "auto",
         "none"
        ],
        [
         "10",
         "832",
         "11",
         "70.43",
         "auto",
         "none"
        ],
        [
         "11",
         "832",
         "12",
         "68.64",
         "auto",
         "none"
        ],
        [
         "12",
         "832",
         "13",
         "67.06",
         "auto",
         "none"
        ],
        [
         "13",
         "832",
         "14",
         "67.53",
         "auto",
         "none"
        ],
        [
         "14",
         "832",
         "15",
         "71.37",
         "auto",
         "none"
        ],
        [
         "15",
         "832",
         "16",
         "69.41",
         "auto",
         "none"
        ],
        [
         "16",
         "832",
         "17",
         "68.63",
         "auto",
         "none"
        ],
        [
         "17",
         "832",
         "18",
         "68.0",
         "auto",
         "none"
        ],
        [
         "18",
         "832",
         "19",
         "70.42",
         "auto",
         "none"
        ],
        [
         "19",
         "832",
         "20",
         "71.89",
         "auto",
         "none"
        ],
        [
         "20",
         "832",
         "21",
         "68.9",
         "auto",
         "none"
        ],
        [
         "21",
         "832",
         "22",
         "69.2",
         "auto",
         "none"
        ],
        [
         "22",
         "832",
         "23",
         "69.6",
         "auto",
         "none"
        ],
        [
         "23",
         "832",
         "24",
         "70.06",
         "auto",
         "none"
        ],
        [
         "24",
         "832",
         "25",
         "70.85",
         "auto",
         "none"
        ],
        [
         "25",
         "832",
         "26",
         "71.13",
         "auto",
         "none"
        ],
        [
         "26",
         "832",
         "27",
         "68.94",
         "auto",
         "none"
        ],
        [
         "27",
         "832",
         "28",
         "69.52",
         "auto",
         "none"
        ],
        [
         "28",
         "832",
         "29",
         "70.43",
         "auto",
         "none"
        ],
        [
         "29",
         "832",
         "30",
         "71.27",
         "auto",
         "none"
        ],
        [
         "30",
         "832",
         "31",
         "70.99",
         "auto",
         "none"
        ],
        [
         "31",
         "832",
         "32",
         "71.63",
         "auto",
         "none"
        ],
        [
         "32",
         "832",
         "33",
         "71.84",
         "auto",
         "none"
        ],
        [
         "33",
         "832",
         "34",
         "72.23",
         "auto",
         "none"
        ],
        [
         "34",
         "832",
         "35",
         "72.59",
         "auto",
         "none"
        ],
        [
         "35",
         "832",
         "36",
         "73.79",
         "auto",
         "none"
        ],
        [
         "36",
         "832",
         "37",
         "66.86",
         "auto",
         "none"
        ],
        [
         "37",
         "832",
         "38",
         "67.86",
         "auto",
         "none"
        ],
        [
         "38",
         "832",
         "39",
         "70.27",
         "auto",
         "none"
        ],
        [
         "39",
         "832",
         "40",
         "70.71",
         "auto",
         "none"
        ],
        [
         "40",
         "832",
         "41",
         "71.48",
         "auto",
         "none"
        ],
        [
         "41",
         "832",
         "42",
         "71.17",
         "auto",
         "none"
        ],
        [
         "42",
         "832",
         "43",
         "72.07",
         "auto",
         "none"
        ],
        [
         "43",
         "832",
         "44",
         "72.36",
         "auto",
         "none"
        ],
        [
         "44",
         "832",
         "45",
         "72.66",
         "auto",
         "none"
        ],
        [
         "45",
         "832",
         "46",
         "73.62",
         "auto",
         "none"
        ],
        [
         "46",
         "832",
         "47",
         "70.85",
         "auto",
         "none"
        ],
        [
         "47",
         "832",
         "48",
         "68.93",
         "auto",
         "none"
        ],
        [
         "48",
         "832",
         "49",
         "66.9",
         "auto",
         "none"
        ],
        [
         "49",
         "832",
         "50",
         "68.08",
         "auto",
         "none"
        ]
       ],
       "shape": {
        "columns": 5,
        "rows": 36645
       }
      },
      "text/html": [
       "<div>\n",
       "<style scoped>\n",
       "    .dataframe tbody tr th:only-of-type {\n",
       "        vertical-align: middle;\n",
       "    }\n",
       "\n",
       "    .dataframe tbody tr th {\n",
       "        vertical-align: top;\n",
       "    }\n",
       "\n",
       "    .dataframe thead th {\n",
       "        text-align: right;\n",
       "    }\n",
       "</style>\n",
       "<table border=\"1\" class=\"dataframe\">\n",
       "  <thead>\n",
       "    <tr style=\"text-align: right;\">\n",
       "      <th></th>\n",
       "      <th>TAZ_P</th>\n",
       "      <th>TAZ_A</th>\n",
       "      <th>Value</th>\n",
       "      <th>AutoTransit</th>\n",
       "      <th>AccessMode</th>\n",
       "    </tr>\n",
       "  </thead>\n",
       "  <tbody>\n",
       "    <tr>\n",
       "      <th>0</th>\n",
       "      <td>832</td>\n",
       "      <td>1</td>\n",
       "      <td>77.70</td>\n",
       "      <td>auto</td>\n",
       "      <td>none</td>\n",
       "    </tr>\n",
       "    <tr>\n",
       "      <th>1</th>\n",
       "      <td>832</td>\n",
       "      <td>2</td>\n",
       "      <td>77.14</td>\n",
       "      <td>auto</td>\n",
       "      <td>none</td>\n",
       "    </tr>\n",
       "    <tr>\n",
       "      <th>2</th>\n",
       "      <td>832</td>\n",
       "      <td>3</td>\n",
       "      <td>72.45</td>\n",
       "      <td>auto</td>\n",
       "      <td>none</td>\n",
       "    </tr>\n",
       "    <tr>\n",
       "      <th>3</th>\n",
       "      <td>832</td>\n",
       "      <td>4</td>\n",
       "      <td>73.51</td>\n",
       "      <td>auto</td>\n",
       "      <td>none</td>\n",
       "    </tr>\n",
       "    <tr>\n",
       "      <th>4</th>\n",
       "      <td>832</td>\n",
       "      <td>5</td>\n",
       "      <td>76.02</td>\n",
       "      <td>auto</td>\n",
       "      <td>none</td>\n",
       "    </tr>\n",
       "    <tr>\n",
       "      <th>...</th>\n",
       "      <td>...</td>\n",
       "      <td>...</td>\n",
       "      <td>...</td>\n",
       "      <td>...</td>\n",
       "      <td>...</td>\n",
       "    </tr>\n",
       "    <tr>\n",
       "      <th>36640</th>\n",
       "      <td>2513</td>\n",
       "      <td>3449</td>\n",
       "      <td>93.06</td>\n",
       "      <td>transit</td>\n",
       "      <td>drive</td>\n",
       "    </tr>\n",
       "    <tr>\n",
       "      <th>36641</th>\n",
       "      <td>2513</td>\n",
       "      <td>3453</td>\n",
       "      <td>92.17</td>\n",
       "      <td>transit</td>\n",
       "      <td>drive</td>\n",
       "    </tr>\n",
       "    <tr>\n",
       "      <th>36642</th>\n",
       "      <td>2513</td>\n",
       "      <td>3454</td>\n",
       "      <td>94.62</td>\n",
       "      <td>transit</td>\n",
       "      <td>drive</td>\n",
       "    </tr>\n",
       "    <tr>\n",
       "      <th>36643</th>\n",
       "      <td>2513</td>\n",
       "      <td>3455</td>\n",
       "      <td>92.05</td>\n",
       "      <td>transit</td>\n",
       "      <td>drive</td>\n",
       "    </tr>\n",
       "    <tr>\n",
       "      <th>36644</th>\n",
       "      <td>2513</td>\n",
       "      <td>3461</td>\n",
       "      <td>94.36</td>\n",
       "      <td>transit</td>\n",
       "      <td>drive</td>\n",
       "    </tr>\n",
       "  </tbody>\n",
       "</table>\n",
       "<p>36645 rows × 5 columns</p>\n",
       "</div>"
      ],
      "text/plain": [
       "       TAZ_P  TAZ_A  Value AutoTransit AccessMode\n",
       "0        832      1  77.70        auto       none\n",
       "1        832      2  77.14        auto       none\n",
       "2        832      3  72.45        auto       none\n",
       "3        832      4  73.51        auto       none\n",
       "4        832      5  76.02        auto       none\n",
       "...      ...    ...    ...         ...        ...\n",
       "36640   2513   3449  93.06     transit      drive\n",
       "36641   2513   3453  92.17     transit      drive\n",
       "36642   2513   3454  94.62     transit      drive\n",
       "36643   2513   3455  92.05     transit      drive\n",
       "36644   2513   3461  94.36     transit      drive\n",
       "\n",
       "[36645 rows x 5 columns]"
      ]
     },
     "metadata": {},
     "output_type": "display_data"
    }
   ],
   "source": [
    "# Convert TAZ rows to zero-based index\n",
    "matrix_rows_to_extract = [i - 1 for i in taz_rows_to_extract]\n",
    "\n",
    "# Initialize list to store extracted data\n",
    "extracted_data = []\n",
    "\n",
    "# Loop through OMX files\n",
    "for _, row_files in omx_files_df.iterrows():\n",
    "    auto_transit = row_files['AutoTransit']\n",
    "\n",
    "    # Open OMX file\n",
    "    with omx.open_file(row_files['omx_filename'], 'r') as omx_data:\n",
    "        \n",
    "        # Filter matrices for the current AutoTransit mode\n",
    "        matrices_for_extraction_filtered_df = matrices_for_extraction_df[\n",
    "            matrices_for_extraction_df['AutoTransit'] == auto_transit\n",
    "        ]\n",
    "\n",
    "        # Loop over each AutoTransit & AccessMode combination\n",
    "        for _, row in matrices_for_extraction_filtered_df.iterrows():\n",
    "            access_mode = row[\"AccessMode\"]\n",
    "            matrices_to_extract = row[\"matrices_to_get_minimum\"]\n",
    "\n",
    "            # Extract and compute the minimum values across matrices for each I-J pair\n",
    "            for i in matrix_rows_to_extract:\n",
    "                for j in range(omx_data[matrices_to_extract[0]].shape[1]):  # Iterate over all columns (J values)\n",
    "                    \n",
    "                    # Extract values across all matrices at (i, j), filtering out 0 values\n",
    "                    matrix_values = [omx_data[matrix][i, j] for matrix in matrices_to_extract]\n",
    "                    non_zero_values = [val for val in matrix_values if val > 0]  # Filter out 0s\n",
    "                    \n",
    "                    # Get the minimum value across non-zero matrices (if any remain)\n",
    "                    min_value = min(non_zero_values) if non_zero_values else None\n",
    "                    \n",
    "                    # Append extracted data only if there's a valid minimum\n",
    "                    if min_value is not None:\n",
    "                        extracted_data.append([i + 1, j + 1, min_value, auto_transit, access_mode])\n",
    "\n",
    "# Convert to DataFrame\n",
    "extracted_data_df = pd.DataFrame(extracted_data, columns=['TAZ_P', 'TAZ_A', 'Value', 'AutoTransit', 'AccessMode'])\n",
    "display(extracted_data_df)"
   ]
  },
  {
   "cell_type": "code",
   "execution_count": 4,
   "metadata": {},
   "outputs": [
    {
     "name": "stdout",
     "output_type": "stream",
     "text": [
      "Extracted data saved to intermediate/TAZ-PA-Time.csv\n"
     ]
    }
   ],
   "source": [
    "# Save to CSV\n",
    "extracted_data_df.to_csv(output_csv, index=False)\n",
    "\n",
    "print(f\"Extracted data saved to {output_csv}\")"
   ]
  },
  {
   "cell_type": "code",
   "execution_count": 5,
   "metadata": {},
   "outputs": [
    {
     "data": {
      "application/vnd.microsoft.datawrangler.viewer.v0+json": {
       "columns": [
        {
         "name": "index",
         "rawType": "int64",
         "type": "integer"
        },
        {
         "name": "Method",
         "rawType": "object",
         "type": "string"
        },
        {
         "name": "AutoTransit",
         "rawType": "object",
         "type": "string"
        },
        {
         "name": "AccessMode",
         "rawType": "object",
         "type": "string"
        },
        {
         "name": "TTStart_Minutes",
         "rawType": "float64",
         "type": "float"
        },
        {
         "name": "TTEnd_Minutes_Inclusive",
         "rawType": "float64",
         "type": "float"
        },
        {
         "name": "MapClass",
         "rawType": "int64",
         "type": "integer"
        },
        {
         "name": "JobFract",
         "rawType": "object",
         "type": "string"
        }
       ],
       "conversionMethod": "pd.DataFrame",
       "ref": "87d98adc-0cd5-4e79-98b2-fdd67b58d4f8",
       "rows": [
        [
         "0",
         "New",
         "auto",
         "none",
         "0.0",
         "10.0",
         "11",
         "1"
        ],
        [
         "1",
         "New",
         "auto",
         "none",
         "10.0",
         "13.5",
         "10",
         "0.90 - 0.99"
        ],
        [
         "2",
         "New",
         "auto",
         "none",
         "13.5",
         "17.0",
         "9",
         "0.80 - 0.89"
        ],
        [
         "3",
         "New",
         "auto",
         "none",
         "17.0",
         "20.5",
         "8",
         "0.70 - 0.79"
        ],
        [
         "4",
         "New",
         "auto",
         "none",
         "20.5",
         "24.0",
         "7",
         "0.60 - 0.69"
        ],
        [
         "5",
         "New",
         "auto",
         "none",
         "24.0",
         "27.5",
         "6",
         "0.50 - 0.59"
        ],
        [
         "6",
         "New",
         "auto",
         "none",
         "27.5",
         "31.0",
         "5",
         "0.40 - 0.49"
        ],
        [
         "7",
         "New",
         "auto",
         "none",
         "31.0",
         "34.5",
         "4",
         "0.30 - 0.39"
        ],
        [
         "8",
         "New",
         "auto",
         "none",
         "34.5",
         "38.0",
         "3",
         "0.20 - 0.29"
        ],
        [
         "9",
         "New",
         "auto",
         "none",
         "38.0",
         "41.5",
         "2",
         "0.10 - 0.19"
        ],
        [
         "10",
         "New",
         "auto",
         "none",
         "41.5",
         "45.0",
         "1",
         "0.00 - 0.09"
        ],
        [
         "11",
         "Old",
         "auto",
         "none",
         "0.0",
         "3.0",
         "11",
         "1"
        ],
        [
         "12",
         "Old",
         "auto",
         "none",
         "3.0",
         "7.25",
         "10",
         "0.90 - 0.99"
        ],
        [
         "13",
         "Old",
         "auto",
         "none",
         "7.25",
         "9.75",
         "9",
         "0.80 - 0.89"
        ],
        [
         "14",
         "Old",
         "auto",
         "none",
         "9.75",
         "12.25",
         "8",
         "0.70 - 0.79"
        ],
        [
         "15",
         "Old",
         "auto",
         "none",
         "12.25",
         "14.5",
         "7",
         "0.60 - 0.69"
        ],
        [
         "16",
         "Old",
         "auto",
         "none",
         "14.5",
         "17.25",
         "6",
         "0.50 - 0.59"
        ],
        [
         "17",
         "Old",
         "auto",
         "none",
         "17.25",
         "20.25",
         "5",
         "0.40 - 0.49"
        ],
        [
         "18",
         "Old",
         "auto",
         "none",
         "20.25",
         "23.75",
         "4",
         "0.30 - 0.39"
        ],
        [
         "19",
         "Old",
         "auto",
         "none",
         "23.75",
         "29.25",
         "3",
         "0.20 - 0.29"
        ],
        [
         "20",
         "Old",
         "auto",
         "none",
         "29.25",
         "39.25",
         "2",
         "0.10 - 0.19"
        ],
        [
         "21",
         "Old",
         "auto",
         "none",
         "39.25",
         "60.0",
         "1",
         "0.00 - 0.09"
        ],
        [
         "22",
         "New",
         "transit",
         "walk",
         "0.0",
         "10.0",
         "11",
         "1"
        ],
        [
         "23",
         "New",
         "transit",
         "walk",
         "10.0",
         "15.0",
         "10",
         "0.90 - 0.99"
        ],
        [
         "24",
         "New",
         "transit",
         "walk",
         "15.0",
         "20.0",
         "9",
         "0.80 - 0.89"
        ],
        [
         "25",
         "New",
         "transit",
         "walk",
         "20.0",
         "25.0",
         "8",
         "0.70 - 0.79"
        ],
        [
         "26",
         "New",
         "transit",
         "walk",
         "25.0",
         "30.0",
         "7",
         "0.60 - 0.69"
        ],
        [
         "27",
         "New",
         "transit",
         "walk",
         "30.0",
         "35.0",
         "6",
         "0.50 - 0.59"
        ],
        [
         "28",
         "New",
         "transit",
         "walk",
         "35.0",
         "40.0",
         "5",
         "0.40 - 0.49"
        ],
        [
         "29",
         "New",
         "transit",
         "walk",
         "40.0",
         "45.0",
         "4",
         "0.30 - 0.39"
        ],
        [
         "30",
         "New",
         "transit",
         "walk",
         "45.0",
         "50.0",
         "3",
         "0.20 - 0.29"
        ],
        [
         "31",
         "New",
         "transit",
         "walk",
         "50.0",
         "55.0",
         "2",
         "0.10 - 0.19"
        ],
        [
         "32",
         "New",
         "transit",
         "walk",
         "55.0",
         "60.0",
         "1",
         "0.00 - 0.09"
        ],
        [
         "33",
         "New",
         "transit",
         "drive",
         "20.0",
         "25.0",
         "8",
         "0.35 - 0.40"
        ],
        [
         "34",
         "New",
         "transit",
         "drive",
         "25.0",
         "30.0",
         "7",
         "0.30 - 0.35"
        ],
        [
         "35",
         "New",
         "transit",
         "drive",
         "30.0",
         "35.0",
         "6",
         "0.25 - 0.29"
        ],
        [
         "36",
         "New",
         "transit",
         "drive",
         "35.0",
         "40.0",
         "6",
         "0.20 - 0.24"
        ],
        [
         "37",
         "New",
         "transit",
         "drive",
         "40.0",
         "45.0",
         "4",
         "0.15 - 0.19"
        ],
        [
         "38",
         "New",
         "transit",
         "drive",
         "45.0",
         "50.0",
         "3",
         "0.10 - 0.15"
        ],
        [
         "39",
         "New",
         "transit",
         "drive",
         "50.0",
         "55.0",
         "2",
         "0.05 - 0.09"
        ],
        [
         "40",
         "New",
         "transit",
         "drive",
         "55.0",
         "60.0",
         "1",
         "0.00 - 0.04"
        ],
        [
         "41",
         "Old",
         "transit",
         "walk",
         "0.0",
         "3.0",
         "11",
         "1"
        ],
        [
         "42",
         "Old",
         "transit",
         "walk",
         "3.0",
         "7.25",
         "10",
         "0.90 - 0.99"
        ],
        [
         "43",
         "Old",
         "transit",
         "walk",
         "7.25",
         "9.75",
         "9",
         "0.80 - 0.89"
        ],
        [
         "44",
         "Old",
         "transit",
         "walk",
         "9.75",
         "12.25",
         "8",
         "0.70 - 0.79"
        ],
        [
         "45",
         "Old",
         "transit",
         "walk",
         "12.25",
         "14.5",
         "7",
         "0.60 - 0.69"
        ],
        [
         "46",
         "Old",
         "transit",
         "walk",
         "14.5",
         "17.25",
         "6",
         "0.50 - 0.59"
        ],
        [
         "47",
         "Old",
         "transit",
         "walk",
         "17.25",
         "20.25",
         "5",
         "0.40 - 0.49"
        ],
        [
         "48",
         "Old",
         "transit",
         "walk",
         "20.25",
         "23.75",
         "4",
         "0.30 - 0.39"
        ],
        [
         "49",
         "Old",
         "transit",
         "walk",
         "23.75",
         "29.25",
         "3",
         "0.20 - 0.29"
        ]
       ],
       "shape": {
        "columns": 7,
        "rows": 63
       }
      },
      "text/html": [
       "<div>\n",
       "<style scoped>\n",
       "    .dataframe tbody tr th:only-of-type {\n",
       "        vertical-align: middle;\n",
       "    }\n",
       "\n",
       "    .dataframe tbody tr th {\n",
       "        vertical-align: top;\n",
       "    }\n",
       "\n",
       "    .dataframe thead th {\n",
       "        text-align: right;\n",
       "    }\n",
       "</style>\n",
       "<table border=\"1\" class=\"dataframe\">\n",
       "  <thead>\n",
       "    <tr style=\"text-align: right;\">\n",
       "      <th></th>\n",
       "      <th>Method</th>\n",
       "      <th>AutoTransit</th>\n",
       "      <th>AccessMode</th>\n",
       "      <th>TTStart_Minutes</th>\n",
       "      <th>TTEnd_Minutes_Inclusive</th>\n",
       "      <th>MapClass</th>\n",
       "      <th>JobFract</th>\n",
       "    </tr>\n",
       "  </thead>\n",
       "  <tbody>\n",
       "    <tr>\n",
       "      <th>0</th>\n",
       "      <td>New</td>\n",
       "      <td>auto</td>\n",
       "      <td>none</td>\n",
       "      <td>0.00</td>\n",
       "      <td>10.00</td>\n",
       "      <td>11</td>\n",
       "      <td>1</td>\n",
       "    </tr>\n",
       "    <tr>\n",
       "      <th>1</th>\n",
       "      <td>New</td>\n",
       "      <td>auto</td>\n",
       "      <td>none</td>\n",
       "      <td>10.00</td>\n",
       "      <td>13.50</td>\n",
       "      <td>10</td>\n",
       "      <td>0.90 - 0.99</td>\n",
       "    </tr>\n",
       "    <tr>\n",
       "      <th>2</th>\n",
       "      <td>New</td>\n",
       "      <td>auto</td>\n",
       "      <td>none</td>\n",
       "      <td>13.50</td>\n",
       "      <td>17.00</td>\n",
       "      <td>9</td>\n",
       "      <td>0.80 - 0.89</td>\n",
       "    </tr>\n",
       "    <tr>\n",
       "      <th>3</th>\n",
       "      <td>New</td>\n",
       "      <td>auto</td>\n",
       "      <td>none</td>\n",
       "      <td>17.00</td>\n",
       "      <td>20.50</td>\n",
       "      <td>8</td>\n",
       "      <td>0.70 - 0.79</td>\n",
       "    </tr>\n",
       "    <tr>\n",
       "      <th>4</th>\n",
       "      <td>New</td>\n",
       "      <td>auto</td>\n",
       "      <td>none</td>\n",
       "      <td>20.50</td>\n",
       "      <td>24.00</td>\n",
       "      <td>7</td>\n",
       "      <td>0.60 - 0.69</td>\n",
       "    </tr>\n",
       "    <tr>\n",
       "      <th>...</th>\n",
       "      <td>...</td>\n",
       "      <td>...</td>\n",
       "      <td>...</td>\n",
       "      <td>...</td>\n",
       "      <td>...</td>\n",
       "      <td>...</td>\n",
       "      <td>...</td>\n",
       "    </tr>\n",
       "    <tr>\n",
       "      <th>58</th>\n",
       "      <td>Old</td>\n",
       "      <td>transit</td>\n",
       "      <td>drive</td>\n",
       "      <td>17.25</td>\n",
       "      <td>20.25</td>\n",
       "      <td>5</td>\n",
       "      <td>0.40 - 0.49</td>\n",
       "    </tr>\n",
       "    <tr>\n",
       "      <th>59</th>\n",
       "      <td>Old</td>\n",
       "      <td>transit</td>\n",
       "      <td>drive</td>\n",
       "      <td>20.25</td>\n",
       "      <td>23.75</td>\n",
       "      <td>4</td>\n",
       "      <td>0.30 - 0.39</td>\n",
       "    </tr>\n",
       "    <tr>\n",
       "      <th>60</th>\n",
       "      <td>Old</td>\n",
       "      <td>transit</td>\n",
       "      <td>drive</td>\n",
       "      <td>23.75</td>\n",
       "      <td>29.25</td>\n",
       "      <td>3</td>\n",
       "      <td>0.20 - 0.29</td>\n",
       "    </tr>\n",
       "    <tr>\n",
       "      <th>61</th>\n",
       "      <td>Old</td>\n",
       "      <td>transit</td>\n",
       "      <td>drive</td>\n",
       "      <td>29.25</td>\n",
       "      <td>39.25</td>\n",
       "      <td>2</td>\n",
       "      <td>0.10 - 0.19</td>\n",
       "    </tr>\n",
       "    <tr>\n",
       "      <th>62</th>\n",
       "      <td>Old</td>\n",
       "      <td>transit</td>\n",
       "      <td>drive</td>\n",
       "      <td>39.25</td>\n",
       "      <td>60.00</td>\n",
       "      <td>1</td>\n",
       "      <td>0.00 - 0.09</td>\n",
       "    </tr>\n",
       "  </tbody>\n",
       "</table>\n",
       "<p>63 rows × 7 columns</p>\n",
       "</div>"
      ],
      "text/plain": [
       "   Method AutoTransit AccessMode  TTStart_Minutes  TTEnd_Minutes_Inclusive  \\\n",
       "0     New        auto       none             0.00                    10.00   \n",
       "1     New        auto       none            10.00                    13.50   \n",
       "2     New        auto       none            13.50                    17.00   \n",
       "3     New        auto       none            17.00                    20.50   \n",
       "4     New        auto       none            20.50                    24.00   \n",
       "..    ...         ...        ...              ...                      ...   \n",
       "58    Old     transit      drive            17.25                    20.25   \n",
       "59    Old     transit      drive            20.25                    23.75   \n",
       "60    Old     transit      drive            23.75                    29.25   \n",
       "61    Old     transit      drive            29.25                    39.25   \n",
       "62    Old     transit      drive            39.25                    60.00   \n",
       "\n",
       "    MapClass     JobFract  \n",
       "0         11            1  \n",
       "1         10  0.90 - 0.99  \n",
       "2          9  0.80 - 0.89  \n",
       "3          8  0.70 - 0.79  \n",
       "4          7  0.60 - 0.69  \n",
       "..       ...          ...  \n",
       "58         5  0.40 - 0.49  \n",
       "59         4  0.30 - 0.39  \n",
       "60         3  0.20 - 0.29  \n",
       "61         2  0.10 - 0.19  \n",
       "62         1  0.00 - 0.09  \n",
       "\n",
       "[63 rows x 7 columns]"
      ]
     },
     "execution_count": 5,
     "metadata": {},
     "output_type": "execute_result"
    }
   ],
   "source": [
    "travel_shed_ato_classes_df = pd.read_csv(\"params/NEW And OLD ATO Method (for travelsheds).csv\")\n",
    "travel_shed_ato_classes_df"
   ]
  },
  {
   "cell_type": "code",
   "execution_count": 6,
   "metadata": {},
   "outputs": [
    {
     "data": {
      "application/vnd.microsoft.datawrangler.viewer.v0+json": {
       "columns": [
        {
         "name": "index",
         "rawType": "int64",
         "type": "integer"
        },
        {
         "name": "TAZ_P",
         "rawType": "int64",
         "type": "integer"
        },
        {
         "name": "TAZ_A",
         "rawType": "int64",
         "type": "integer"
        },
        {
         "name": "Value",
         "rawType": "float64",
         "type": "float"
        },
        {
         "name": "AutoTransit",
         "rawType": "object",
         "type": "string"
        },
        {
         "name": "AccessMode",
         "rawType": "object",
         "type": "string"
        },
        {
         "name": "Method",
         "rawType": "object",
         "type": "string"
        },
        {
         "name": "TTStart_Minutes",
         "rawType": "float64",
         "type": "float"
        },
        {
         "name": "TTEnd_Minutes_Inclusive",
         "rawType": "float64",
         "type": "float"
        },
        {
         "name": "MapClass",
         "rawType": "int64",
         "type": "integer"
        },
        {
         "name": "JobFract",
         "rawType": "object",
         "type": "string"
        }
       ],
       "conversionMethod": "pd.DataFrame",
       "ref": "0569f522-19d0-48fa-9037-507229ac3b53",
       "rows": [
        [
         "3035",
         "832",
         "138",
         "58.95",
         "auto",
         "none",
         "Old",
         "39.25",
         "60.0",
         "1",
         "0.00 - 0.09"
        ],
        [
         "3057",
         "832",
         "139",
         "58.12",
         "auto",
         "none",
         "Old",
         "39.25",
         "60.0",
         "1",
         "0.00 - 0.09"
        ],
        [
         "3101",
         "832",
         "141",
         "59.55",
         "auto",
         "none",
         "Old",
         "39.25",
         "60.0",
         "1",
         "0.00 - 0.09"
        ],
        [
         "3123",
         "832",
         "142",
         "59.76",
         "auto",
         "none",
         "Old",
         "39.25",
         "60.0",
         "1",
         "0.00 - 0.09"
        ],
        [
         "3145",
         "832",
         "143",
         "58.25",
         "auto",
         "none",
         "Old",
         "39.25",
         "60.0",
         "1",
         "0.00 - 0.09"
        ],
        [
         "3541",
         "832",
         "161",
         "59.52",
         "auto",
         "none",
         "Old",
         "39.25",
         "60.0",
         "1",
         "0.00 - 0.09"
        ],
        [
         "3585",
         "832",
         "163",
         "59.14",
         "auto",
         "none",
         "Old",
         "39.25",
         "60.0",
         "1",
         "0.00 - 0.09"
        ],
        [
         "3607",
         "832",
         "164",
         "59.11",
         "auto",
         "none",
         "Old",
         "39.25",
         "60.0",
         "1",
         "0.00 - 0.09"
        ],
        [
         "3673",
         "832",
         "167",
         "58.79",
         "auto",
         "none",
         "Old",
         "39.25",
         "60.0",
         "1",
         "0.00 - 0.09"
        ],
        [
         "3695",
         "832",
         "168",
         "58.64",
         "auto",
         "none",
         "Old",
         "39.25",
         "60.0",
         "1",
         "0.00 - 0.09"
        ],
        [
         "3717",
         "832",
         "169",
         "59.74",
         "auto",
         "none",
         "Old",
         "39.25",
         "60.0",
         "1",
         "0.00 - 0.09"
        ],
        [
         "3783",
         "832",
         "172",
         "56.83",
         "auto",
         "none",
         "Old",
         "39.25",
         "60.0",
         "1",
         "0.00 - 0.09"
        ],
        [
         "3805",
         "832",
         "173",
         "56.4",
         "auto",
         "none",
         "Old",
         "39.25",
         "60.0",
         "1",
         "0.00 - 0.09"
        ],
        [
         "3827",
         "832",
         "174",
         "58.15",
         "auto",
         "none",
         "Old",
         "39.25",
         "60.0",
         "1",
         "0.00 - 0.09"
        ],
        [
         "3849",
         "832",
         "175",
         "57.37",
         "auto",
         "none",
         "Old",
         "39.25",
         "60.0",
         "1",
         "0.00 - 0.09"
        ],
        [
         "3871",
         "832",
         "176",
         "55.02",
         "auto",
         "none",
         "Old",
         "39.25",
         "60.0",
         "1",
         "0.00 - 0.09"
        ],
        [
         "3959",
         "832",
         "180",
         "58.63",
         "auto",
         "none",
         "Old",
         "39.25",
         "60.0",
         "1",
         "0.00 - 0.09"
        ],
        [
         "3981",
         "832",
         "181",
         "58.02",
         "auto",
         "none",
         "Old",
         "39.25",
         "60.0",
         "1",
         "0.00 - 0.09"
        ],
        [
         "4003",
         "832",
         "182",
         "57.31",
         "auto",
         "none",
         "Old",
         "39.25",
         "60.0",
         "1",
         "0.00 - 0.09"
        ],
        [
         "4047",
         "832",
         "184",
         "56.51",
         "auto",
         "none",
         "Old",
         "39.25",
         "60.0",
         "1",
         "0.00 - 0.09"
        ],
        [
         "4069",
         "832",
         "185",
         "55.38",
         "auto",
         "none",
         "Old",
         "39.25",
         "60.0",
         "1",
         "0.00 - 0.09"
        ],
        [
         "4091",
         "832",
         "186",
         "54.6",
         "auto",
         "none",
         "Old",
         "39.25",
         "60.0",
         "1",
         "0.00 - 0.09"
        ],
        [
         "4157",
         "832",
         "189",
         "58.31",
         "auto",
         "none",
         "Old",
         "39.25",
         "60.0",
         "1",
         "0.00 - 0.09"
        ],
        [
         "4179",
         "832",
         "190",
         "57.73",
         "auto",
         "none",
         "Old",
         "39.25",
         "60.0",
         "1",
         "0.00 - 0.09"
        ],
        [
         "4201",
         "832",
         "191",
         "56.6",
         "auto",
         "none",
         "Old",
         "39.25",
         "60.0",
         "1",
         "0.00 - 0.09"
        ],
        [
         "4245",
         "832",
         "193",
         "56.74",
         "auto",
         "none",
         "Old",
         "39.25",
         "60.0",
         "1",
         "0.00 - 0.09"
        ],
        [
         "4267",
         "832",
         "194",
         "59.85",
         "auto",
         "none",
         "Old",
         "39.25",
         "60.0",
         "1",
         "0.00 - 0.09"
        ],
        [
         "4289",
         "832",
         "195",
         "58.83",
         "auto",
         "none",
         "Old",
         "39.25",
         "60.0",
         "1",
         "0.00 - 0.09"
        ],
        [
         "4311",
         "832",
         "196",
         "58.07",
         "auto",
         "none",
         "Old",
         "39.25",
         "60.0",
         "1",
         "0.00 - 0.09"
        ],
        [
         "4333",
         "832",
         "197",
         "56.78",
         "auto",
         "none",
         "Old",
         "39.25",
         "60.0",
         "1",
         "0.00 - 0.09"
        ],
        [
         "4355",
         "832",
         "198",
         "57.35",
         "auto",
         "none",
         "Old",
         "39.25",
         "60.0",
         "1",
         "0.00 - 0.09"
        ],
        [
         "4575",
         "832",
         "208",
         "59.92",
         "auto",
         "none",
         "Old",
         "39.25",
         "60.0",
         "1",
         "0.00 - 0.09"
        ],
        [
         "4597",
         "832",
         "209",
         "58.78",
         "auto",
         "none",
         "Old",
         "39.25",
         "60.0",
         "1",
         "0.00 - 0.09"
        ],
        [
         "4707",
         "832",
         "214",
         "58.8",
         "auto",
         "none",
         "Old",
         "39.25",
         "60.0",
         "1",
         "0.00 - 0.09"
        ],
        [
         "4795",
         "832",
         "218",
         "58.74",
         "auto",
         "none",
         "Old",
         "39.25",
         "60.0",
         "1",
         "0.00 - 0.09"
        ],
        [
         "4817",
         "832",
         "219",
         "59.95",
         "auto",
         "none",
         "Old",
         "39.25",
         "60.0",
         "1",
         "0.00 - 0.09"
        ],
        [
         "4861",
         "832",
         "221",
         "59.21",
         "auto",
         "none",
         "Old",
         "39.25",
         "60.0",
         "1",
         "0.00 - 0.09"
        ],
        [
         "4905",
         "832",
         "223",
         "59.11",
         "auto",
         "none",
         "Old",
         "39.25",
         "60.0",
         "1",
         "0.00 - 0.09"
        ],
        [
         "4927",
         "832",
         "224",
         "59.21",
         "auto",
         "none",
         "Old",
         "39.25",
         "60.0",
         "1",
         "0.00 - 0.09"
        ],
        [
         "4949",
         "832",
         "225",
         "58.46",
         "auto",
         "none",
         "Old",
         "39.25",
         "60.0",
         "1",
         "0.00 - 0.09"
        ],
        [
         "4971",
         "832",
         "226",
         "57.98",
         "auto",
         "none",
         "Old",
         "39.25",
         "60.0",
         "1",
         "0.00 - 0.09"
        ],
        [
         "4993",
         "832",
         "227",
         "57.24",
         "auto",
         "none",
         "Old",
         "39.25",
         "60.0",
         "1",
         "0.00 - 0.09"
        ],
        [
         "5015",
         "832",
         "228",
         "57.53",
         "auto",
         "none",
         "Old",
         "39.25",
         "60.0",
         "1",
         "0.00 - 0.09"
        ],
        [
         "5037",
         "832",
         "229",
         "56.78",
         "auto",
         "none",
         "Old",
         "39.25",
         "60.0",
         "1",
         "0.00 - 0.09"
        ],
        [
         "5059",
         "832",
         "230",
         "57.37",
         "auto",
         "none",
         "Old",
         "39.25",
         "60.0",
         "1",
         "0.00 - 0.09"
        ],
        [
         "5081",
         "832",
         "231",
         "58.4",
         "auto",
         "none",
         "Old",
         "39.25",
         "60.0",
         "1",
         "0.00 - 0.09"
        ],
        [
         "5103",
         "832",
         "232",
         "57.32",
         "auto",
         "none",
         "Old",
         "39.25",
         "60.0",
         "1",
         "0.00 - 0.09"
        ],
        [
         "5125",
         "832",
         "233",
         "56.43",
         "auto",
         "none",
         "Old",
         "39.25",
         "60.0",
         "1",
         "0.00 - 0.09"
        ],
        [
         "5147",
         "832",
         "234",
         "57.08",
         "auto",
         "none",
         "Old",
         "39.25",
         "60.0",
         "1",
         "0.00 - 0.09"
        ],
        [
         "5169",
         "832",
         "235",
         "56.13",
         "auto",
         "none",
         "Old",
         "39.25",
         "60.0",
         "1",
         "0.00 - 0.09"
        ]
       ],
       "shape": {
        "columns": 10,
        "rows": 25860
       }
      },
      "text/html": [
       "<div>\n",
       "<style scoped>\n",
       "    .dataframe tbody tr th:only-of-type {\n",
       "        vertical-align: middle;\n",
       "    }\n",
       "\n",
       "    .dataframe tbody tr th {\n",
       "        vertical-align: top;\n",
       "    }\n",
       "\n",
       "    .dataframe thead th {\n",
       "        text-align: right;\n",
       "    }\n",
       "</style>\n",
       "<table border=\"1\" class=\"dataframe\">\n",
       "  <thead>\n",
       "    <tr style=\"text-align: right;\">\n",
       "      <th></th>\n",
       "      <th>TAZ_P</th>\n",
       "      <th>TAZ_A</th>\n",
       "      <th>Value</th>\n",
       "      <th>AutoTransit</th>\n",
       "      <th>AccessMode</th>\n",
       "      <th>Method</th>\n",
       "      <th>TTStart_Minutes</th>\n",
       "      <th>TTEnd_Minutes_Inclusive</th>\n",
       "      <th>MapClass</th>\n",
       "      <th>JobFract</th>\n",
       "    </tr>\n",
       "  </thead>\n",
       "  <tbody>\n",
       "    <tr>\n",
       "      <th>3035</th>\n",
       "      <td>832</td>\n",
       "      <td>138</td>\n",
       "      <td>58.95</td>\n",
       "      <td>auto</td>\n",
       "      <td>none</td>\n",
       "      <td>Old</td>\n",
       "      <td>39.25</td>\n",
       "      <td>60.0</td>\n",
       "      <td>1</td>\n",
       "      <td>0.00 - 0.09</td>\n",
       "    </tr>\n",
       "    <tr>\n",
       "      <th>3057</th>\n",
       "      <td>832</td>\n",
       "      <td>139</td>\n",
       "      <td>58.12</td>\n",
       "      <td>auto</td>\n",
       "      <td>none</td>\n",
       "      <td>Old</td>\n",
       "      <td>39.25</td>\n",
       "      <td>60.0</td>\n",
       "      <td>1</td>\n",
       "      <td>0.00 - 0.09</td>\n",
       "    </tr>\n",
       "    <tr>\n",
       "      <th>3101</th>\n",
       "      <td>832</td>\n",
       "      <td>141</td>\n",
       "      <td>59.55</td>\n",
       "      <td>auto</td>\n",
       "      <td>none</td>\n",
       "      <td>Old</td>\n",
       "      <td>39.25</td>\n",
       "      <td>60.0</td>\n",
       "      <td>1</td>\n",
       "      <td>0.00 - 0.09</td>\n",
       "    </tr>\n",
       "    <tr>\n",
       "      <th>3123</th>\n",
       "      <td>832</td>\n",
       "      <td>142</td>\n",
       "      <td>59.76</td>\n",
       "      <td>auto</td>\n",
       "      <td>none</td>\n",
       "      <td>Old</td>\n",
       "      <td>39.25</td>\n",
       "      <td>60.0</td>\n",
       "      <td>1</td>\n",
       "      <td>0.00 - 0.09</td>\n",
       "    </tr>\n",
       "    <tr>\n",
       "      <th>3145</th>\n",
       "      <td>832</td>\n",
       "      <td>143</td>\n",
       "      <td>58.25</td>\n",
       "      <td>auto</td>\n",
       "      <td>none</td>\n",
       "      <td>Old</td>\n",
       "      <td>39.25</td>\n",
       "      <td>60.0</td>\n",
       "      <td>1</td>\n",
       "      <td>0.00 - 0.09</td>\n",
       "    </tr>\n",
       "    <tr>\n",
       "      <th>...</th>\n",
       "      <td>...</td>\n",
       "      <td>...</td>\n",
       "      <td>...</td>\n",
       "      <td>...</td>\n",
       "      <td>...</td>\n",
       "      <td>...</td>\n",
       "      <td>...</td>\n",
       "      <td>...</td>\n",
       "      <td>...</td>\n",
       "      <td>...</td>\n",
       "    </tr>\n",
       "    <tr>\n",
       "      <th>777450</th>\n",
       "      <td>2513</td>\n",
       "      <td>3022</td>\n",
       "      <td>57.97</td>\n",
       "      <td>transit</td>\n",
       "      <td>drive</td>\n",
       "      <td>Old</td>\n",
       "      <td>39.25</td>\n",
       "      <td>60.0</td>\n",
       "      <td>1</td>\n",
       "      <td>0.00 - 0.09</td>\n",
       "    </tr>\n",
       "    <tr>\n",
       "      <th>777496</th>\n",
       "      <td>2513</td>\n",
       "      <td>3027</td>\n",
       "      <td>57.69</td>\n",
       "      <td>transit</td>\n",
       "      <td>drive</td>\n",
       "      <td>New</td>\n",
       "      <td>55.00</td>\n",
       "      <td>60.0</td>\n",
       "      <td>1</td>\n",
       "      <td>0.00 - 0.04</td>\n",
       "    </tr>\n",
       "    <tr>\n",
       "      <th>777507</th>\n",
       "      <td>2513</td>\n",
       "      <td>3027</td>\n",
       "      <td>57.69</td>\n",
       "      <td>transit</td>\n",
       "      <td>drive</td>\n",
       "      <td>Old</td>\n",
       "      <td>39.25</td>\n",
       "      <td>60.0</td>\n",
       "      <td>1</td>\n",
       "      <td>0.00 - 0.09</td>\n",
       "    </tr>\n",
       "    <tr>\n",
       "      <th>777553</th>\n",
       "      <td>2513</td>\n",
       "      <td>3030</td>\n",
       "      <td>56.98</td>\n",
       "      <td>transit</td>\n",
       "      <td>drive</td>\n",
       "      <td>New</td>\n",
       "      <td>55.00</td>\n",
       "      <td>60.0</td>\n",
       "      <td>1</td>\n",
       "      <td>0.00 - 0.04</td>\n",
       "    </tr>\n",
       "    <tr>\n",
       "      <th>777564</th>\n",
       "      <td>2513</td>\n",
       "      <td>3030</td>\n",
       "      <td>56.98</td>\n",
       "      <td>transit</td>\n",
       "      <td>drive</td>\n",
       "      <td>Old</td>\n",
       "      <td>39.25</td>\n",
       "      <td>60.0</td>\n",
       "      <td>1</td>\n",
       "      <td>0.00 - 0.09</td>\n",
       "    </tr>\n",
       "  </tbody>\n",
       "</table>\n",
       "<p>25860 rows × 10 columns</p>\n",
       "</div>"
      ],
      "text/plain": [
       "        TAZ_P  TAZ_A  Value AutoTransit AccessMode Method  TTStart_Minutes  \\\n",
       "3035      832    138  58.95        auto       none    Old            39.25   \n",
       "3057      832    139  58.12        auto       none    Old            39.25   \n",
       "3101      832    141  59.55        auto       none    Old            39.25   \n",
       "3123      832    142  59.76        auto       none    Old            39.25   \n",
       "3145      832    143  58.25        auto       none    Old            39.25   \n",
       "...       ...    ...    ...         ...        ...    ...              ...   \n",
       "777450   2513   3022  57.97     transit      drive    Old            39.25   \n",
       "777496   2513   3027  57.69     transit      drive    New            55.00   \n",
       "777507   2513   3027  57.69     transit      drive    Old            39.25   \n",
       "777553   2513   3030  56.98     transit      drive    New            55.00   \n",
       "777564   2513   3030  56.98     transit      drive    Old            39.25   \n",
       "\n",
       "        TTEnd_Minutes_Inclusive  MapClass     JobFract  \n",
       "3035                       60.0         1  0.00 - 0.09  \n",
       "3057                       60.0         1  0.00 - 0.09  \n",
       "3101                       60.0         1  0.00 - 0.09  \n",
       "3123                       60.0         1  0.00 - 0.09  \n",
       "3145                       60.0         1  0.00 - 0.09  \n",
       "...                         ...       ...          ...  \n",
       "777450                     60.0         1  0.00 - 0.09  \n",
       "777496                     60.0         1  0.00 - 0.04  \n",
       "777507                     60.0         1  0.00 - 0.09  \n",
       "777553                     60.0         1  0.00 - 0.04  \n",
       "777564                     60.0         1  0.00 - 0.09  \n",
       "\n",
       "[25860 rows x 10 columns]"
      ]
     },
     "metadata": {},
     "output_type": "display_data"
    }
   ],
   "source": [
    "# Performing the join based on the Value being between TTStart_Minutes and TTEnd_Minutes\n",
    "merged_df = extracted_data_df.merge(\n",
    "    travel_shed_ato_classes_df,\n",
    "    on=['AutoTransit','AccessMode']\n",
    ").query(\"TTStart_Minutes < Value <= TTEnd_Minutes_Inclusive\")\n",
    "\n",
    "# Display the merged DataFrame\n",
    "display(merged_df)\n"
   ]
  },
  {
   "cell_type": "code",
   "execution_count": 7,
   "metadata": {},
   "outputs": [
    {
     "name": "stderr",
     "output_type": "stream",
     "text": [
      "C:\\Users\\bhereth\\AppData\\Local\\Temp\\ipykernel_21048\\1245522130.py:102: UserWarning: Geometry is in a geographic CRS. Results from 'centroid' are likely incorrect. Use 'GeoSeries.to_crs()' to re-project geometries to a projected CRS before this operation.\n",
      "\n",
      "  center = [subset_geo.geometry.centroid.y.mean(), subset_geo.geometry.centroid.x.mean()]\n",
      "C:\\Users\\bhereth\\AppData\\Local\\Temp\\ipykernel_21048\\1245522130.py:111: UserWarning: Geometry is in a geographic CRS. Results from 'centroid' are likely incorrect. Use 'GeoSeries.to_crs()' to re-project geometries to a projected CRS before this operation.\n",
      "\n",
      "  taz_match.geometry.centroid.y.values[0],\n",
      "C:\\Users\\bhereth\\AppData\\Local\\Temp\\ipykernel_21048\\1245522130.py:112: UserWarning: Geometry is in a geographic CRS. Results from 'centroid' are likely incorrect. Use 'GeoSeries.to_crs()' to re-project geometries to a projected CRS before this operation.\n",
      "\n",
      "  taz_match.geometry.centroid.x.values[0]\n"
     ]
    },
    {
     "name": "stdout",
     "output_type": "stream",
     "text": [
      "Saved: output_maps\\Bountiful_auto_New_Method.png\n",
      "Saved: output_maps\\Bountiful_auto_Old_Method.png\n"
     ]
    },
    {
     "name": "stderr",
     "output_type": "stream",
     "text": [
      "C:\\Users\\bhereth\\AppData\\Local\\Temp\\ipykernel_21048\\1245522130.py:102: UserWarning: Geometry is in a geographic CRS. Results from 'centroid' are likely incorrect. Use 'GeoSeries.to_crs()' to re-project geometries to a projected CRS before this operation.\n",
      "\n",
      "  center = [subset_geo.geometry.centroid.y.mean(), subset_geo.geometry.centroid.x.mean()]\n",
      "C:\\Users\\bhereth\\AppData\\Local\\Temp\\ipykernel_21048\\1245522130.py:111: UserWarning: Geometry is in a geographic CRS. Results from 'centroid' are likely incorrect. Use 'GeoSeries.to_crs()' to re-project geometries to a projected CRS before this operation.\n",
      "\n",
      "  taz_match.geometry.centroid.y.values[0],\n",
      "C:\\Users\\bhereth\\AppData\\Local\\Temp\\ipykernel_21048\\1245522130.py:112: UserWarning: Geometry is in a geographic CRS. Results from 'centroid' are likely incorrect. Use 'GeoSeries.to_crs()' to re-project geometries to a projected CRS before this operation.\n",
      "\n",
      "  taz_match.geometry.centroid.x.values[0]\n"
     ]
    },
    {
     "name": "stdout",
     "output_type": "stream",
     "text": [
      "Saved: output_maps\\Bountiful_transit_walk_New_Method.png\n",
      "Saved: output_maps\\Bountiful_transit_walk_Old_Method.png\n"
     ]
    },
    {
     "name": "stderr",
     "output_type": "stream",
     "text": [
      "C:\\Users\\bhereth\\AppData\\Local\\Temp\\ipykernel_21048\\1245522130.py:102: UserWarning: Geometry is in a geographic CRS. Results from 'centroid' are likely incorrect. Use 'GeoSeries.to_crs()' to re-project geometries to a projected CRS before this operation.\n",
      "\n",
      "  center = [subset_geo.geometry.centroid.y.mean(), subset_geo.geometry.centroid.x.mean()]\n",
      "C:\\Users\\bhereth\\AppData\\Local\\Temp\\ipykernel_21048\\1245522130.py:111: UserWarning: Geometry is in a geographic CRS. Results from 'centroid' are likely incorrect. Use 'GeoSeries.to_crs()' to re-project geometries to a projected CRS before this operation.\n",
      "\n",
      "  taz_match.geometry.centroid.y.values[0],\n",
      "C:\\Users\\bhereth\\AppData\\Local\\Temp\\ipykernel_21048\\1245522130.py:112: UserWarning: Geometry is in a geographic CRS. Results from 'centroid' are likely incorrect. Use 'GeoSeries.to_crs()' to re-project geometries to a projected CRS before this operation.\n",
      "\n",
      "  taz_match.geometry.centroid.x.values[0]\n"
     ]
    },
    {
     "name": "stdout",
     "output_type": "stream",
     "text": [
      "Saved: output_maps\\Bountiful_transit_drive_New_Method.png\n",
      "Saved: output_maps\\Bountiful_transit_drive_Old_Method.png\n"
     ]
    },
    {
     "name": "stderr",
     "output_type": "stream",
     "text": [
      "C:\\Users\\bhereth\\AppData\\Local\\Temp\\ipykernel_21048\\1245522130.py:102: UserWarning: Geometry is in a geographic CRS. Results from 'centroid' are likely incorrect. Use 'GeoSeries.to_crs()' to re-project geometries to a projected CRS before this operation.\n",
      "\n",
      "  center = [subset_geo.geometry.centroid.y.mean(), subset_geo.geometry.centroid.x.mean()]\n",
      "C:\\Users\\bhereth\\AppData\\Local\\Temp\\ipykernel_21048\\1245522130.py:111: UserWarning: Geometry is in a geographic CRS. Results from 'centroid' are likely incorrect. Use 'GeoSeries.to_crs()' to re-project geometries to a projected CRS before this operation.\n",
      "\n",
      "  taz_match.geometry.centroid.y.values[0],\n",
      "C:\\Users\\bhereth\\AppData\\Local\\Temp\\ipykernel_21048\\1245522130.py:112: UserWarning: Geometry is in a geographic CRS. Results from 'centroid' are likely incorrect. Use 'GeoSeries.to_crs()' to re-project geometries to a projected CRS before this operation.\n",
      "\n",
      "  taz_match.geometry.centroid.x.values[0]\n"
     ]
    },
    {
     "name": "stdout",
     "output_type": "stream",
     "text": [
      "Saved: output_maps\\Murray_auto_New_Method.png\n",
      "Saved: output_maps\\Murray_auto_Old_Method.png\n"
     ]
    },
    {
     "name": "stderr",
     "output_type": "stream",
     "text": [
      "C:\\Users\\bhereth\\AppData\\Local\\Temp\\ipykernel_21048\\1245522130.py:102: UserWarning: Geometry is in a geographic CRS. Results from 'centroid' are likely incorrect. Use 'GeoSeries.to_crs()' to re-project geometries to a projected CRS before this operation.\n",
      "\n",
      "  center = [subset_geo.geometry.centroid.y.mean(), subset_geo.geometry.centroid.x.mean()]\n",
      "C:\\Users\\bhereth\\AppData\\Local\\Temp\\ipykernel_21048\\1245522130.py:111: UserWarning: Geometry is in a geographic CRS. Results from 'centroid' are likely incorrect. Use 'GeoSeries.to_crs()' to re-project geometries to a projected CRS before this operation.\n",
      "\n",
      "  taz_match.geometry.centroid.y.values[0],\n",
      "C:\\Users\\bhereth\\AppData\\Local\\Temp\\ipykernel_21048\\1245522130.py:112: UserWarning: Geometry is in a geographic CRS. Results from 'centroid' are likely incorrect. Use 'GeoSeries.to_crs()' to re-project geometries to a projected CRS before this operation.\n",
      "\n",
      "  taz_match.geometry.centroid.x.values[0]\n"
     ]
    },
    {
     "name": "stdout",
     "output_type": "stream",
     "text": [
      "Saved: output_maps\\Murray_transit_walk_New_Method.png\n",
      "Saved: output_maps\\Murray_transit_walk_Old_Method.png\n"
     ]
    },
    {
     "name": "stderr",
     "output_type": "stream",
     "text": [
      "C:\\Users\\bhereth\\AppData\\Local\\Temp\\ipykernel_21048\\1245522130.py:102: UserWarning: Geometry is in a geographic CRS. Results from 'centroid' are likely incorrect. Use 'GeoSeries.to_crs()' to re-project geometries to a projected CRS before this operation.\n",
      "\n",
      "  center = [subset_geo.geometry.centroid.y.mean(), subset_geo.geometry.centroid.x.mean()]\n",
      "C:\\Users\\bhereth\\AppData\\Local\\Temp\\ipykernel_21048\\1245522130.py:111: UserWarning: Geometry is in a geographic CRS. Results from 'centroid' are likely incorrect. Use 'GeoSeries.to_crs()' to re-project geometries to a projected CRS before this operation.\n",
      "\n",
      "  taz_match.geometry.centroid.y.values[0],\n",
      "C:\\Users\\bhereth\\AppData\\Local\\Temp\\ipykernel_21048\\1245522130.py:112: UserWarning: Geometry is in a geographic CRS. Results from 'centroid' are likely incorrect. Use 'GeoSeries.to_crs()' to re-project geometries to a projected CRS before this operation.\n",
      "\n",
      "  taz_match.geometry.centroid.x.values[0]\n"
     ]
    },
    {
     "name": "stdout",
     "output_type": "stream",
     "text": [
      "Saved: output_maps\\Murray_transit_drive_New_Method.png\n",
      "Saved: output_maps\\Murray_transit_drive_Old_Method.png\n"
     ]
    },
    {
     "name": "stderr",
     "output_type": "stream",
     "text": [
      "C:\\Users\\bhereth\\AppData\\Local\\Temp\\ipykernel_21048\\1245522130.py:102: UserWarning: Geometry is in a geographic CRS. Results from 'centroid' are likely incorrect. Use 'GeoSeries.to_crs()' to re-project geometries to a projected CRS before this operation.\n",
      "\n",
      "  center = [subset_geo.geometry.centroid.y.mean(), subset_geo.geometry.centroid.x.mean()]\n",
      "C:\\Users\\bhereth\\AppData\\Local\\Temp\\ipykernel_21048\\1245522130.py:111: UserWarning: Geometry is in a geographic CRS. Results from 'centroid' are likely incorrect. Use 'GeoSeries.to_crs()' to re-project geometries to a projected CRS before this operation.\n",
      "\n",
      "  taz_match.geometry.centroid.y.values[0],\n",
      "C:\\Users\\bhereth\\AppData\\Local\\Temp\\ipykernel_21048\\1245522130.py:112: UserWarning: Geometry is in a geographic CRS. Results from 'centroid' are likely incorrect. Use 'GeoSeries.to_crs()' to re-project geometries to a projected CRS before this operation.\n",
      "\n",
      "  taz_match.geometry.centroid.x.values[0]\n"
     ]
    },
    {
     "name": "stdout",
     "output_type": "stream",
     "text": [
      "Saved: output_maps\\South Jordan_auto_New_Method.png\n",
      "Saved: output_maps\\South Jordan_auto_Old_Method.png\n"
     ]
    },
    {
     "name": "stderr",
     "output_type": "stream",
     "text": [
      "C:\\Users\\bhereth\\AppData\\Local\\Temp\\ipykernel_21048\\1245522130.py:102: UserWarning: Geometry is in a geographic CRS. Results from 'centroid' are likely incorrect. Use 'GeoSeries.to_crs()' to re-project geometries to a projected CRS before this operation.\n",
      "\n",
      "  center = [subset_geo.geometry.centroid.y.mean(), subset_geo.geometry.centroid.x.mean()]\n",
      "C:\\Users\\bhereth\\AppData\\Local\\Temp\\ipykernel_21048\\1245522130.py:111: UserWarning: Geometry is in a geographic CRS. Results from 'centroid' are likely incorrect. Use 'GeoSeries.to_crs()' to re-project geometries to a projected CRS before this operation.\n",
      "\n",
      "  taz_match.geometry.centroid.y.values[0],\n",
      "C:\\Users\\bhereth\\AppData\\Local\\Temp\\ipykernel_21048\\1245522130.py:112: UserWarning: Geometry is in a geographic CRS. Results from 'centroid' are likely incorrect. Use 'GeoSeries.to_crs()' to re-project geometries to a projected CRS before this operation.\n",
      "\n",
      "  taz_match.geometry.centroid.x.values[0]\n"
     ]
    },
    {
     "name": "stdout",
     "output_type": "stream",
     "text": [
      "Saved: output_maps\\South Jordan_transit_walk_New_Method.png\n",
      "Saved: output_maps\\South Jordan_transit_walk_Old_Method.png\n"
     ]
    },
    {
     "name": "stderr",
     "output_type": "stream",
     "text": [
      "C:\\Users\\bhereth\\AppData\\Local\\Temp\\ipykernel_21048\\1245522130.py:102: UserWarning: Geometry is in a geographic CRS. Results from 'centroid' are likely incorrect. Use 'GeoSeries.to_crs()' to re-project geometries to a projected CRS before this operation.\n",
      "\n",
      "  center = [subset_geo.geometry.centroid.y.mean(), subset_geo.geometry.centroid.x.mean()]\n",
      "C:\\Users\\bhereth\\AppData\\Local\\Temp\\ipykernel_21048\\1245522130.py:111: UserWarning: Geometry is in a geographic CRS. Results from 'centroid' are likely incorrect. Use 'GeoSeries.to_crs()' to re-project geometries to a projected CRS before this operation.\n",
      "\n",
      "  taz_match.geometry.centroid.y.values[0],\n",
      "C:\\Users\\bhereth\\AppData\\Local\\Temp\\ipykernel_21048\\1245522130.py:112: UserWarning: Geometry is in a geographic CRS. Results from 'centroid' are likely incorrect. Use 'GeoSeries.to_crs()' to re-project geometries to a projected CRS before this operation.\n",
      "\n",
      "  taz_match.geometry.centroid.x.values[0]\n"
     ]
    },
    {
     "name": "stdout",
     "output_type": "stream",
     "text": [
      "Saved: output_maps\\South Jordan_transit_drive_New_Method.png\n",
      "Saved: output_maps\\South Jordan_transit_drive_Old_Method.png\n"
     ]
    },
    {
     "name": "stderr",
     "output_type": "stream",
     "text": [
      "C:\\Users\\bhereth\\AppData\\Local\\Temp\\ipykernel_21048\\1245522130.py:102: UserWarning: Geometry is in a geographic CRS. Results from 'centroid' are likely incorrect. Use 'GeoSeries.to_crs()' to re-project geometries to a projected CRS before this operation.\n",
      "\n",
      "  center = [subset_geo.geometry.centroid.y.mean(), subset_geo.geometry.centroid.x.mean()]\n",
      "C:\\Users\\bhereth\\AppData\\Local\\Temp\\ipykernel_21048\\1245522130.py:111: UserWarning: Geometry is in a geographic CRS. Results from 'centroid' are likely incorrect. Use 'GeoSeries.to_crs()' to re-project geometries to a projected CRS before this operation.\n",
      "\n",
      "  taz_match.geometry.centroid.y.values[0],\n",
      "C:\\Users\\bhereth\\AppData\\Local\\Temp\\ipykernel_21048\\1245522130.py:112: UserWarning: Geometry is in a geographic CRS. Results from 'centroid' are likely incorrect. Use 'GeoSeries.to_crs()' to re-project geometries to a projected CRS before this operation.\n",
      "\n",
      "  taz_match.geometry.centroid.x.values[0]\n"
     ]
    },
    {
     "name": "stdout",
     "output_type": "stream",
     "text": [
      "Saved: output_maps\\Spanish Fork_auto_New_Method.png\n",
      "Saved: output_maps\\Spanish Fork_auto_Old_Method.png\n"
     ]
    },
    {
     "name": "stderr",
     "output_type": "stream",
     "text": [
      "C:\\Users\\bhereth\\AppData\\Local\\Temp\\ipykernel_21048\\1245522130.py:102: UserWarning: Geometry is in a geographic CRS. Results from 'centroid' are likely incorrect. Use 'GeoSeries.to_crs()' to re-project geometries to a projected CRS before this operation.\n",
      "\n",
      "  center = [subset_geo.geometry.centroid.y.mean(), subset_geo.geometry.centroid.x.mean()]\n",
      "C:\\Users\\bhereth\\AppData\\Local\\Temp\\ipykernel_21048\\1245522130.py:111: UserWarning: Geometry is in a geographic CRS. Results from 'centroid' are likely incorrect. Use 'GeoSeries.to_crs()' to re-project geometries to a projected CRS before this operation.\n",
      "\n",
      "  taz_match.geometry.centroid.y.values[0],\n",
      "C:\\Users\\bhereth\\AppData\\Local\\Temp\\ipykernel_21048\\1245522130.py:112: UserWarning: Geometry is in a geographic CRS. Results from 'centroid' are likely incorrect. Use 'GeoSeries.to_crs()' to re-project geometries to a projected CRS before this operation.\n",
      "\n",
      "  taz_match.geometry.centroid.x.values[0]\n"
     ]
    },
    {
     "name": "stdout",
     "output_type": "stream",
     "text": [
      "Saved: output_maps\\Spanish Fork_transit_walk_New_Method.png\n",
      "Saved: output_maps\\Spanish Fork_transit_walk_Old_Method.png\n"
     ]
    },
    {
     "name": "stderr",
     "output_type": "stream",
     "text": [
      "C:\\Users\\bhereth\\AppData\\Local\\Temp\\ipykernel_21048\\1245522130.py:102: UserWarning: Geometry is in a geographic CRS. Results from 'centroid' are likely incorrect. Use 'GeoSeries.to_crs()' to re-project geometries to a projected CRS before this operation.\n",
      "\n",
      "  center = [subset_geo.geometry.centroid.y.mean(), subset_geo.geometry.centroid.x.mean()]\n",
      "C:\\Users\\bhereth\\AppData\\Local\\Temp\\ipykernel_21048\\1245522130.py:111: UserWarning: Geometry is in a geographic CRS. Results from 'centroid' are likely incorrect. Use 'GeoSeries.to_crs()' to re-project geometries to a projected CRS before this operation.\n",
      "\n",
      "  taz_match.geometry.centroid.y.values[0],\n",
      "C:\\Users\\bhereth\\AppData\\Local\\Temp\\ipykernel_21048\\1245522130.py:112: UserWarning: Geometry is in a geographic CRS. Results from 'centroid' are likely incorrect. Use 'GeoSeries.to_crs()' to re-project geometries to a projected CRS before this operation.\n",
      "\n",
      "  taz_match.geometry.centroid.x.values[0]\n"
     ]
    },
    {
     "name": "stdout",
     "output_type": "stream",
     "text": [
      "Saved: output_maps\\Spanish Fork_transit_drive_New_Method.png\n",
      "Saved: output_maps\\Spanish Fork_transit_drive_Old_Method.png\n"
     ]
    },
    {
     "name": "stderr",
     "output_type": "stream",
     "text": [
      "C:\\Users\\bhereth\\AppData\\Local\\Temp\\ipykernel_21048\\1245522130.py:102: UserWarning: Geometry is in a geographic CRS. Results from 'centroid' are likely incorrect. Use 'GeoSeries.to_crs()' to re-project geometries to a projected CRS before this operation.\n",
      "\n",
      "  center = [subset_geo.geometry.centroid.y.mean(), subset_geo.geometry.centroid.x.mean()]\n",
      "C:\\Users\\bhereth\\AppData\\Local\\Temp\\ipykernel_21048\\1245522130.py:111: UserWarning: Geometry is in a geographic CRS. Results from 'centroid' are likely incorrect. Use 'GeoSeries.to_crs()' to re-project geometries to a projected CRS before this operation.\n",
      "\n",
      "  taz_match.geometry.centroid.y.values[0],\n",
      "C:\\Users\\bhereth\\AppData\\Local\\Temp\\ipykernel_21048\\1245522130.py:112: UserWarning: Geometry is in a geographic CRS. Results from 'centroid' are likely incorrect. Use 'GeoSeries.to_crs()' to re-project geometries to a projected CRS before this operation.\n",
      "\n",
      "  taz_match.geometry.centroid.x.values[0]\n"
     ]
    },
    {
     "name": "stdout",
     "output_type": "stream",
     "text": [
      "Saved: output_maps\\MAG Office_auto_New_Method.png\n",
      "Saved: output_maps\\MAG Office_auto_Old_Method.png\n"
     ]
    },
    {
     "name": "stderr",
     "output_type": "stream",
     "text": [
      "C:\\Users\\bhereth\\AppData\\Local\\Temp\\ipykernel_21048\\1245522130.py:102: UserWarning: Geometry is in a geographic CRS. Results from 'centroid' are likely incorrect. Use 'GeoSeries.to_crs()' to re-project geometries to a projected CRS before this operation.\n",
      "\n",
      "  center = [subset_geo.geometry.centroid.y.mean(), subset_geo.geometry.centroid.x.mean()]\n",
      "C:\\Users\\bhereth\\AppData\\Local\\Temp\\ipykernel_21048\\1245522130.py:111: UserWarning: Geometry is in a geographic CRS. Results from 'centroid' are likely incorrect. Use 'GeoSeries.to_crs()' to re-project geometries to a projected CRS before this operation.\n",
      "\n",
      "  taz_match.geometry.centroid.y.values[0],\n",
      "C:\\Users\\bhereth\\AppData\\Local\\Temp\\ipykernel_21048\\1245522130.py:112: UserWarning: Geometry is in a geographic CRS. Results from 'centroid' are likely incorrect. Use 'GeoSeries.to_crs()' to re-project geometries to a projected CRS before this operation.\n",
      "\n",
      "  taz_match.geometry.centroid.x.values[0]\n"
     ]
    },
    {
     "name": "stdout",
     "output_type": "stream",
     "text": [
      "Saved: output_maps\\MAG Office_transit_walk_New_Method.png\n",
      "Saved: output_maps\\MAG Office_transit_walk_Old_Method.png\n"
     ]
    },
    {
     "name": "stderr",
     "output_type": "stream",
     "text": [
      "C:\\Users\\bhereth\\AppData\\Local\\Temp\\ipykernel_21048\\1245522130.py:102: UserWarning: Geometry is in a geographic CRS. Results from 'centroid' are likely incorrect. Use 'GeoSeries.to_crs()' to re-project geometries to a projected CRS before this operation.\n",
      "\n",
      "  center = [subset_geo.geometry.centroid.y.mean(), subset_geo.geometry.centroid.x.mean()]\n",
      "C:\\Users\\bhereth\\AppData\\Local\\Temp\\ipykernel_21048\\1245522130.py:111: UserWarning: Geometry is in a geographic CRS. Results from 'centroid' are likely incorrect. Use 'GeoSeries.to_crs()' to re-project geometries to a projected CRS before this operation.\n",
      "\n",
      "  taz_match.geometry.centroid.y.values[0],\n",
      "C:\\Users\\bhereth\\AppData\\Local\\Temp\\ipykernel_21048\\1245522130.py:112: UserWarning: Geometry is in a geographic CRS. Results from 'centroid' are likely incorrect. Use 'GeoSeries.to_crs()' to re-project geometries to a projected CRS before this operation.\n",
      "\n",
      "  taz_match.geometry.centroid.x.values[0]\n"
     ]
    },
    {
     "name": "stdout",
     "output_type": "stream",
     "text": [
      "Saved: output_maps\\MAG Office_transit_drive_New_Method.png\n",
      "Saved: output_maps\\MAG Office_transit_drive_Old_Method.png\n"
     ]
    },
    {
     "name": "stderr",
     "output_type": "stream",
     "text": [
      "C:\\Users\\bhereth\\AppData\\Local\\Temp\\ipykernel_21048\\1245522130.py:102: UserWarning: Geometry is in a geographic CRS. Results from 'centroid' are likely incorrect. Use 'GeoSeries.to_crs()' to re-project geometries to a projected CRS before this operation.\n",
      "\n",
      "  center = [subset_geo.geometry.centroid.y.mean(), subset_geo.geometry.centroid.x.mean()]\n",
      "C:\\Users\\bhereth\\AppData\\Local\\Temp\\ipykernel_21048\\1245522130.py:111: UserWarning: Geometry is in a geographic CRS. Results from 'centroid' are likely incorrect. Use 'GeoSeries.to_crs()' to re-project geometries to a projected CRS before this operation.\n",
      "\n",
      "  taz_match.geometry.centroid.y.values[0],\n",
      "C:\\Users\\bhereth\\AppData\\Local\\Temp\\ipykernel_21048\\1245522130.py:112: UserWarning: Geometry is in a geographic CRS. Results from 'centroid' are likely incorrect. Use 'GeoSeries.to_crs()' to re-project geometries to a projected CRS before this operation.\n",
      "\n",
      "  taz_match.geometry.centroid.x.values[0]\n"
     ]
    },
    {
     "name": "stdout",
     "output_type": "stream",
     "text": [
      "Saved: output_maps\\Saratoga_auto_New_Method.png\n",
      "Saved: output_maps\\Saratoga_auto_Old_Method.png\n"
     ]
    },
    {
     "name": "stderr",
     "output_type": "stream",
     "text": [
      "C:\\Users\\bhereth\\AppData\\Local\\Temp\\ipykernel_21048\\1245522130.py:102: UserWarning: Geometry is in a geographic CRS. Results from 'centroid' are likely incorrect. Use 'GeoSeries.to_crs()' to re-project geometries to a projected CRS before this operation.\n",
      "\n",
      "  center = [subset_geo.geometry.centroid.y.mean(), subset_geo.geometry.centroid.x.mean()]\n",
      "C:\\Users\\bhereth\\AppData\\Local\\Temp\\ipykernel_21048\\1245522130.py:111: UserWarning: Geometry is in a geographic CRS. Results from 'centroid' are likely incorrect. Use 'GeoSeries.to_crs()' to re-project geometries to a projected CRS before this operation.\n",
      "\n",
      "  taz_match.geometry.centroid.y.values[0],\n",
      "C:\\Users\\bhereth\\AppData\\Local\\Temp\\ipykernel_21048\\1245522130.py:112: UserWarning: Geometry is in a geographic CRS. Results from 'centroid' are likely incorrect. Use 'GeoSeries.to_crs()' to re-project geometries to a projected CRS before this operation.\n",
      "\n",
      "  taz_match.geometry.centroid.x.values[0]\n"
     ]
    },
    {
     "name": "stdout",
     "output_type": "stream",
     "text": [
      "Saved: output_maps\\Saratoga_transit_walk_New_Method.png\n",
      "Saved: output_maps\\Saratoga_transit_walk_Old_Method.png\n"
     ]
    },
    {
     "name": "stderr",
     "output_type": "stream",
     "text": [
      "C:\\Users\\bhereth\\AppData\\Local\\Temp\\ipykernel_21048\\1245522130.py:102: UserWarning: Geometry is in a geographic CRS. Results from 'centroid' are likely incorrect. Use 'GeoSeries.to_crs()' to re-project geometries to a projected CRS before this operation.\n",
      "\n",
      "  center = [subset_geo.geometry.centroid.y.mean(), subset_geo.geometry.centroid.x.mean()]\n",
      "C:\\Users\\bhereth\\AppData\\Local\\Temp\\ipykernel_21048\\1245522130.py:111: UserWarning: Geometry is in a geographic CRS. Results from 'centroid' are likely incorrect. Use 'GeoSeries.to_crs()' to re-project geometries to a projected CRS before this operation.\n",
      "\n",
      "  taz_match.geometry.centroid.y.values[0],\n",
      "C:\\Users\\bhereth\\AppData\\Local\\Temp\\ipykernel_21048\\1245522130.py:112: UserWarning: Geometry is in a geographic CRS. Results from 'centroid' are likely incorrect. Use 'GeoSeries.to_crs()' to re-project geometries to a projected CRS before this operation.\n",
      "\n",
      "  taz_match.geometry.centroid.x.values[0]\n"
     ]
    },
    {
     "name": "stdout",
     "output_type": "stream",
     "text": [
      "Saved: output_maps\\Saratoga_transit_drive_New_Method.png\n",
      "Saved: output_maps\\Saratoga_transit_drive_Old_Method.png\n",
      "All PNG maps saved in 'output_maps' folder.\n"
     ]
    }
   ],
   "source": [
    "# Load the TAZ GeoJSON file\n",
    "taz_geo = gpd.read_file(\"taz/WFv910_TAZ.geojson\")\n",
    "taz_df = pd.read_csv(\"taz/WFv910_TAZ.csv\")\n",
    "taz_geo_merged = pd.merge(taz_geo, taz_df, on=\"TAZID\")\n",
    "taz_geo_merged = taz_geo_merged[(taz_geo_merged['REMM']==1) & (taz_geo_merged['DEVPBLEPCT']>0)]\n",
    "taz_geo = taz_geo_merged\n",
    "#display(taz_geo_merged)\n",
    "\n",
    "# Merge TAZ data with the extracted dataset using 'TAZID'\n",
    "merged_geo = taz_geo.merge(merged_df, left_on=\"TAZID\", right_on=\"TAZ_A\")\n",
    "\n",
    "# Set up Chrome WebDriver for capturing PNGs\n",
    "chrome_options = webdriver.ChromeOptions()\n",
    "chrome_options.add_argument(\"--headless\")\n",
    "chrome_options.add_argument(\"--window-size=1200x800\")\n",
    "chrome_options.add_argument(\"--no-sandbox\")\n",
    "\n",
    "driver = webdriver.Chrome(service=Service(ChromeDriverManager().install()), options=chrome_options)\n",
    "\n",
    "# Custom RGB color palette for MapClass (converted to HEX)\n",
    "mapclass_colors = {\n",
    "    11: \"#ACFA70\",  # (172,250,112)\n",
    "    10: \"#70EA80\",  # (112,234,128)\n",
    "    9:  \"#23D890\",  # (35,216,144)\n",
    "    8:  \"#00C49E\",  # (0,196,158)\n",
    "    7:  \"#00ADA4\",  # (0,173,164)\n",
    "    6:  \"#0097A3\",  # (0,151,163)\n",
    "    5:  \"#00829D\",  # (0,130,157)\n",
    "    4:  \"#006D95\",  # (0,109,149)\n",
    "    3:  \"#005886\",  # (0,88,134)\n",
    "    2:  \"#204370\",  # (32,67,112)\n",
    "    1:  \"#292F56\",  # (41,47,86)\n",
    "}\n",
    "\n",
    "# Function to create a Folium map with custom colors and matching polygon borders\n",
    "def create_map(geo_data, title, center, zoom_level, taz_p_location=None):\n",
    "    \"\"\"Creates a Folium map with a custom color scheme, polygon borders, and a marker at TAZ_P.\"\"\"\n",
    "    map_obj = folium.Map(location=taz_p_location, zoom_start=zoom_level)\n",
    "\n",
    "    if geo_data.empty or geo_data[\"geometry\"].isna().all():\n",
    "        # If no data, add a marker indicating \"No Data Available\"\n",
    "        folium.Marker(\n",
    "            location=center,\n",
    "            popup=\"No Data Available\",\n",
    "            icon=folium.Icon(color=\"gray\")\n",
    "        ).add_to(map_obj)\n",
    "    else:\n",
    "        # Style function to apply custom colors and matching border color\n",
    "        def style_function(feature):\n",
    "            mapclass = feature[\"properties\"].get(\"MapClass\", None)\n",
    "            fill_color = mapclass_colors.get(mapclass, \"#FFFFFF\")  # Default to white if not found\n",
    "            return {\n",
    "                \"fillColor\": fill_color,\n",
    "                \"color\": fill_color,  # **MATCH BORDER TO FILL COLOR**\n",
    "                \"weight\": 0.5,  # Slight weight to avoid slivers\n",
    "                \"fillOpacity\": 0.85\n",
    "            }\n",
    "\n",
    "        folium.GeoJson(\n",
    "            geo_data,\n",
    "            style_function=style_function,\n",
    "            tooltip=folium.GeoJsonTooltip(fields=[\"MapClass\"])\n",
    "        ).add_to(map_obj)\n",
    "\n",
    "    # Add a marker for the TAZ_P location if available\n",
    "    if taz_p_location:\n",
    "        folium.Marker(\n",
    "            location=taz_p_location,\n",
    "            popup=f\"TAZ_P: {title}\",\n",
    "            icon=folium.Icon(color=\"red\", icon=\"info-sign\")\n",
    "        ).add_to(map_obj)\n",
    "\n",
    "    return map_obj\n",
    "\n",
    "\n",
    "# Folder to store PNGs\n",
    "output_folder = \"output_maps\"\n",
    "os.makedirs(output_folder, exist_ok=True)\n",
    "\n",
    "# Loop through each unique I value to create separate maps\n",
    "for _, row_taz_rows_to_extract_df in taz_rows_to_extract_df.iterrows():\n",
    "\n",
    "    taz_p_val = row_taz_rows_to_extract_df['taz_id']\n",
    "    map_label = row_taz_rows_to_extract_df['map_label']\n",
    "\n",
    "    for _, row in matrices_for_extraction_df.iterrows():\n",
    "\n",
    "        auto_transit = row['AutoTransit']\n",
    "        access_mode = row['AccessMode']\n",
    "\n",
    "        subset_geo = merged_geo[\n",
    "            (merged_geo[\"TAZ_P\"] == taz_p_val) &\n",
    "            (merged_geo['AutoTransit'] == auto_transit) &\n",
    "            (merged_geo['AccessMode'] == access_mode)\n",
    "        ]\n",
    "\n",
    "        # Separate datasets for New and Old methods\n",
    "        new_geo = subset_geo[subset_geo[\"Method\"] == \"New\"]\n",
    "        old_geo = subset_geo[subset_geo[\"Method\"] == \"Old\"]\n",
    "\n",
    "        # Define a consistent zoom extent based on the full dataset for `TAZ_P`\n",
    "        center = [subset_geo.geometry.centroid.y.mean(), subset_geo.geometry.centroid.x.mean()]\n",
    "        zoom_level = 10  # Adjust if necessary\n",
    "\n",
    "        # Find the centroid of the TAZ polygon where TAZID == TAZ_P\n",
    "        taz_p_location = None\n",
    "        taz_match = taz_geo[taz_geo[\"TAZID\"] == taz_p_val]\n",
    "\n",
    "        if not taz_match.empty:\n",
    "            taz_p_location = [\n",
    "                taz_match.geometry.centroid.y.values[0],\n",
    "                taz_match.geometry.centroid.x.values[0]\n",
    "            ]\n",
    "\n",
    "        # Ensure an empty GeoDataFrame is properly structured\n",
    "        empty_geojson = gpd.GeoDataFrame({'MapClass': [], 'geometry': []}, geometry='geometry', crs=\"EPSG:4326\")\n",
    "\n",
    "        # Create maps with the correct TAZ marker\n",
    "        if not new_geo.empty:\n",
    "            new_map = create_map(new_geo, f\"{map_label}_{auto_transit}_{access_mode}_New_Method\", center, zoom_level, taz_p_location)\n",
    "        else:\n",
    "            print(f\"No data for New Method: {map_label}, {auto_transit}, {access_mode}\")\n",
    "            new_map = create_map(empty_geojson, f\"{map_label}_{auto_transit}_{access_mode}_New_Method (No Data)\", center, zoom_level, taz_p_location)\n",
    "\n",
    "        if not old_geo.empty:\n",
    "            old_map = create_map(old_geo, f\"{map_label}_{auto_transit}_{access_mode}_Old_Method\", center, zoom_level, taz_p_location)\n",
    "        else:\n",
    "            print(f\"No data for Old Method: {map_label}, {auto_transit}, {access_mode}\")\n",
    "            old_map = create_map(empty_geojson, f\"{map_label}_{auto_transit}_{access_mode}_Old_Method (No Data)\", center, zoom_level, taz_p_location)\n",
    "\n",
    "        # Save maps as temporary HTML files\n",
    "        new_map_html = f\"output_html/map_temp_{map_label}_{auto_transit}_{access_mode}_new.html\"\n",
    "        old_map_html = f\"output_html/map_temp_{map_label}_{auto_transit}_{access_mode}_old.html\"\n",
    "        \n",
    "        new_map.save(new_map_html)\n",
    "        old_map.save(old_map_html)\n",
    "\n",
    "        # Convert HTML to PNG\n",
    "        def save_as_png(html_file, output_file):\n",
    "            \"\"\"Renders the HTML map and saves it as a PNG image.\"\"\"\n",
    "            file_url = f\"file://{os.path.abspath(html_file)}\"\n",
    "            driver.get(file_url)\n",
    "            driver.save_screenshot(output_file)\n",
    "            print(f\"Saved: {output_file}\")\n",
    "\n",
    "        # File names with TAZ_P at the beginning\n",
    "        if access_mode == 'none':\n",
    "            new_png = os.path.join(output_folder, f\"{map_label}_{auto_transit}_New_Method.png\")\n",
    "            old_png = os.path.join(output_folder, f\"{map_label}_{auto_transit}_Old_Method.png\")\n",
    "        else:\n",
    "            new_png = os.path.join(output_folder, f\"{map_label}_{auto_transit}_{access_mode}_New_Method.png\")\n",
    "            old_png = os.path.join(output_folder, f\"{map_label}_{auto_transit}_{access_mode}_Old_Method.png\")\n",
    "\n",
    "        save_as_png(new_map_html, new_png)\n",
    "        save_as_png(old_map_html, old_png)\n",
    "\n",
    "        # Clean up temporary HTML files\n",
    "        os.remove(new_map_html)\n",
    "        os.remove(old_map_html)\n",
    "\n",
    "# Close the WebDriver\n",
    "driver.quit()\n",
    "\n",
    "print(f\"All PNG maps saved in '{output_folder}' folder.\")\n"
   ]
  }
 ],
 "metadata": {
  "kernelspec": {
   "display_name": "march2024",
   "language": "python",
   "name": "python3"
  },
  "language_info": {
   "codemirror_mode": {
    "name": "ipython",
    "version": 3
   },
   "file_extension": ".py",
   "mimetype": "text/x-python",
   "name": "python",
   "nbconvert_exporter": "python",
   "pygments_lexer": "ipython3",
   "version": "3.9.19"
  }
 },
 "nbformat": 4,
 "nbformat_minor": 2
}
