{
 "cells": [
  {
   "cell_type": "code",
   "execution_count": 1,
   "metadata": {},
   "outputs": [],
   "source": [
    "import geopandas as gpd\n",
    "import pandas as pd\n",
    "import folium\n",
    "from branca.colormap import linear\n",
    "import os\n",
    "from selenium import webdriver\n",
    "from selenium.webdriver.chrome.service import Service\n",
    "from webdriver_manager.chrome import ChromeDriverManager\n",
    "import openmatrix as omx"
   ]
  },
  {
   "cell_type": "code",
   "execution_count": 2,
   "metadata": {},
   "outputs": [
    {
     "data": {
      "application/vnd.microsoft.datawrangler.viewer.v0+json": {
       "columns": [
        {
         "name": "index",
         "rawType": "int64",
         "type": "integer"
        },
        {
         "name": "AutoTransit",
         "rawType": "object",
         "type": "string"
        },
        {
         "name": "omx_filename",
         "rawType": "object",
         "type": "string"
        }
       ],
       "conversionMethod": "pd.DataFrame",
       "ref": "cda16492-99ff-41c8-a7ca-51f841ac6f05",
       "rows": [
        [
         "0",
         "auto",
         "data/input_matrix_auto.omx"
        ],
        [
         "1",
         "transit",
         "data/input_matrix_transit.omx"
        ]
       ],
       "shape": {
        "columns": 2,
        "rows": 2
       }
      },
      "text/html": [
       "<div>\n",
       "<style scoped>\n",
       "    .dataframe tbody tr th:only-of-type {\n",
       "        vertical-align: middle;\n",
       "    }\n",
       "\n",
       "    .dataframe tbody tr th {\n",
       "        vertical-align: top;\n",
       "    }\n",
       "\n",
       "    .dataframe thead th {\n",
       "        text-align: right;\n",
       "    }\n",
       "</style>\n",
       "<table border=\"1\" class=\"dataframe\">\n",
       "  <thead>\n",
       "    <tr style=\"text-align: right;\">\n",
       "      <th></th>\n",
       "      <th>AutoTransit</th>\n",
       "      <th>omx_filename</th>\n",
       "    </tr>\n",
       "  </thead>\n",
       "  <tbody>\n",
       "    <tr>\n",
       "      <th>0</th>\n",
       "      <td>auto</td>\n",
       "      <td>data/input_matrix_auto.omx</td>\n",
       "    </tr>\n",
       "    <tr>\n",
       "      <th>1</th>\n",
       "      <td>transit</td>\n",
       "      <td>data/input_matrix_transit.omx</td>\n",
       "    </tr>\n",
       "  </tbody>\n",
       "</table>\n",
       "</div>"
      ],
      "text/plain": [
       "  AutoTransit                   omx_filename\n",
       "0        auto     data/input_matrix_auto.omx\n",
       "1     transit  data/input_matrix_transit.omx"
      ]
     },
     "metadata": {},
     "output_type": "display_data"
    },
    {
     "data": {
      "application/vnd.microsoft.datawrangler.viewer.v0+json": {
       "columns": [
        {
         "name": "index",
         "rawType": "int64",
         "type": "integer"
        },
        {
         "name": "Method",
         "rawType": "object",
         "type": "string"
        },
        {
         "name": "AutoTransit",
         "rawType": "object",
         "type": "string"
        },
        {
         "name": "AccessMode",
         "rawType": "object",
         "type": "string"
        },
        {
         "name": "matrices_to_get_minimum",
         "rawType": "object",
         "type": "unknown"
        }
       ],
       "conversionMethod": "pd.DataFrame",
       "ref": "c8308074-7ebb-4bd6-a870-91b205aa6afd",
       "rows": [
        [
         "0",
         "New",
         "auto",
         "none",
         "['GP_TotTime']"
        ],
        [
         "1",
         "Old",
         "auto",
         "none",
         "['GP_TotTime']"
        ],
        [
         "2",
         "New",
         "transit",
         "walk",
         "['w4time', 'w5time', 'w6time', 'w7time', 'w8time', 'w9time']"
        ],
        [
         "3",
         "New",
         "transit",
         "drive",
         "['d4time', 'd5time', 'd6time', 'd7time', 'd8time', 'd9time']"
        ],
        [
         "4",
         "Old",
         "transit",
         "both",
         "['w4time', 'w5time', 'w6time', 'w7time', 'w8time', 'w9time', 'd4time', 'd5time', 'd6time', 'd7time', 'd8time', 'd9time']"
        ]
       ],
       "shape": {
        "columns": 4,
        "rows": 5
       }
      },
      "text/html": [
       "<div>\n",
       "<style scoped>\n",
       "    .dataframe tbody tr th:only-of-type {\n",
       "        vertical-align: middle;\n",
       "    }\n",
       "\n",
       "    .dataframe tbody tr th {\n",
       "        vertical-align: top;\n",
       "    }\n",
       "\n",
       "    .dataframe thead th {\n",
       "        text-align: right;\n",
       "    }\n",
       "</style>\n",
       "<table border=\"1\" class=\"dataframe\">\n",
       "  <thead>\n",
       "    <tr style=\"text-align: right;\">\n",
       "      <th></th>\n",
       "      <th>Method</th>\n",
       "      <th>AutoTransit</th>\n",
       "      <th>AccessMode</th>\n",
       "      <th>matrices_to_get_minimum</th>\n",
       "    </tr>\n",
       "  </thead>\n",
       "  <tbody>\n",
       "    <tr>\n",
       "      <th>0</th>\n",
       "      <td>New</td>\n",
       "      <td>auto</td>\n",
       "      <td>none</td>\n",
       "      <td>[GP_TotTime]</td>\n",
       "    </tr>\n",
       "    <tr>\n",
       "      <th>1</th>\n",
       "      <td>Old</td>\n",
       "      <td>auto</td>\n",
       "      <td>none</td>\n",
       "      <td>[GP_TotTime]</td>\n",
       "    </tr>\n",
       "    <tr>\n",
       "      <th>2</th>\n",
       "      <td>New</td>\n",
       "      <td>transit</td>\n",
       "      <td>walk</td>\n",
       "      <td>[w4time, w5time, w6time, w7time, w8time, w9time]</td>\n",
       "    </tr>\n",
       "    <tr>\n",
       "      <th>3</th>\n",
       "      <td>New</td>\n",
       "      <td>transit</td>\n",
       "      <td>drive</td>\n",
       "      <td>[d4time, d5time, d6time, d7time, d8time, d9time]</td>\n",
       "    </tr>\n",
       "    <tr>\n",
       "      <th>4</th>\n",
       "      <td>Old</td>\n",
       "      <td>transit</td>\n",
       "      <td>both</td>\n",
       "      <td>[w4time, w5time, w6time, w7time, w8time, w9tim...</td>\n",
       "    </tr>\n",
       "  </tbody>\n",
       "</table>\n",
       "</div>"
      ],
      "text/plain": [
       "  Method AutoTransit AccessMode  \\\n",
       "0    New        auto       none   \n",
       "1    Old        auto       none   \n",
       "2    New     transit       walk   \n",
       "3    New     transit      drive   \n",
       "4    Old     transit       both   \n",
       "\n",
       "                             matrices_to_get_minimum  \n",
       "0                                       [GP_TotTime]  \n",
       "1                                       [GP_TotTime]  \n",
       "2   [w4time, w5time, w6time, w7time, w8time, w9time]  \n",
       "3   [d4time, d5time, d6time, d7time, d8time, d9time]  \n",
       "4  [w4time, w5time, w6time, w7time, w8time, w9tim...  "
      ]
     },
     "metadata": {},
     "output_type": "display_data"
    }
   ],
   "source": [
    "# List of TAZ rows to extract\n",
    "taz_rows_to_extract_df = pd.DataFrame([\n",
    "    [ 502, 'Roy'          ],\n",
    "    [ 757, 'Kaysville'    ],\n",
    "    [ 832, 'Bountiful'    ],\n",
    "    [1629, 'Murray'       ],\n",
    "    [1984, 'South Jordan' ],\n",
    "    [3167, 'Spanish Fork' ],\n",
    "    [2845, 'MAG Office'   ],\n",
    "    [2513, 'Saratoga'      ]\n",
    "], columns=['taz_id','map_label'])\n",
    "\n",
    "taz_rows_to_extract = taz_rows_to_extract_df['taz_id'].drop_duplicates().to_list()\n",
    "\n",
    "output_csv = \"intermediate/TAZ-PA-Time.csv\"\n",
    "\n",
    "# Define the input OMX file and output CSV file\n",
    "omx_files_df = pd.DataFrame([\n",
    "    ['auto', 'data/input_matrix_auto.omx'],\n",
    "    ['transit', 'data/input_matrix_transit.omx']\n",
    "], columns=['AutoTransit','omx_filename'])\n",
    "display(omx_files_df)\n",
    "\n",
    "matrices_for_extraction_df = pd.DataFrame([\n",
    "    ['New','auto','none',['GP_TotTime']],#,'MG_TotTime']],\n",
    "    ['Old','auto','none',['GP_TotTime']],#,'MG_TotTime']],\n",
    "    ['New','transit','walk',['w4time','w5time','w6time','w7time','w8time','w9time']],\n",
    "    ['New','transit','drive',['d4time','d5time','d6time','d7time','d8time','d9time']],\n",
    "    ['Old','transit','both',['w4time','w5time','w6time','w7time','w8time','w9time','d4time','d5time','d6time','d7time','d8time','d9time']],\n",
    "], columns=['Method','AutoTransit','AccessMode','matrices_to_get_minimum'])\n",
    "display(matrices_for_extraction_df)"
   ]
  },
  {
   "cell_type": "code",
   "execution_count": 3,
   "metadata": {},
   "outputs": [
    {
     "data": {
      "application/vnd.microsoft.datawrangler.viewer.v0+json": {
       "columns": [
        {
         "name": "index",
         "rawType": "int64",
         "type": "integer"
        },
        {
         "name": "TAZ_P",
         "rawType": "int64",
         "type": "integer"
        },
        {
         "name": "TAZ_A",
         "rawType": "int64",
         "type": "integer"
        },
        {
         "name": "Value",
         "rawType": "float64",
         "type": "float"
        },
        {
         "name": "AutoTransit",
         "rawType": "object",
         "type": "string"
        },
        {
         "name": "AccessMode",
         "rawType": "object",
         "type": "string"
        },
        {
         "name": "Method",
         "rawType": "object",
         "type": "string"
        }
       ],
       "conversionMethod": "pd.DataFrame",
       "ref": "7e9336fd-f37f-444d-8372-ba8fd09371d7",
       "rows": [
        [
         "0",
         "502",
         "1",
         "37.38",
         "auto",
         "none",
         "New"
        ],
        [
         "1",
         "502",
         "2",
         "36.82",
         "auto",
         "none",
         "New"
        ],
        [
         "2",
         "502",
         "3",
         "32.13",
         "auto",
         "none",
         "New"
        ],
        [
         "3",
         "502",
         "4",
         "33.19",
         "auto",
         "none",
         "New"
        ],
        [
         "4",
         "502",
         "5",
         "35.7",
         "auto",
         "none",
         "New"
        ],
        [
         "5",
         "502",
         "6",
         "31.79",
         "auto",
         "none",
         "New"
        ],
        [
         "6",
         "502",
         "7",
         "32.04",
         "auto",
         "none",
         "New"
        ],
        [
         "7",
         "502",
         "8",
         "32.57",
         "auto",
         "none",
         "New"
        ],
        [
         "8",
         "502",
         "9",
         "29.28",
         "auto",
         "none",
         "New"
        ],
        [
         "9",
         "502",
         "10",
         "29.0",
         "auto",
         "none",
         "New"
        ],
        [
         "10",
         "502",
         "11",
         "30.1",
         "auto",
         "none",
         "New"
        ],
        [
         "11",
         "502",
         "12",
         "28.32",
         "auto",
         "none",
         "New"
        ],
        [
         "12",
         "502",
         "13",
         "26.74",
         "auto",
         "none",
         "New"
        ],
        [
         "13",
         "502",
         "14",
         "27.21",
         "auto",
         "none",
         "New"
        ],
        [
         "14",
         "502",
         "15",
         "31.05",
         "auto",
         "none",
         "New"
        ],
        [
         "15",
         "502",
         "16",
         "29.09",
         "auto",
         "none",
         "New"
        ],
        [
         "16",
         "502",
         "17",
         "28.31",
         "auto",
         "none",
         "New"
        ],
        [
         "17",
         "502",
         "18",
         "27.67",
         "auto",
         "none",
         "New"
        ],
        [
         "18",
         "502",
         "19",
         "30.1",
         "auto",
         "none",
         "New"
        ],
        [
         "19",
         "502",
         "20",
         "31.57",
         "auto",
         "none",
         "New"
        ],
        [
         "20",
         "502",
         "21",
         "28.58",
         "auto",
         "none",
         "New"
        ],
        [
         "21",
         "502",
         "22",
         "28.88",
         "auto",
         "none",
         "New"
        ],
        [
         "22",
         "502",
         "23",
         "29.28",
         "auto",
         "none",
         "New"
        ],
        [
         "23",
         "502",
         "24",
         "29.74",
         "auto",
         "none",
         "New"
        ],
        [
         "24",
         "502",
         "25",
         "30.53",
         "auto",
         "none",
         "New"
        ],
        [
         "25",
         "502",
         "26",
         "30.81",
         "auto",
         "none",
         "New"
        ],
        [
         "26",
         "502",
         "27",
         "28.62",
         "auto",
         "none",
         "New"
        ],
        [
         "27",
         "502",
         "28",
         "29.2",
         "auto",
         "none",
         "New"
        ],
        [
         "28",
         "502",
         "29",
         "30.11",
         "auto",
         "none",
         "New"
        ],
        [
         "29",
         "502",
         "30",
         "30.94",
         "auto",
         "none",
         "New"
        ],
        [
         "30",
         "502",
         "31",
         "30.67",
         "auto",
         "none",
         "New"
        ],
        [
         "31",
         "502",
         "32",
         "31.31",
         "auto",
         "none",
         "New"
        ],
        [
         "32",
         "502",
         "33",
         "31.52",
         "auto",
         "none",
         "New"
        ],
        [
         "33",
         "502",
         "34",
         "31.91",
         "auto",
         "none",
         "New"
        ],
        [
         "34",
         "502",
         "35",
         "32.27",
         "auto",
         "none",
         "New"
        ],
        [
         "35",
         "502",
         "36",
         "33.47",
         "auto",
         "none",
         "New"
        ],
        [
         "36",
         "502",
         "37",
         "26.54",
         "auto",
         "none",
         "New"
        ],
        [
         "37",
         "502",
         "38",
         "27.54",
         "auto",
         "none",
         "New"
        ],
        [
         "38",
         "502",
         "39",
         "29.95",
         "auto",
         "none",
         "New"
        ],
        [
         "39",
         "502",
         "40",
         "30.39",
         "auto",
         "none",
         "New"
        ],
        [
         "40",
         "502",
         "41",
         "31.16",
         "auto",
         "none",
         "New"
        ],
        [
         "41",
         "502",
         "42",
         "30.85",
         "auto",
         "none",
         "New"
        ],
        [
         "42",
         "502",
         "43",
         "31.75",
         "auto",
         "none",
         "New"
        ],
        [
         "43",
         "502",
         "44",
         "32.03",
         "auto",
         "none",
         "New"
        ],
        [
         "44",
         "502",
         "45",
         "32.34",
         "auto",
         "none",
         "New"
        ],
        [
         "45",
         "502",
         "46",
         "33.3",
         "auto",
         "none",
         "New"
        ],
        [
         "46",
         "502",
         "47",
         "30.52",
         "auto",
         "none",
         "New"
        ],
        [
         "47",
         "502",
         "48",
         "28.61",
         "auto",
         "none",
         "New"
        ],
        [
         "48",
         "502",
         "49",
         "26.58",
         "auto",
         "none",
         "New"
        ],
        [
         "49",
         "502",
         "50",
         "27.75",
         "auto",
         "none",
         "New"
        ]
       ],
       "shape": {
        "columns": 6,
        "rows": 91567
       }
      },
      "text/html": [
       "<div>\n",
       "<style scoped>\n",
       "    .dataframe tbody tr th:only-of-type {\n",
       "        vertical-align: middle;\n",
       "    }\n",
       "\n",
       "    .dataframe tbody tr th {\n",
       "        vertical-align: top;\n",
       "    }\n",
       "\n",
       "    .dataframe thead th {\n",
       "        text-align: right;\n",
       "    }\n",
       "</style>\n",
       "<table border=\"1\" class=\"dataframe\">\n",
       "  <thead>\n",
       "    <tr style=\"text-align: right;\">\n",
       "      <th></th>\n",
       "      <th>TAZ_P</th>\n",
       "      <th>TAZ_A</th>\n",
       "      <th>Value</th>\n",
       "      <th>AutoTransit</th>\n",
       "      <th>AccessMode</th>\n",
       "      <th>Method</th>\n",
       "    </tr>\n",
       "  </thead>\n",
       "  <tbody>\n",
       "    <tr>\n",
       "      <th>0</th>\n",
       "      <td>502</td>\n",
       "      <td>1</td>\n",
       "      <td>37.38</td>\n",
       "      <td>auto</td>\n",
       "      <td>none</td>\n",
       "      <td>New</td>\n",
       "    </tr>\n",
       "    <tr>\n",
       "      <th>1</th>\n",
       "      <td>502</td>\n",
       "      <td>2</td>\n",
       "      <td>36.82</td>\n",
       "      <td>auto</td>\n",
       "      <td>none</td>\n",
       "      <td>New</td>\n",
       "    </tr>\n",
       "    <tr>\n",
       "      <th>2</th>\n",
       "      <td>502</td>\n",
       "      <td>3</td>\n",
       "      <td>32.13</td>\n",
       "      <td>auto</td>\n",
       "      <td>none</td>\n",
       "      <td>New</td>\n",
       "    </tr>\n",
       "    <tr>\n",
       "      <th>3</th>\n",
       "      <td>502</td>\n",
       "      <td>4</td>\n",
       "      <td>33.19</td>\n",
       "      <td>auto</td>\n",
       "      <td>none</td>\n",
       "      <td>New</td>\n",
       "    </tr>\n",
       "    <tr>\n",
       "      <th>4</th>\n",
       "      <td>502</td>\n",
       "      <td>5</td>\n",
       "      <td>35.70</td>\n",
       "      <td>auto</td>\n",
       "      <td>none</td>\n",
       "      <td>New</td>\n",
       "    </tr>\n",
       "    <tr>\n",
       "      <th>...</th>\n",
       "      <td>...</td>\n",
       "      <td>...</td>\n",
       "      <td>...</td>\n",
       "      <td>...</td>\n",
       "      <td>...</td>\n",
       "      <td>...</td>\n",
       "    </tr>\n",
       "    <tr>\n",
       "      <th>91562</th>\n",
       "      <td>2513</td>\n",
       "      <td>3455</td>\n",
       "      <td>92.05</td>\n",
       "      <td>transit</td>\n",
       "      <td>both</td>\n",
       "      <td>Old</td>\n",
       "    </tr>\n",
       "    <tr>\n",
       "      <th>91563</th>\n",
       "      <td>2513</td>\n",
       "      <td>3460</td>\n",
       "      <td>160.12</td>\n",
       "      <td>transit</td>\n",
       "      <td>both</td>\n",
       "      <td>Old</td>\n",
       "    </tr>\n",
       "    <tr>\n",
       "      <th>91564</th>\n",
       "      <td>2513</td>\n",
       "      <td>3461</td>\n",
       "      <td>94.36</td>\n",
       "      <td>transit</td>\n",
       "      <td>both</td>\n",
       "      <td>Old</td>\n",
       "    </tr>\n",
       "    <tr>\n",
       "      <th>91565</th>\n",
       "      <td>2513</td>\n",
       "      <td>3462</td>\n",
       "      <td>153.61</td>\n",
       "      <td>transit</td>\n",
       "      <td>both</td>\n",
       "      <td>Old</td>\n",
       "    </tr>\n",
       "    <tr>\n",
       "      <th>91566</th>\n",
       "      <td>2513</td>\n",
       "      <td>3463</td>\n",
       "      <td>154.03</td>\n",
       "      <td>transit</td>\n",
       "      <td>both</td>\n",
       "      <td>Old</td>\n",
       "    </tr>\n",
       "  </tbody>\n",
       "</table>\n",
       "<p>91567 rows × 6 columns</p>\n",
       "</div>"
      ],
      "text/plain": [
       "       TAZ_P  TAZ_A   Value AutoTransit AccessMode Method\n",
       "0        502      1   37.38        auto       none    New\n",
       "1        502      2   36.82        auto       none    New\n",
       "2        502      3   32.13        auto       none    New\n",
       "3        502      4   33.19        auto       none    New\n",
       "4        502      5   35.70        auto       none    New\n",
       "...      ...    ...     ...         ...        ...    ...\n",
       "91562   2513   3455   92.05     transit       both    Old\n",
       "91563   2513   3460  160.12     transit       both    Old\n",
       "91564   2513   3461   94.36     transit       both    Old\n",
       "91565   2513   3462  153.61     transit       both    Old\n",
       "91566   2513   3463  154.03     transit       both    Old\n",
       "\n",
       "[91567 rows x 6 columns]"
      ]
     },
     "metadata": {},
     "output_type": "display_data"
    }
   ],
   "source": [
    "# Convert TAZ rows to zero-based index\n",
    "matrix_rows_to_extract = [i - 1 for i in taz_rows_to_extract]\n",
    "\n",
    "# Initialize list to store extracted data\n",
    "extracted_data = []\n",
    "\n",
    "# Loop through OMX files\n",
    "for _, row_files in omx_files_df.iterrows():\n",
    "    auto_transit = row_files['AutoTransit']\n",
    "\n",
    "    # Open OMX file\n",
    "    with omx.open_file(row_files['omx_filename'], 'r') as omx_data:\n",
    "        \n",
    "        # Filter matrices for the current AutoTransit mode\n",
    "        matrices_for_extraction_filtered_df = matrices_for_extraction_df[\n",
    "            matrices_for_extraction_df['AutoTransit'] == auto_transit\n",
    "        ]\n",
    "\n",
    "        # Loop over each AutoTransit & AccessMode combination\n",
    "        for _, row in matrices_for_extraction_filtered_df.iterrows():\n",
    "            method = row[\"Method\"]\n",
    "            access_mode = row[\"AccessMode\"]\n",
    "            matrices_to_extract = row[\"matrices_to_get_minimum\"]\n",
    "\n",
    "            # Extract and compute the minimum values across matrices for each I-J pair\n",
    "            for i in matrix_rows_to_extract:\n",
    "                for j in range(omx_data[matrices_to_extract[0]].shape[1]):  # Iterate over all columns (J values)\n",
    "                    \n",
    "                    # Extract values across all matrices at (i, j), filtering out 0 values\n",
    "                    matrix_values = [omx_data[matrix][i, j] for matrix in matrices_to_extract]\n",
    "                    non_zero_values = [val for val in matrix_values if val > 0]  # Filter out 0s\n",
    "                    \n",
    "                    # Get the minimum value across non-zero matrices (if any remain)\n",
    "                    min_value = min(non_zero_values) if non_zero_values else None\n",
    "                    \n",
    "                    # Append extracted data only if there's a valid minimum\n",
    "                    if min_value is not None:\n",
    "                        extracted_data.append([i + 1, j + 1, min_value, auto_transit, access_mode, method])\n",
    "\n",
    "# Convert to DataFrame\n",
    "extracted_data_df = pd.DataFrame(extracted_data, columns=['TAZ_P', 'TAZ_A', 'Value', 'AutoTransit', 'AccessMode', 'Method'])\n",
    "display(extracted_data_df)"
   ]
  },
  {
   "cell_type": "code",
   "execution_count": 4,
   "metadata": {},
   "outputs": [
    {
     "data": {
      "application/vnd.microsoft.datawrangler.viewer.v0+json": {
       "columns": [
        {
         "name": "index",
         "rawType": "int64",
         "type": "integer"
        },
        {
         "name": "TAZ_P",
         "rawType": "int64",
         "type": "integer"
        },
        {
         "name": "TAZ_A",
         "rawType": "int64",
         "type": "integer"
        },
        {
         "name": "Value",
         "rawType": "float64",
         "type": "float"
        },
        {
         "name": "AutoTransit",
         "rawType": "object",
         "type": "string"
        },
        {
         "name": "AccessMode",
         "rawType": "object",
         "type": "string"
        },
        {
         "name": "Method",
         "rawType": "object",
         "type": "string"
        }
       ],
       "conversionMethod": "pd.DataFrame",
       "ref": "76c4f3eb-8346-4cc6-8642-a946d1f70091",
       "rows": [
        [
         "78602",
         "502",
         "19",
         "104.3",
         "transit",
         "both",
         "Old"
        ],
        [
         "78603",
         "502",
         "20",
         "99.2",
         "transit",
         "both",
         "Old"
        ],
        [
         "78604",
         "502",
         "23",
         "128.35",
         "transit",
         "both",
         "Old"
        ],
        [
         "78605",
         "502",
         "24",
         "101.62",
         "transit",
         "both",
         "Old"
        ],
        [
         "78606",
         "502",
         "25",
         "93.13",
         "transit",
         "both",
         "Old"
        ],
        [
         "78607",
         "502",
         "26",
         "90.84",
         "transit",
         "both",
         "Old"
        ],
        [
         "78608",
         "502",
         "28",
         "131.28",
         "transit",
         "both",
         "Old"
        ],
        [
         "78609",
         "502",
         "29",
         "100.79",
         "transit",
         "both",
         "Old"
        ],
        [
         "78610",
         "502",
         "30",
         "92.12",
         "transit",
         "both",
         "Old"
        ],
        [
         "78611",
         "502",
         "31",
         "89.95",
         "transit",
         "both",
         "Old"
        ],
        [
         "78612",
         "502",
         "32",
         "96.31",
         "transit",
         "both",
         "Old"
        ],
        [
         "78613",
         "502",
         "33",
         "95.75",
         "transit",
         "both",
         "Old"
        ],
        [
         "78614",
         "502",
         "34",
         "101.4",
         "transit",
         "both",
         "Old"
        ],
        [
         "78615",
         "502",
         "35",
         "103.41",
         "transit",
         "both",
         "Old"
        ],
        [
         "78616",
         "502",
         "38",
         "129.71",
         "transit",
         "both",
         "Old"
        ],
        [
         "78617",
         "502",
         "39",
         "99.97",
         "transit",
         "both",
         "Old"
        ],
        [
         "78618",
         "502",
         "40",
         "92.39",
         "transit",
         "both",
         "Old"
        ],
        [
         "78619",
         "502",
         "41",
         "89.08",
         "transit",
         "both",
         "Old"
        ],
        [
         "78620",
         "502",
         "42",
         "94.94",
         "transit",
         "both",
         "Old"
        ],
        [
         "78621",
         "502",
         "43",
         "102.59",
         "transit",
         "both",
         "Old"
        ],
        [
         "78622",
         "502",
         "50",
         "128.69",
         "transit",
         "both",
         "Old"
        ],
        [
         "78623",
         "502",
         "51",
         "118.85",
         "transit",
         "both",
         "Old"
        ],
        [
         "78624",
         "502",
         "52",
         "98.54",
         "transit",
         "both",
         "Old"
        ],
        [
         "78625",
         "502",
         "53",
         "91.36",
         "transit",
         "both",
         "Old"
        ],
        [
         "78626",
         "502",
         "54",
         "88.49",
         "transit",
         "both",
         "Old"
        ],
        [
         "78627",
         "502",
         "55",
         "94.14",
         "transit",
         "both",
         "Old"
        ],
        [
         "78628",
         "502",
         "60",
         "100.94",
         "transit",
         "both",
         "Old"
        ],
        [
         "78629",
         "502",
         "61",
         "93.88",
         "transit",
         "both",
         "Old"
        ],
        [
         "78630",
         "502",
         "62",
         "85.78",
         "transit",
         "both",
         "Old"
        ],
        [
         "78631",
         "502",
         "63",
         "114.4",
         "transit",
         "both",
         "Old"
        ],
        [
         "78632",
         "502",
         "64",
         "84.7",
         "transit",
         "both",
         "Old"
        ],
        [
         "78633",
         "502",
         "65",
         "83.31",
         "transit",
         "both",
         "Old"
        ],
        [
         "78634",
         "502",
         "66",
         "82.65",
         "transit",
         "both",
         "Old"
        ],
        [
         "78635",
         "502",
         "67",
         "80.19",
         "transit",
         "both",
         "Old"
        ],
        [
         "78636",
         "502",
         "68",
         "92.05",
         "transit",
         "both",
         "Old"
        ],
        [
         "78637",
         "502",
         "69",
         "92.1",
         "transit",
         "both",
         "Old"
        ],
        [
         "78638",
         "502",
         "75",
         "79.59",
         "transit",
         "both",
         "Old"
        ],
        [
         "78639",
         "502",
         "76",
         "86.08",
         "transit",
         "both",
         "Old"
        ],
        [
         "78640",
         "502",
         "77",
         "76.94",
         "transit",
         "both",
         "Old"
        ],
        [
         "78641",
         "502",
         "78",
         "76.18",
         "transit",
         "both",
         "Old"
        ],
        [
         "78642",
         "502",
         "79",
         "80.72",
         "transit",
         "both",
         "Old"
        ],
        [
         "78643",
         "502",
         "80",
         "75.67",
         "transit",
         "both",
         "Old"
        ],
        [
         "78644",
         "502",
         "81",
         "97.75",
         "transit",
         "both",
         "Old"
        ],
        [
         "78645",
         "502",
         "82",
         "80.78",
         "transit",
         "both",
         "Old"
        ],
        [
         "78646",
         "502",
         "83",
         "76.98",
         "transit",
         "both",
         "Old"
        ],
        [
         "78647",
         "502",
         "84",
         "73.39",
         "transit",
         "both",
         "Old"
        ],
        [
         "78648",
         "502",
         "85",
         "75.23",
         "transit",
         "both",
         "Old"
        ],
        [
         "78649",
         "502",
         "88",
         "87.44",
         "transit",
         "both",
         "Old"
        ],
        [
         "78650",
         "502",
         "89",
         "75.89",
         "transit",
         "both",
         "Old"
        ],
        [
         "78651",
         "502",
         "90",
         "79.14",
         "transit",
         "both",
         "Old"
        ]
       ],
       "shape": {
        "columns": 6,
        "rows": 12965
       }
      },
      "text/html": [
       "<div>\n",
       "<style scoped>\n",
       "    .dataframe tbody tr th:only-of-type {\n",
       "        vertical-align: middle;\n",
       "    }\n",
       "\n",
       "    .dataframe tbody tr th {\n",
       "        vertical-align: top;\n",
       "    }\n",
       "\n",
       "    .dataframe thead th {\n",
       "        text-align: right;\n",
       "    }\n",
       "</style>\n",
       "<table border=\"1\" class=\"dataframe\">\n",
       "  <thead>\n",
       "    <tr style=\"text-align: right;\">\n",
       "      <th></th>\n",
       "      <th>TAZ_P</th>\n",
       "      <th>TAZ_A</th>\n",
       "      <th>Value</th>\n",
       "      <th>AutoTransit</th>\n",
       "      <th>AccessMode</th>\n",
       "      <th>Method</th>\n",
       "    </tr>\n",
       "  </thead>\n",
       "  <tbody>\n",
       "    <tr>\n",
       "      <th>78602</th>\n",
       "      <td>502</td>\n",
       "      <td>19</td>\n",
       "      <td>104.30</td>\n",
       "      <td>transit</td>\n",
       "      <td>both</td>\n",
       "      <td>Old</td>\n",
       "    </tr>\n",
       "    <tr>\n",
       "      <th>78603</th>\n",
       "      <td>502</td>\n",
       "      <td>20</td>\n",
       "      <td>99.20</td>\n",
       "      <td>transit</td>\n",
       "      <td>both</td>\n",
       "      <td>Old</td>\n",
       "    </tr>\n",
       "    <tr>\n",
       "      <th>78604</th>\n",
       "      <td>502</td>\n",
       "      <td>23</td>\n",
       "      <td>128.35</td>\n",
       "      <td>transit</td>\n",
       "      <td>both</td>\n",
       "      <td>Old</td>\n",
       "    </tr>\n",
       "    <tr>\n",
       "      <th>78605</th>\n",
       "      <td>502</td>\n",
       "      <td>24</td>\n",
       "      <td>101.62</td>\n",
       "      <td>transit</td>\n",
       "      <td>both</td>\n",
       "      <td>Old</td>\n",
       "    </tr>\n",
       "    <tr>\n",
       "      <th>78606</th>\n",
       "      <td>502</td>\n",
       "      <td>25</td>\n",
       "      <td>93.13</td>\n",
       "      <td>transit</td>\n",
       "      <td>both</td>\n",
       "      <td>Old</td>\n",
       "    </tr>\n",
       "    <tr>\n",
       "      <th>...</th>\n",
       "      <td>...</td>\n",
       "      <td>...</td>\n",
       "      <td>...</td>\n",
       "      <td>...</td>\n",
       "      <td>...</td>\n",
       "      <td>...</td>\n",
       "    </tr>\n",
       "    <tr>\n",
       "      <th>91562</th>\n",
       "      <td>2513</td>\n",
       "      <td>3455</td>\n",
       "      <td>92.05</td>\n",
       "      <td>transit</td>\n",
       "      <td>both</td>\n",
       "      <td>Old</td>\n",
       "    </tr>\n",
       "    <tr>\n",
       "      <th>91563</th>\n",
       "      <td>2513</td>\n",
       "      <td>3460</td>\n",
       "      <td>160.12</td>\n",
       "      <td>transit</td>\n",
       "      <td>both</td>\n",
       "      <td>Old</td>\n",
       "    </tr>\n",
       "    <tr>\n",
       "      <th>91564</th>\n",
       "      <td>2513</td>\n",
       "      <td>3461</td>\n",
       "      <td>94.36</td>\n",
       "      <td>transit</td>\n",
       "      <td>both</td>\n",
       "      <td>Old</td>\n",
       "    </tr>\n",
       "    <tr>\n",
       "      <th>91565</th>\n",
       "      <td>2513</td>\n",
       "      <td>3462</td>\n",
       "      <td>153.61</td>\n",
       "      <td>transit</td>\n",
       "      <td>both</td>\n",
       "      <td>Old</td>\n",
       "    </tr>\n",
       "    <tr>\n",
       "      <th>91566</th>\n",
       "      <td>2513</td>\n",
       "      <td>3463</td>\n",
       "      <td>154.03</td>\n",
       "      <td>transit</td>\n",
       "      <td>both</td>\n",
       "      <td>Old</td>\n",
       "    </tr>\n",
       "  </tbody>\n",
       "</table>\n",
       "<p>12965 rows × 6 columns</p>\n",
       "</div>"
      ],
      "text/plain": [
       "       TAZ_P  TAZ_A   Value AutoTransit AccessMode Method\n",
       "78602    502     19  104.30     transit       both    Old\n",
       "78603    502     20   99.20     transit       both    Old\n",
       "78604    502     23  128.35     transit       both    Old\n",
       "78605    502     24  101.62     transit       both    Old\n",
       "78606    502     25   93.13     transit       both    Old\n",
       "...      ...    ...     ...         ...        ...    ...\n",
       "91562   2513   3455   92.05     transit       both    Old\n",
       "91563   2513   3460  160.12     transit       both    Old\n",
       "91564   2513   3461   94.36     transit       both    Old\n",
       "91565   2513   3462  153.61     transit       both    Old\n",
       "91566   2513   3463  154.03     transit       both    Old\n",
       "\n",
       "[12965 rows x 6 columns]"
      ]
     },
     "execution_count": 4,
     "metadata": {},
     "output_type": "execute_result"
    }
   ],
   "source": [
    "extracted_data_df[(extracted_data_df['Method']=='Old') & (extracted_data_df['AccessMode']=='both')]"
   ]
  },
  {
   "cell_type": "code",
   "execution_count": 5,
   "metadata": {},
   "outputs": [
    {
     "name": "stdout",
     "output_type": "stream",
     "text": [
      "Extracted data saved to intermediate/TAZ-PA-Time.csv\n"
     ]
    }
   ],
   "source": [
    "# Save to CSV\n",
    "extracted_data_df.to_csv(output_csv, index=False)\n",
    "\n",
    "print(f\"Extracted data saved to {output_csv}\")"
   ]
  },
  {
   "cell_type": "code",
   "execution_count": 6,
   "metadata": {},
   "outputs": [
    {
     "data": {
      "application/vnd.microsoft.datawrangler.viewer.v0+json": {
       "columns": [
        {
         "name": "index",
         "rawType": "int64",
         "type": "integer"
        },
        {
         "name": "Method",
         "rawType": "object",
         "type": "string"
        },
        {
         "name": "AutoTransit",
         "rawType": "object",
         "type": "string"
        },
        {
         "name": "AccessMode",
         "rawType": "object",
         "type": "string"
        },
        {
         "name": "TTStart_Minutes",
         "rawType": "float64",
         "type": "float"
        },
        {
         "name": "TTEnd_Minutes_Inclusive",
         "rawType": "float64",
         "type": "float"
        },
        {
         "name": "MapClass",
         "rawType": "int64",
         "type": "integer"
        },
        {
         "name": "JobFract",
         "rawType": "object",
         "type": "string"
        }
       ],
       "conversionMethod": "pd.DataFrame",
       "ref": "82cbfa93-0f44-4bfd-819c-f26cbc29ebd8",
       "rows": [
        [
         "0",
         "New",
         "auto",
         "none",
         "0.0",
         "10.0",
         "11",
         "1"
        ],
        [
         "1",
         "New",
         "auto",
         "none",
         "10.0",
         "13.5",
         "10",
         "0.90 - 0.99"
        ],
        [
         "2",
         "New",
         "auto",
         "none",
         "13.5",
         "17.0",
         "9",
         "0.80 - 0.89"
        ],
        [
         "3",
         "New",
         "auto",
         "none",
         "17.0",
         "20.5",
         "8",
         "0.70 - 0.79"
        ],
        [
         "4",
         "New",
         "auto",
         "none",
         "20.5",
         "24.0",
         "7",
         "0.60 - 0.69"
        ],
        [
         "5",
         "New",
         "auto",
         "none",
         "24.0",
         "27.5",
         "6",
         "0.50 - 0.59"
        ],
        [
         "6",
         "New",
         "auto",
         "none",
         "27.5",
         "31.0",
         "5",
         "0.40 - 0.49"
        ],
        [
         "7",
         "New",
         "auto",
         "none",
         "31.0",
         "34.5",
         "4",
         "0.30 - 0.39"
        ],
        [
         "8",
         "New",
         "auto",
         "none",
         "34.5",
         "38.0",
         "3",
         "0.20 - 0.29"
        ],
        [
         "9",
         "New",
         "auto",
         "none",
         "38.0",
         "41.5",
         "2",
         "0.10 - 0.19"
        ],
        [
         "10",
         "New",
         "auto",
         "none",
         "41.5",
         "45.0",
         "1",
         "0.00 - 0.09"
        ],
        [
         "11",
         "Old",
         "auto",
         "none",
         "0.0",
         "3.0",
         "11",
         "1"
        ],
        [
         "12",
         "Old",
         "auto",
         "none",
         "3.0",
         "7.25",
         "10",
         "0.90 - 0.99"
        ],
        [
         "13",
         "Old",
         "auto",
         "none",
         "7.25",
         "9.75",
         "9",
         "0.80 - 0.89"
        ],
        [
         "14",
         "Old",
         "auto",
         "none",
         "9.75",
         "12.25",
         "8",
         "0.70 - 0.79"
        ],
        [
         "15",
         "Old",
         "auto",
         "none",
         "12.25",
         "14.5",
         "7",
         "0.60 - 0.69"
        ],
        [
         "16",
         "Old",
         "auto",
         "none",
         "14.5",
         "17.25",
         "6",
         "0.50 - 0.59"
        ],
        [
         "17",
         "Old",
         "auto",
         "none",
         "17.25",
         "20.25",
         "5",
         "0.40 - 0.49"
        ],
        [
         "18",
         "Old",
         "auto",
         "none",
         "20.25",
         "23.75",
         "4",
         "0.30 - 0.39"
        ],
        [
         "19",
         "Old",
         "auto",
         "none",
         "23.75",
         "29.25",
         "3",
         "0.20 - 0.29"
        ],
        [
         "20",
         "Old",
         "auto",
         "none",
         "29.25",
         "39.25",
         "2",
         "0.10 - 0.19"
        ],
        [
         "21",
         "Old",
         "auto",
         "none",
         "39.25",
         "60.0",
         "1",
         "0.00 - 0.09"
        ],
        [
         "22",
         "New",
         "transit",
         "walk",
         "0.0",
         "10.0",
         "11",
         "1"
        ],
        [
         "23",
         "New",
         "transit",
         "walk",
         "10.0",
         "15.0",
         "10",
         "0.90 - 0.99"
        ],
        [
         "24",
         "New",
         "transit",
         "walk",
         "15.0",
         "20.0",
         "9",
         "0.80 - 0.89"
        ],
        [
         "25",
         "New",
         "transit",
         "walk",
         "20.0",
         "25.0",
         "8",
         "0.70 - 0.79"
        ],
        [
         "26",
         "New",
         "transit",
         "walk",
         "25.0",
         "30.0",
         "7",
         "0.60 - 0.69"
        ],
        [
         "27",
         "New",
         "transit",
         "walk",
         "30.0",
         "35.0",
         "6",
         "0.50 - 0.59"
        ],
        [
         "28",
         "New",
         "transit",
         "walk",
         "35.0",
         "40.0",
         "5",
         "0.40 - 0.49"
        ],
        [
         "29",
         "New",
         "transit",
         "walk",
         "40.0",
         "45.0",
         "4",
         "0.30 - 0.39"
        ],
        [
         "30",
         "New",
         "transit",
         "walk",
         "45.0",
         "50.0",
         "3",
         "0.20 - 0.29"
        ],
        [
         "31",
         "New",
         "transit",
         "walk",
         "50.0",
         "55.0",
         "2",
         "0.10 - 0.19"
        ],
        [
         "32",
         "New",
         "transit",
         "walk",
         "55.0",
         "60.0",
         "1",
         "0.00 - 0.09"
        ],
        [
         "33",
         "New",
         "transit",
         "drive",
         "20.0",
         "25.0",
         "4",
         "0.35 - 0.40"
        ],
        [
         "34",
         "New",
         "transit",
         "drive",
         "25.0",
         "30.0",
         "4",
         "0.30 - 0.35"
        ],
        [
         "35",
         "New",
         "transit",
         "drive",
         "30.0",
         "35.0",
         "3",
         "0.25 - 0.29"
        ],
        [
         "36",
         "New",
         "transit",
         "drive",
         "35.0",
         "40.0",
         "3",
         "0.20 - 0.24"
        ],
        [
         "37",
         "New",
         "transit",
         "drive",
         "40.0",
         "45.0",
         "2",
         "0.15 - 0.19"
        ],
        [
         "38",
         "New",
         "transit",
         "drive",
         "45.0",
         "50.0",
         "2",
         "0.10 - 0.15"
        ],
        [
         "39",
         "New",
         "transit",
         "drive",
         "50.0",
         "55.0",
         "1",
         "0.05 - 0.09"
        ],
        [
         "40",
         "New",
         "transit",
         "drive",
         "55.0",
         "60.0",
         "1",
         "0.00 - 0.04"
        ],
        [
         "41",
         "Old",
         "transit",
         "both",
         "0.0",
         "3.0",
         "11",
         "1"
        ],
        [
         "42",
         "Old",
         "transit",
         "both",
         "3.0",
         "7.25",
         "10",
         "0.90 - 0.99"
        ],
        [
         "43",
         "Old",
         "transit",
         "both",
         "7.25",
         "9.75",
         "9",
         "0.80 - 0.89"
        ],
        [
         "44",
         "Old",
         "transit",
         "both",
         "9.75",
         "12.25",
         "8",
         "0.70 - 0.79"
        ],
        [
         "45",
         "Old",
         "transit",
         "both",
         "12.25",
         "14.5",
         "7",
         "0.60 - 0.69"
        ],
        [
         "46",
         "Old",
         "transit",
         "both",
         "14.5",
         "17.25",
         "6",
         "0.50 - 0.59"
        ],
        [
         "47",
         "Old",
         "transit",
         "both",
         "17.25",
         "20.25",
         "5",
         "0.40 - 0.49"
        ],
        [
         "48",
         "Old",
         "transit",
         "both",
         "20.25",
         "23.75",
         "4",
         "0.30 - 0.39"
        ],
        [
         "49",
         "Old",
         "transit",
         "both",
         "23.75",
         "29.25",
         "3",
         "0.20 - 0.29"
        ]
       ],
       "shape": {
        "columns": 7,
        "rows": 52
       }
      },
      "text/html": [
       "<div>\n",
       "<style scoped>\n",
       "    .dataframe tbody tr th:only-of-type {\n",
       "        vertical-align: middle;\n",
       "    }\n",
       "\n",
       "    .dataframe tbody tr th {\n",
       "        vertical-align: top;\n",
       "    }\n",
       "\n",
       "    .dataframe thead th {\n",
       "        text-align: right;\n",
       "    }\n",
       "</style>\n",
       "<table border=\"1\" class=\"dataframe\">\n",
       "  <thead>\n",
       "    <tr style=\"text-align: right;\">\n",
       "      <th></th>\n",
       "      <th>Method</th>\n",
       "      <th>AutoTransit</th>\n",
       "      <th>AccessMode</th>\n",
       "      <th>TTStart_Minutes</th>\n",
       "      <th>TTEnd_Minutes_Inclusive</th>\n",
       "      <th>MapClass</th>\n",
       "      <th>JobFract</th>\n",
       "    </tr>\n",
       "  </thead>\n",
       "  <tbody>\n",
       "    <tr>\n",
       "      <th>0</th>\n",
       "      <td>New</td>\n",
       "      <td>auto</td>\n",
       "      <td>none</td>\n",
       "      <td>0.00</td>\n",
       "      <td>10.00</td>\n",
       "      <td>11</td>\n",
       "      <td>1</td>\n",
       "    </tr>\n",
       "    <tr>\n",
       "      <th>1</th>\n",
       "      <td>New</td>\n",
       "      <td>auto</td>\n",
       "      <td>none</td>\n",
       "      <td>10.00</td>\n",
       "      <td>13.50</td>\n",
       "      <td>10</td>\n",
       "      <td>0.90 - 0.99</td>\n",
       "    </tr>\n",
       "    <tr>\n",
       "      <th>2</th>\n",
       "      <td>New</td>\n",
       "      <td>auto</td>\n",
       "      <td>none</td>\n",
       "      <td>13.50</td>\n",
       "      <td>17.00</td>\n",
       "      <td>9</td>\n",
       "      <td>0.80 - 0.89</td>\n",
       "    </tr>\n",
       "    <tr>\n",
       "      <th>3</th>\n",
       "      <td>New</td>\n",
       "      <td>auto</td>\n",
       "      <td>none</td>\n",
       "      <td>17.00</td>\n",
       "      <td>20.50</td>\n",
       "      <td>8</td>\n",
       "      <td>0.70 - 0.79</td>\n",
       "    </tr>\n",
       "    <tr>\n",
       "      <th>4</th>\n",
       "      <td>New</td>\n",
       "      <td>auto</td>\n",
       "      <td>none</td>\n",
       "      <td>20.50</td>\n",
       "      <td>24.00</td>\n",
       "      <td>7</td>\n",
       "      <td>0.60 - 0.69</td>\n",
       "    </tr>\n",
       "    <tr>\n",
       "      <th>5</th>\n",
       "      <td>New</td>\n",
       "      <td>auto</td>\n",
       "      <td>none</td>\n",
       "      <td>24.00</td>\n",
       "      <td>27.50</td>\n",
       "      <td>6</td>\n",
       "      <td>0.50 - 0.59</td>\n",
       "    </tr>\n",
       "    <tr>\n",
       "      <th>6</th>\n",
       "      <td>New</td>\n",
       "      <td>auto</td>\n",
       "      <td>none</td>\n",
       "      <td>27.50</td>\n",
       "      <td>31.00</td>\n",
       "      <td>5</td>\n",
       "      <td>0.40 - 0.49</td>\n",
       "    </tr>\n",
       "    <tr>\n",
       "      <th>7</th>\n",
       "      <td>New</td>\n",
       "      <td>auto</td>\n",
       "      <td>none</td>\n",
       "      <td>31.00</td>\n",
       "      <td>34.50</td>\n",
       "      <td>4</td>\n",
       "      <td>0.30 - 0.39</td>\n",
       "    </tr>\n",
       "    <tr>\n",
       "      <th>8</th>\n",
       "      <td>New</td>\n",
       "      <td>auto</td>\n",
       "      <td>none</td>\n",
       "      <td>34.50</td>\n",
       "      <td>38.00</td>\n",
       "      <td>3</td>\n",
       "      <td>0.20 - 0.29</td>\n",
       "    </tr>\n",
       "    <tr>\n",
       "      <th>9</th>\n",
       "      <td>New</td>\n",
       "      <td>auto</td>\n",
       "      <td>none</td>\n",
       "      <td>38.00</td>\n",
       "      <td>41.50</td>\n",
       "      <td>2</td>\n",
       "      <td>0.10 - 0.19</td>\n",
       "    </tr>\n",
       "    <tr>\n",
       "      <th>10</th>\n",
       "      <td>New</td>\n",
       "      <td>auto</td>\n",
       "      <td>none</td>\n",
       "      <td>41.50</td>\n",
       "      <td>45.00</td>\n",
       "      <td>1</td>\n",
       "      <td>0.00 - 0.09</td>\n",
       "    </tr>\n",
       "    <tr>\n",
       "      <th>11</th>\n",
       "      <td>Old</td>\n",
       "      <td>auto</td>\n",
       "      <td>none</td>\n",
       "      <td>0.00</td>\n",
       "      <td>3.00</td>\n",
       "      <td>11</td>\n",
       "      <td>1</td>\n",
       "    </tr>\n",
       "    <tr>\n",
       "      <th>12</th>\n",
       "      <td>Old</td>\n",
       "      <td>auto</td>\n",
       "      <td>none</td>\n",
       "      <td>3.00</td>\n",
       "      <td>7.25</td>\n",
       "      <td>10</td>\n",
       "      <td>0.90 - 0.99</td>\n",
       "    </tr>\n",
       "    <tr>\n",
       "      <th>13</th>\n",
       "      <td>Old</td>\n",
       "      <td>auto</td>\n",
       "      <td>none</td>\n",
       "      <td>7.25</td>\n",
       "      <td>9.75</td>\n",
       "      <td>9</td>\n",
       "      <td>0.80 - 0.89</td>\n",
       "    </tr>\n",
       "    <tr>\n",
       "      <th>14</th>\n",
       "      <td>Old</td>\n",
       "      <td>auto</td>\n",
       "      <td>none</td>\n",
       "      <td>9.75</td>\n",
       "      <td>12.25</td>\n",
       "      <td>8</td>\n",
       "      <td>0.70 - 0.79</td>\n",
       "    </tr>\n",
       "    <tr>\n",
       "      <th>15</th>\n",
       "      <td>Old</td>\n",
       "      <td>auto</td>\n",
       "      <td>none</td>\n",
       "      <td>12.25</td>\n",
       "      <td>14.50</td>\n",
       "      <td>7</td>\n",
       "      <td>0.60 - 0.69</td>\n",
       "    </tr>\n",
       "    <tr>\n",
       "      <th>16</th>\n",
       "      <td>Old</td>\n",
       "      <td>auto</td>\n",
       "      <td>none</td>\n",
       "      <td>14.50</td>\n",
       "      <td>17.25</td>\n",
       "      <td>6</td>\n",
       "      <td>0.50 - 0.59</td>\n",
       "    </tr>\n",
       "    <tr>\n",
       "      <th>17</th>\n",
       "      <td>Old</td>\n",
       "      <td>auto</td>\n",
       "      <td>none</td>\n",
       "      <td>17.25</td>\n",
       "      <td>20.25</td>\n",
       "      <td>5</td>\n",
       "      <td>0.40 - 0.49</td>\n",
       "    </tr>\n",
       "    <tr>\n",
       "      <th>18</th>\n",
       "      <td>Old</td>\n",
       "      <td>auto</td>\n",
       "      <td>none</td>\n",
       "      <td>20.25</td>\n",
       "      <td>23.75</td>\n",
       "      <td>4</td>\n",
       "      <td>0.30 - 0.39</td>\n",
       "    </tr>\n",
       "    <tr>\n",
       "      <th>19</th>\n",
       "      <td>Old</td>\n",
       "      <td>auto</td>\n",
       "      <td>none</td>\n",
       "      <td>23.75</td>\n",
       "      <td>29.25</td>\n",
       "      <td>3</td>\n",
       "      <td>0.20 - 0.29</td>\n",
       "    </tr>\n",
       "    <tr>\n",
       "      <th>20</th>\n",
       "      <td>Old</td>\n",
       "      <td>auto</td>\n",
       "      <td>none</td>\n",
       "      <td>29.25</td>\n",
       "      <td>39.25</td>\n",
       "      <td>2</td>\n",
       "      <td>0.10 - 0.19</td>\n",
       "    </tr>\n",
       "    <tr>\n",
       "      <th>21</th>\n",
       "      <td>Old</td>\n",
       "      <td>auto</td>\n",
       "      <td>none</td>\n",
       "      <td>39.25</td>\n",
       "      <td>60.00</td>\n",
       "      <td>1</td>\n",
       "      <td>0.00 - 0.09</td>\n",
       "    </tr>\n",
       "    <tr>\n",
       "      <th>22</th>\n",
       "      <td>New</td>\n",
       "      <td>transit</td>\n",
       "      <td>walk</td>\n",
       "      <td>0.00</td>\n",
       "      <td>10.00</td>\n",
       "      <td>11</td>\n",
       "      <td>1</td>\n",
       "    </tr>\n",
       "    <tr>\n",
       "      <th>23</th>\n",
       "      <td>New</td>\n",
       "      <td>transit</td>\n",
       "      <td>walk</td>\n",
       "      <td>10.00</td>\n",
       "      <td>15.00</td>\n",
       "      <td>10</td>\n",
       "      <td>0.90 - 0.99</td>\n",
       "    </tr>\n",
       "    <tr>\n",
       "      <th>24</th>\n",
       "      <td>New</td>\n",
       "      <td>transit</td>\n",
       "      <td>walk</td>\n",
       "      <td>15.00</td>\n",
       "      <td>20.00</td>\n",
       "      <td>9</td>\n",
       "      <td>0.80 - 0.89</td>\n",
       "    </tr>\n",
       "    <tr>\n",
       "      <th>25</th>\n",
       "      <td>New</td>\n",
       "      <td>transit</td>\n",
       "      <td>walk</td>\n",
       "      <td>20.00</td>\n",
       "      <td>25.00</td>\n",
       "      <td>8</td>\n",
       "      <td>0.70 - 0.79</td>\n",
       "    </tr>\n",
       "    <tr>\n",
       "      <th>26</th>\n",
       "      <td>New</td>\n",
       "      <td>transit</td>\n",
       "      <td>walk</td>\n",
       "      <td>25.00</td>\n",
       "      <td>30.00</td>\n",
       "      <td>7</td>\n",
       "      <td>0.60 - 0.69</td>\n",
       "    </tr>\n",
       "    <tr>\n",
       "      <th>27</th>\n",
       "      <td>New</td>\n",
       "      <td>transit</td>\n",
       "      <td>walk</td>\n",
       "      <td>30.00</td>\n",
       "      <td>35.00</td>\n",
       "      <td>6</td>\n",
       "      <td>0.50 - 0.59</td>\n",
       "    </tr>\n",
       "    <tr>\n",
       "      <th>28</th>\n",
       "      <td>New</td>\n",
       "      <td>transit</td>\n",
       "      <td>walk</td>\n",
       "      <td>35.00</td>\n",
       "      <td>40.00</td>\n",
       "      <td>5</td>\n",
       "      <td>0.40 - 0.49</td>\n",
       "    </tr>\n",
       "    <tr>\n",
       "      <th>29</th>\n",
       "      <td>New</td>\n",
       "      <td>transit</td>\n",
       "      <td>walk</td>\n",
       "      <td>40.00</td>\n",
       "      <td>45.00</td>\n",
       "      <td>4</td>\n",
       "      <td>0.30 - 0.39</td>\n",
       "    </tr>\n",
       "    <tr>\n",
       "      <th>30</th>\n",
       "      <td>New</td>\n",
       "      <td>transit</td>\n",
       "      <td>walk</td>\n",
       "      <td>45.00</td>\n",
       "      <td>50.00</td>\n",
       "      <td>3</td>\n",
       "      <td>0.20 - 0.29</td>\n",
       "    </tr>\n",
       "    <tr>\n",
       "      <th>31</th>\n",
       "      <td>New</td>\n",
       "      <td>transit</td>\n",
       "      <td>walk</td>\n",
       "      <td>50.00</td>\n",
       "      <td>55.00</td>\n",
       "      <td>2</td>\n",
       "      <td>0.10 - 0.19</td>\n",
       "    </tr>\n",
       "    <tr>\n",
       "      <th>32</th>\n",
       "      <td>New</td>\n",
       "      <td>transit</td>\n",
       "      <td>walk</td>\n",
       "      <td>55.00</td>\n",
       "      <td>60.00</td>\n",
       "      <td>1</td>\n",
       "      <td>0.00 - 0.09</td>\n",
       "    </tr>\n",
       "    <tr>\n",
       "      <th>33</th>\n",
       "      <td>New</td>\n",
       "      <td>transit</td>\n",
       "      <td>drive</td>\n",
       "      <td>20.00</td>\n",
       "      <td>25.00</td>\n",
       "      <td>4</td>\n",
       "      <td>0.35 - 0.40</td>\n",
       "    </tr>\n",
       "    <tr>\n",
       "      <th>34</th>\n",
       "      <td>New</td>\n",
       "      <td>transit</td>\n",
       "      <td>drive</td>\n",
       "      <td>25.00</td>\n",
       "      <td>30.00</td>\n",
       "      <td>4</td>\n",
       "      <td>0.30 - 0.35</td>\n",
       "    </tr>\n",
       "    <tr>\n",
       "      <th>35</th>\n",
       "      <td>New</td>\n",
       "      <td>transit</td>\n",
       "      <td>drive</td>\n",
       "      <td>30.00</td>\n",
       "      <td>35.00</td>\n",
       "      <td>3</td>\n",
       "      <td>0.25 - 0.29</td>\n",
       "    </tr>\n",
       "    <tr>\n",
       "      <th>36</th>\n",
       "      <td>New</td>\n",
       "      <td>transit</td>\n",
       "      <td>drive</td>\n",
       "      <td>35.00</td>\n",
       "      <td>40.00</td>\n",
       "      <td>3</td>\n",
       "      <td>0.20 - 0.24</td>\n",
       "    </tr>\n",
       "    <tr>\n",
       "      <th>37</th>\n",
       "      <td>New</td>\n",
       "      <td>transit</td>\n",
       "      <td>drive</td>\n",
       "      <td>40.00</td>\n",
       "      <td>45.00</td>\n",
       "      <td>2</td>\n",
       "      <td>0.15 - 0.19</td>\n",
       "    </tr>\n",
       "    <tr>\n",
       "      <th>38</th>\n",
       "      <td>New</td>\n",
       "      <td>transit</td>\n",
       "      <td>drive</td>\n",
       "      <td>45.00</td>\n",
       "      <td>50.00</td>\n",
       "      <td>2</td>\n",
       "      <td>0.10 - 0.15</td>\n",
       "    </tr>\n",
       "    <tr>\n",
       "      <th>39</th>\n",
       "      <td>New</td>\n",
       "      <td>transit</td>\n",
       "      <td>drive</td>\n",
       "      <td>50.00</td>\n",
       "      <td>55.00</td>\n",
       "      <td>1</td>\n",
       "      <td>0.05 - 0.09</td>\n",
       "    </tr>\n",
       "    <tr>\n",
       "      <th>40</th>\n",
       "      <td>New</td>\n",
       "      <td>transit</td>\n",
       "      <td>drive</td>\n",
       "      <td>55.00</td>\n",
       "      <td>60.00</td>\n",
       "      <td>1</td>\n",
       "      <td>0.00 - 0.04</td>\n",
       "    </tr>\n",
       "    <tr>\n",
       "      <th>41</th>\n",
       "      <td>Old</td>\n",
       "      <td>transit</td>\n",
       "      <td>both</td>\n",
       "      <td>0.00</td>\n",
       "      <td>3.00</td>\n",
       "      <td>11</td>\n",
       "      <td>1</td>\n",
       "    </tr>\n",
       "    <tr>\n",
       "      <th>42</th>\n",
       "      <td>Old</td>\n",
       "      <td>transit</td>\n",
       "      <td>both</td>\n",
       "      <td>3.00</td>\n",
       "      <td>7.25</td>\n",
       "      <td>10</td>\n",
       "      <td>0.90 - 0.99</td>\n",
       "    </tr>\n",
       "    <tr>\n",
       "      <th>43</th>\n",
       "      <td>Old</td>\n",
       "      <td>transit</td>\n",
       "      <td>both</td>\n",
       "      <td>7.25</td>\n",
       "      <td>9.75</td>\n",
       "      <td>9</td>\n",
       "      <td>0.80 - 0.89</td>\n",
       "    </tr>\n",
       "    <tr>\n",
       "      <th>44</th>\n",
       "      <td>Old</td>\n",
       "      <td>transit</td>\n",
       "      <td>both</td>\n",
       "      <td>9.75</td>\n",
       "      <td>12.25</td>\n",
       "      <td>8</td>\n",
       "      <td>0.70 - 0.79</td>\n",
       "    </tr>\n",
       "    <tr>\n",
       "      <th>45</th>\n",
       "      <td>Old</td>\n",
       "      <td>transit</td>\n",
       "      <td>both</td>\n",
       "      <td>12.25</td>\n",
       "      <td>14.50</td>\n",
       "      <td>7</td>\n",
       "      <td>0.60 - 0.69</td>\n",
       "    </tr>\n",
       "    <tr>\n",
       "      <th>46</th>\n",
       "      <td>Old</td>\n",
       "      <td>transit</td>\n",
       "      <td>both</td>\n",
       "      <td>14.50</td>\n",
       "      <td>17.25</td>\n",
       "      <td>6</td>\n",
       "      <td>0.50 - 0.59</td>\n",
       "    </tr>\n",
       "    <tr>\n",
       "      <th>47</th>\n",
       "      <td>Old</td>\n",
       "      <td>transit</td>\n",
       "      <td>both</td>\n",
       "      <td>17.25</td>\n",
       "      <td>20.25</td>\n",
       "      <td>5</td>\n",
       "      <td>0.40 - 0.49</td>\n",
       "    </tr>\n",
       "    <tr>\n",
       "      <th>48</th>\n",
       "      <td>Old</td>\n",
       "      <td>transit</td>\n",
       "      <td>both</td>\n",
       "      <td>20.25</td>\n",
       "      <td>23.75</td>\n",
       "      <td>4</td>\n",
       "      <td>0.30 - 0.39</td>\n",
       "    </tr>\n",
       "    <tr>\n",
       "      <th>49</th>\n",
       "      <td>Old</td>\n",
       "      <td>transit</td>\n",
       "      <td>both</td>\n",
       "      <td>23.75</td>\n",
       "      <td>29.25</td>\n",
       "      <td>3</td>\n",
       "      <td>0.20 - 0.29</td>\n",
       "    </tr>\n",
       "    <tr>\n",
       "      <th>50</th>\n",
       "      <td>Old</td>\n",
       "      <td>transit</td>\n",
       "      <td>both</td>\n",
       "      <td>29.25</td>\n",
       "      <td>39.25</td>\n",
       "      <td>2</td>\n",
       "      <td>0.10 - 0.19</td>\n",
       "    </tr>\n",
       "    <tr>\n",
       "      <th>51</th>\n",
       "      <td>Old</td>\n",
       "      <td>transit</td>\n",
       "      <td>both</td>\n",
       "      <td>39.25</td>\n",
       "      <td>60.00</td>\n",
       "      <td>1</td>\n",
       "      <td>0.00 - 0.09</td>\n",
       "    </tr>\n",
       "  </tbody>\n",
       "</table>\n",
       "</div>"
      ],
      "text/plain": [
       "   Method AutoTransit AccessMode  TTStart_Minutes  TTEnd_Minutes_Inclusive  \\\n",
       "0     New        auto       none             0.00                    10.00   \n",
       "1     New        auto       none            10.00                    13.50   \n",
       "2     New        auto       none            13.50                    17.00   \n",
       "3     New        auto       none            17.00                    20.50   \n",
       "4     New        auto       none            20.50                    24.00   \n",
       "5     New        auto       none            24.00                    27.50   \n",
       "6     New        auto       none            27.50                    31.00   \n",
       "7     New        auto       none            31.00                    34.50   \n",
       "8     New        auto       none            34.50                    38.00   \n",
       "9     New        auto       none            38.00                    41.50   \n",
       "10    New        auto       none            41.50                    45.00   \n",
       "11    Old        auto       none             0.00                     3.00   \n",
       "12    Old        auto       none             3.00                     7.25   \n",
       "13    Old        auto       none             7.25                     9.75   \n",
       "14    Old        auto       none             9.75                    12.25   \n",
       "15    Old        auto       none            12.25                    14.50   \n",
       "16    Old        auto       none            14.50                    17.25   \n",
       "17    Old        auto       none            17.25                    20.25   \n",
       "18    Old        auto       none            20.25                    23.75   \n",
       "19    Old        auto       none            23.75                    29.25   \n",
       "20    Old        auto       none            29.25                    39.25   \n",
       "21    Old        auto       none            39.25                    60.00   \n",
       "22    New     transit       walk             0.00                    10.00   \n",
       "23    New     transit       walk            10.00                    15.00   \n",
       "24    New     transit       walk            15.00                    20.00   \n",
       "25    New     transit       walk            20.00                    25.00   \n",
       "26    New     transit       walk            25.00                    30.00   \n",
       "27    New     transit       walk            30.00                    35.00   \n",
       "28    New     transit       walk            35.00                    40.00   \n",
       "29    New     transit       walk            40.00                    45.00   \n",
       "30    New     transit       walk            45.00                    50.00   \n",
       "31    New     transit       walk            50.00                    55.00   \n",
       "32    New     transit       walk            55.00                    60.00   \n",
       "33    New     transit      drive            20.00                    25.00   \n",
       "34    New     transit      drive            25.00                    30.00   \n",
       "35    New     transit      drive            30.00                    35.00   \n",
       "36    New     transit      drive            35.00                    40.00   \n",
       "37    New     transit      drive            40.00                    45.00   \n",
       "38    New     transit      drive            45.00                    50.00   \n",
       "39    New     transit      drive            50.00                    55.00   \n",
       "40    New     transit      drive            55.00                    60.00   \n",
       "41    Old     transit       both             0.00                     3.00   \n",
       "42    Old     transit       both             3.00                     7.25   \n",
       "43    Old     transit       both             7.25                     9.75   \n",
       "44    Old     transit       both             9.75                    12.25   \n",
       "45    Old     transit       both            12.25                    14.50   \n",
       "46    Old     transit       both            14.50                    17.25   \n",
       "47    Old     transit       both            17.25                    20.25   \n",
       "48    Old     transit       both            20.25                    23.75   \n",
       "49    Old     transit       both            23.75                    29.25   \n",
       "50    Old     transit       both            29.25                    39.25   \n",
       "51    Old     transit       both            39.25                    60.00   \n",
       "\n",
       "    MapClass     JobFract  \n",
       "0         11            1  \n",
       "1         10  0.90 - 0.99  \n",
       "2          9  0.80 - 0.89  \n",
       "3          8  0.70 - 0.79  \n",
       "4          7  0.60 - 0.69  \n",
       "5          6  0.50 - 0.59  \n",
       "6          5  0.40 - 0.49  \n",
       "7          4  0.30 - 0.39  \n",
       "8          3  0.20 - 0.29  \n",
       "9          2  0.10 - 0.19  \n",
       "10         1  0.00 - 0.09  \n",
       "11        11            1  \n",
       "12        10  0.90 - 0.99  \n",
       "13         9  0.80 - 0.89  \n",
       "14         8  0.70 - 0.79  \n",
       "15         7  0.60 - 0.69  \n",
       "16         6  0.50 - 0.59  \n",
       "17         5  0.40 - 0.49  \n",
       "18         4  0.30 - 0.39  \n",
       "19         3  0.20 - 0.29  \n",
       "20         2  0.10 - 0.19  \n",
       "21         1  0.00 - 0.09  \n",
       "22        11            1  \n",
       "23        10  0.90 - 0.99  \n",
       "24         9  0.80 - 0.89  \n",
       "25         8  0.70 - 0.79  \n",
       "26         7  0.60 - 0.69  \n",
       "27         6  0.50 - 0.59  \n",
       "28         5  0.40 - 0.49  \n",
       "29         4  0.30 - 0.39  \n",
       "30         3  0.20 - 0.29  \n",
       "31         2  0.10 - 0.19  \n",
       "32         1  0.00 - 0.09  \n",
       "33         4  0.35 - 0.40  \n",
       "34         4  0.30 - 0.35  \n",
       "35         3  0.25 - 0.29  \n",
       "36         3  0.20 - 0.24  \n",
       "37         2  0.15 - 0.19  \n",
       "38         2  0.10 - 0.15  \n",
       "39         1  0.05 - 0.09  \n",
       "40         1  0.00 - 0.04  \n",
       "41        11            1  \n",
       "42        10  0.90 - 0.99  \n",
       "43         9  0.80 - 0.89  \n",
       "44         8  0.70 - 0.79  \n",
       "45         7  0.60 - 0.69  \n",
       "46         6  0.50 - 0.59  \n",
       "47         5  0.40 - 0.49  \n",
       "48         4  0.30 - 0.39  \n",
       "49         3  0.20 - 0.29  \n",
       "50         2  0.10 - 0.19  \n",
       "51         1  0.00 - 0.09  "
      ]
     },
     "execution_count": 6,
     "metadata": {},
     "output_type": "execute_result"
    }
   ],
   "source": [
    "travel_shed_ato_classes_df = pd.read_csv(\"params/NEW And OLD ATO Method (for travelsheds).csv\")\n",
    "travel_shed_ato_classes_df"
   ]
  },
  {
   "cell_type": "code",
   "execution_count": 16,
   "metadata": {},
   "outputs": [
    {
     "data": {
      "application/vnd.microsoft.datawrangler.viewer.v0+json": {
       "columns": [
        {
         "name": "index",
         "rawType": "int64",
         "type": "integer"
        },
        {
         "name": "TAZ_P",
         "rawType": "int64",
         "type": "integer"
        },
        {
         "name": "TAZ_A",
         "rawType": "int64",
         "type": "integer"
        },
        {
         "name": "AutoTransit",
         "rawType": "object",
         "type": "string"
        },
        {
         "name": "AccessMode",
         "rawType": "object",
         "type": "string"
        },
        {
         "name": "Method",
         "rawType": "object",
         "type": "string"
        },
        {
         "name": "MapClass",
         "rawType": "int64",
         "type": "integer"
        }
       ],
       "conversionMethod": "pd.DataFrame",
       "ref": "ad4440cc-c243-496a-b1a6-1d3dedbed874",
       "rows": [
        [
         "8",
         "502",
         "1",
         "auto",
         "none",
         "New",
         "3"
        ],
        [
         "19",
         "502",
         "2",
         "auto",
         "none",
         "New",
         "3"
        ],
        [
         "29",
         "502",
         "3",
         "auto",
         "none",
         "New",
         "4"
        ],
        [
         "40",
         "502",
         "4",
         "auto",
         "none",
         "New",
         "4"
        ],
        [
         "52",
         "502",
         "5",
         "auto",
         "none",
         "New",
         "3"
        ],
        [
         "62",
         "502",
         "6",
         "auto",
         "none",
         "New",
         "4"
        ],
        [
         "73",
         "502",
         "7",
         "auto",
         "none",
         "New",
         "4"
        ],
        [
         "84",
         "502",
         "8",
         "auto",
         "none",
         "New",
         "4"
        ],
        [
         "94",
         "502",
         "9",
         "auto",
         "none",
         "New",
         "5"
        ],
        [
         "105",
         "502",
         "10",
         "auto",
         "none",
         "New",
         "5"
        ],
        [
         "116",
         "502",
         "11",
         "auto",
         "none",
         "New",
         "5"
        ],
        [
         "127",
         "502",
         "12",
         "auto",
         "none",
         "New",
         "5"
        ],
        [
         "137",
         "502",
         "13",
         "auto",
         "none",
         "New",
         "6"
        ],
        [
         "148",
         "502",
         "14",
         "auto",
         "none",
         "New",
         "6"
        ],
        [
         "161",
         "502",
         "15",
         "auto",
         "none",
         "New",
         "4"
        ],
        [
         "171",
         "502",
         "16",
         "auto",
         "none",
         "New",
         "5"
        ],
        [
         "182",
         "502",
         "17",
         "auto",
         "none",
         "New",
         "5"
        ],
        [
         "193",
         "502",
         "18",
         "auto",
         "none",
         "New",
         "5"
        ],
        [
         "204",
         "502",
         "19",
         "auto",
         "none",
         "New",
         "5"
        ],
        [
         "216",
         "502",
         "20",
         "auto",
         "none",
         "New",
         "4"
        ],
        [
         "226",
         "502",
         "21",
         "auto",
         "none",
         "New",
         "5"
        ],
        [
         "237",
         "502",
         "22",
         "auto",
         "none",
         "New",
         "5"
        ],
        [
         "248",
         "502",
         "23",
         "auto",
         "none",
         "New",
         "5"
        ],
        [
         "259",
         "502",
         "24",
         "auto",
         "none",
         "New",
         "5"
        ],
        [
         "270",
         "502",
         "25",
         "auto",
         "none",
         "New",
         "5"
        ],
        [
         "281",
         "502",
         "26",
         "auto",
         "none",
         "New",
         "5"
        ],
        [
         "292",
         "502",
         "27",
         "auto",
         "none",
         "New",
         "5"
        ],
        [
         "303",
         "502",
         "28",
         "auto",
         "none",
         "New",
         "5"
        ],
        [
         "314",
         "502",
         "29",
         "auto",
         "none",
         "New",
         "5"
        ],
        [
         "325",
         "502",
         "30",
         "auto",
         "none",
         "New",
         "5"
        ],
        [
         "336",
         "502",
         "31",
         "auto",
         "none",
         "New",
         "5"
        ],
        [
         "348",
         "502",
         "32",
         "auto",
         "none",
         "New",
         "4"
        ],
        [
         "359",
         "502",
         "33",
         "auto",
         "none",
         "New",
         "4"
        ],
        [
         "370",
         "502",
         "34",
         "auto",
         "none",
         "New",
         "4"
        ],
        [
         "381",
         "502",
         "35",
         "auto",
         "none",
         "New",
         "4"
        ],
        [
         "392",
         "502",
         "36",
         "auto",
         "none",
         "New",
         "4"
        ],
        [
         "401",
         "502",
         "37",
         "auto",
         "none",
         "New",
         "6"
        ],
        [
         "413",
         "502",
         "38",
         "auto",
         "none",
         "New",
         "5"
        ],
        [
         "424",
         "502",
         "39",
         "auto",
         "none",
         "New",
         "5"
        ],
        [
         "435",
         "502",
         "40",
         "auto",
         "none",
         "New",
         "5"
        ],
        [
         "447",
         "502",
         "41",
         "auto",
         "none",
         "New",
         "4"
        ],
        [
         "457",
         "502",
         "42",
         "auto",
         "none",
         "New",
         "5"
        ],
        [
         "469",
         "502",
         "43",
         "auto",
         "none",
         "New",
         "4"
        ],
        [
         "480",
         "502",
         "44",
         "auto",
         "none",
         "New",
         "4"
        ],
        [
         "491",
         "502",
         "45",
         "auto",
         "none",
         "New",
         "4"
        ],
        [
         "502",
         "502",
         "46",
         "auto",
         "none",
         "New",
         "4"
        ],
        [
         "512",
         "502",
         "47",
         "auto",
         "none",
         "New",
         "5"
        ],
        [
         "523",
         "502",
         "48",
         "auto",
         "none",
         "New",
         "5"
        ],
        [
         "533",
         "502",
         "49",
         "auto",
         "none",
         "New",
         "6"
        ],
        [
         "545",
         "502",
         "50",
         "auto",
         "none",
         "New",
         "5"
        ]
       ],
       "shape": {
        "columns": 6,
        "rows": 35895
       }
      },
      "text/html": [
       "<div>\n",
       "<style scoped>\n",
       "    .dataframe tbody tr th:only-of-type {\n",
       "        vertical-align: middle;\n",
       "    }\n",
       "\n",
       "    .dataframe tbody tr th {\n",
       "        vertical-align: top;\n",
       "    }\n",
       "\n",
       "    .dataframe thead th {\n",
       "        text-align: right;\n",
       "    }\n",
       "</style>\n",
       "<table border=\"1\" class=\"dataframe\">\n",
       "  <thead>\n",
       "    <tr style=\"text-align: right;\">\n",
       "      <th></th>\n",
       "      <th>TAZ_P</th>\n",
       "      <th>TAZ_A</th>\n",
       "      <th>AutoTransit</th>\n",
       "      <th>AccessMode</th>\n",
       "      <th>Method</th>\n",
       "      <th>MapClass</th>\n",
       "    </tr>\n",
       "  </thead>\n",
       "  <tbody>\n",
       "    <tr>\n",
       "      <th>8</th>\n",
       "      <td>502</td>\n",
       "      <td>1</td>\n",
       "      <td>auto</td>\n",
       "      <td>none</td>\n",
       "      <td>New</td>\n",
       "      <td>3</td>\n",
       "    </tr>\n",
       "    <tr>\n",
       "      <th>19</th>\n",
       "      <td>502</td>\n",
       "      <td>2</td>\n",
       "      <td>auto</td>\n",
       "      <td>none</td>\n",
       "      <td>New</td>\n",
       "      <td>3</td>\n",
       "    </tr>\n",
       "    <tr>\n",
       "      <th>29</th>\n",
       "      <td>502</td>\n",
       "      <td>3</td>\n",
       "      <td>auto</td>\n",
       "      <td>none</td>\n",
       "      <td>New</td>\n",
       "      <td>4</td>\n",
       "    </tr>\n",
       "    <tr>\n",
       "      <th>40</th>\n",
       "      <td>502</td>\n",
       "      <td>4</td>\n",
       "      <td>auto</td>\n",
       "      <td>none</td>\n",
       "      <td>New</td>\n",
       "      <td>4</td>\n",
       "    </tr>\n",
       "    <tr>\n",
       "      <th>52</th>\n",
       "      <td>502</td>\n",
       "      <td>5</td>\n",
       "      <td>auto</td>\n",
       "      <td>none</td>\n",
       "      <td>New</td>\n",
       "      <td>3</td>\n",
       "    </tr>\n",
       "    <tr>\n",
       "      <th>...</th>\n",
       "      <td>...</td>\n",
       "      <td>...</td>\n",
       "      <td>...</td>\n",
       "      <td>...</td>\n",
       "      <td>...</td>\n",
       "      <td>...</td>\n",
       "    </tr>\n",
       "    <tr>\n",
       "      <th>4040</th>\n",
       "      <td>3167</td>\n",
       "      <td>3460</td>\n",
       "      <td>transit</td>\n",
       "      <td>both</td>\n",
       "      <td>New</td>\n",
       "      <td>1</td>\n",
       "    </tr>\n",
       "    <tr>\n",
       "      <th>4041</th>\n",
       "      <td>3167</td>\n",
       "      <td>3461</td>\n",
       "      <td>transit</td>\n",
       "      <td>both</td>\n",
       "      <td>New</td>\n",
       "      <td>2</td>\n",
       "    </tr>\n",
       "    <tr>\n",
       "      <th>4042</th>\n",
       "      <td>3167</td>\n",
       "      <td>3462</td>\n",
       "      <td>transit</td>\n",
       "      <td>both</td>\n",
       "      <td>New</td>\n",
       "      <td>2</td>\n",
       "    </tr>\n",
       "    <tr>\n",
       "      <th>4043</th>\n",
       "      <td>3167</td>\n",
       "      <td>3463</td>\n",
       "      <td>transit</td>\n",
       "      <td>both</td>\n",
       "      <td>New</td>\n",
       "      <td>2</td>\n",
       "    </tr>\n",
       "    <tr>\n",
       "      <th>4044</th>\n",
       "      <td>3167</td>\n",
       "      <td>3466</td>\n",
       "      <td>transit</td>\n",
       "      <td>both</td>\n",
       "      <td>New</td>\n",
       "      <td>1</td>\n",
       "    </tr>\n",
       "  </tbody>\n",
       "</table>\n",
       "<p>35895 rows × 6 columns</p>\n",
       "</div>"
      ],
      "text/plain": [
       "      TAZ_P  TAZ_A AutoTransit AccessMode Method  MapClass\n",
       "8       502      1        auto       none    New         3\n",
       "19      502      2        auto       none    New         3\n",
       "29      502      3        auto       none    New         4\n",
       "40      502      4        auto       none    New         4\n",
       "52      502      5        auto       none    New         3\n",
       "...     ...    ...         ...        ...    ...       ...\n",
       "4040   3167   3460     transit       both    New         1\n",
       "4041   3167   3461     transit       both    New         2\n",
       "4042   3167   3462     transit       both    New         2\n",
       "4043   3167   3463     transit       both    New         2\n",
       "4044   3167   3466     transit       both    New         1\n",
       "\n",
       "[35895 rows x 6 columns]"
      ]
     },
     "metadata": {},
     "output_type": "display_data"
    }
   ],
   "source": [
    "# Performing the join based on the Value being between TTStart_Minutes and TTEnd_Minutes\n",
    "merged_df = extracted_data_df.merge(\n",
    "    travel_shed_ato_classes_df,\n",
    "    on=['Method','AutoTransit','AccessMode']\n",
    ").query(\"TTStart_Minutes < Value <= TTEnd_Minutes_Inclusive\")\n",
    "\n",
    "merged_df = merged_df.drop(columns=['TTStart_Minutes','TTEnd_Minutes_Inclusive','JobFract','Value'])\n",
    "# Display the merged DataFrame\n",
    "\n",
    "combine_new_transit = merged_df[\n",
    "    (merged_df['AutoTransit'] == 'transit') & \n",
    "    (merged_df['Method'] == 'New')\n",
    "].groupby(\n",
    "    ['TAZ_P', 'TAZ_A', 'AutoTransit', 'AccessMode', 'Method'], \n",
    "    as_index=False\n",
    ").agg(\n",
    "    MapClass=('MapClass', 'max')\n",
    ")\n",
    "\n",
    "combine_new_transit['AccessMode'] = 'both'\n",
    "\n",
    "merged_df = pd.concat([merged_df,combine_new_transit])\n",
    "\n",
    "display(merged_df)\n"
   ]
  },
  {
   "cell_type": "code",
   "execution_count": 17,
   "metadata": {},
   "outputs": [
    {
     "data": {
      "application/vnd.microsoft.datawrangler.viewer.v0+json": {
       "columns": [
        {
         "name": "index",
         "rawType": "int64",
         "type": "integer"
        },
        {
         "name": "AutoTransit",
         "rawType": "object",
         "type": "string"
        },
        {
         "name": "AccessMode",
         "rawType": "object",
         "type": "string"
        },
        {
         "name": "Method",
         "rawType": "object",
         "type": "string"
        }
       ],
       "conversionMethod": "pd.DataFrame",
       "ref": "5909ddd4-c03c-4b61-828e-2f2b99db07ce",
       "rows": [
        [
         "8",
         "auto",
         "none",
         "New"
        ],
        [
         "319361",
         "auto",
         "none",
         "Old"
        ],
        [
         "639638",
         "transit",
         "walk",
         "New"
        ],
        [
         "734556",
         "transit",
         "drive",
         "New"
        ],
        [
         "829883",
         "transit",
         "both",
         "Old"
        ],
        [
         "0",
         "transit",
         "both",
         "New"
        ]
       ],
       "shape": {
        "columns": 3,
        "rows": 6
       }
      },
      "text/html": [
       "<div>\n",
       "<style scoped>\n",
       "    .dataframe tbody tr th:only-of-type {\n",
       "        vertical-align: middle;\n",
       "    }\n",
       "\n",
       "    .dataframe tbody tr th {\n",
       "        vertical-align: top;\n",
       "    }\n",
       "\n",
       "    .dataframe thead th {\n",
       "        text-align: right;\n",
       "    }\n",
       "</style>\n",
       "<table border=\"1\" class=\"dataframe\">\n",
       "  <thead>\n",
       "    <tr style=\"text-align: right;\">\n",
       "      <th></th>\n",
       "      <th>AutoTransit</th>\n",
       "      <th>AccessMode</th>\n",
       "      <th>Method</th>\n",
       "    </tr>\n",
       "  </thead>\n",
       "  <tbody>\n",
       "    <tr>\n",
       "      <th>8</th>\n",
       "      <td>auto</td>\n",
       "      <td>none</td>\n",
       "      <td>New</td>\n",
       "    </tr>\n",
       "    <tr>\n",
       "      <th>319361</th>\n",
       "      <td>auto</td>\n",
       "      <td>none</td>\n",
       "      <td>Old</td>\n",
       "    </tr>\n",
       "    <tr>\n",
       "      <th>639638</th>\n",
       "      <td>transit</td>\n",
       "      <td>walk</td>\n",
       "      <td>New</td>\n",
       "    </tr>\n",
       "    <tr>\n",
       "      <th>734556</th>\n",
       "      <td>transit</td>\n",
       "      <td>drive</td>\n",
       "      <td>New</td>\n",
       "    </tr>\n",
       "    <tr>\n",
       "      <th>829883</th>\n",
       "      <td>transit</td>\n",
       "      <td>both</td>\n",
       "      <td>Old</td>\n",
       "    </tr>\n",
       "    <tr>\n",
       "      <th>0</th>\n",
       "      <td>transit</td>\n",
       "      <td>both</td>\n",
       "      <td>New</td>\n",
       "    </tr>\n",
       "  </tbody>\n",
       "</table>\n",
       "</div>"
      ],
      "text/plain": [
       "       AutoTransit AccessMode Method\n",
       "8             auto       none    New\n",
       "319361        auto       none    Old\n",
       "639638     transit       walk    New\n",
       "734556     transit      drive    New\n",
       "829883     transit       both    Old\n",
       "0          transit       both    New"
      ]
     },
     "execution_count": 17,
     "metadata": {},
     "output_type": "execute_result"
    }
   ],
   "source": [
    "groups_df = merged_df[['AutoTransit','AccessMode','Method']].drop_duplicates()\n",
    "groups_df"
   ]
  },
  {
   "cell_type": "code",
   "execution_count": 18,
   "metadata": {},
   "outputs": [
    {
     "name": "stderr",
     "output_type": "stream",
     "text": [
      "C:\\Users\\bhereth\\AppData\\Local\\Temp\\ipykernel_6768\\782367488.py:102: UserWarning: Geometry is in a geographic CRS. Results from 'centroid' are likely incorrect. Use 'GeoSeries.to_crs()' to re-project geometries to a projected CRS before this operation.\n",
      "\n",
      "  center = [subset_geo.geometry.centroid.y.mean(), subset_geo.geometry.centroid.x.mean()]\n",
      "C:\\Users\\bhereth\\AppData\\Local\\Temp\\ipykernel_6768\\782367488.py:111: UserWarning: Geometry is in a geographic CRS. Results from 'centroid' are likely incorrect. Use 'GeoSeries.to_crs()' to re-project geometries to a projected CRS before this operation.\n",
      "\n",
      "  taz_match.geometry.centroid.y.values[0],\n",
      "C:\\Users\\bhereth\\AppData\\Local\\Temp\\ipykernel_6768\\782367488.py:112: UserWarning: Geometry is in a geographic CRS. Results from 'centroid' are likely incorrect. Use 'GeoSeries.to_crs()' to re-project geometries to a projected CRS before this operation.\n",
      "\n",
      "  taz_match.geometry.centroid.x.values[0]\n"
     ]
    },
    {
     "name": "stdout",
     "output_type": "stream",
     "text": [
      "Saved: output_maps\\Roy_auto_New_Method.png\n",
      "Saved: output_maps\\Roy_auto_Old_Method.png\n"
     ]
    },
    {
     "name": "stderr",
     "output_type": "stream",
     "text": [
      "C:\\Users\\bhereth\\AppData\\Local\\Temp\\ipykernel_6768\\782367488.py:102: UserWarning: Geometry is in a geographic CRS. Results from 'centroid' are likely incorrect. Use 'GeoSeries.to_crs()' to re-project geometries to a projected CRS before this operation.\n",
      "\n",
      "  center = [subset_geo.geometry.centroid.y.mean(), subset_geo.geometry.centroid.x.mean()]\n",
      "C:\\Users\\bhereth\\AppData\\Local\\Temp\\ipykernel_6768\\782367488.py:111: UserWarning: Geometry is in a geographic CRS. Results from 'centroid' are likely incorrect. Use 'GeoSeries.to_crs()' to re-project geometries to a projected CRS before this operation.\n",
      "\n",
      "  taz_match.geometry.centroid.y.values[0],\n",
      "C:\\Users\\bhereth\\AppData\\Local\\Temp\\ipykernel_6768\\782367488.py:112: UserWarning: Geometry is in a geographic CRS. Results from 'centroid' are likely incorrect. Use 'GeoSeries.to_crs()' to re-project geometries to a projected CRS before this operation.\n",
      "\n",
      "  taz_match.geometry.centroid.x.values[0]\n"
     ]
    },
    {
     "name": "stdout",
     "output_type": "stream",
     "text": [
      "Saved: output_maps\\Roy_auto_New_Method.png\n",
      "Saved: output_maps\\Roy_auto_Old_Method.png\n",
      "No data for Old Method: Roy, transit, walk\n"
     ]
    },
    {
     "name": "stderr",
     "output_type": "stream",
     "text": [
      "C:\\Users\\bhereth\\AppData\\Local\\Temp\\ipykernel_6768\\782367488.py:102: UserWarning: Geometry is in a geographic CRS. Results from 'centroid' are likely incorrect. Use 'GeoSeries.to_crs()' to re-project geometries to a projected CRS before this operation.\n",
      "\n",
      "  center = [subset_geo.geometry.centroid.y.mean(), subset_geo.geometry.centroid.x.mean()]\n",
      "C:\\Users\\bhereth\\AppData\\Local\\Temp\\ipykernel_6768\\782367488.py:111: UserWarning: Geometry is in a geographic CRS. Results from 'centroid' are likely incorrect. Use 'GeoSeries.to_crs()' to re-project geometries to a projected CRS before this operation.\n",
      "\n",
      "  taz_match.geometry.centroid.y.values[0],\n",
      "C:\\Users\\bhereth\\AppData\\Local\\Temp\\ipykernel_6768\\782367488.py:112: UserWarning: Geometry is in a geographic CRS. Results from 'centroid' are likely incorrect. Use 'GeoSeries.to_crs()' to re-project geometries to a projected CRS before this operation.\n",
      "\n",
      "  taz_match.geometry.centroid.x.values[0]\n"
     ]
    },
    {
     "name": "stdout",
     "output_type": "stream",
     "text": [
      "Saved: output_maps\\Roy_transit_walk_New_Method.png\n",
      "No data for Old Method: Roy, transit, drive\n"
     ]
    },
    {
     "name": "stderr",
     "output_type": "stream",
     "text": [
      "C:\\Users\\bhereth\\AppData\\Local\\Temp\\ipykernel_6768\\782367488.py:102: UserWarning: Geometry is in a geographic CRS. Results from 'centroid' are likely incorrect. Use 'GeoSeries.to_crs()' to re-project geometries to a projected CRS before this operation.\n",
      "\n",
      "  center = [subset_geo.geometry.centroid.y.mean(), subset_geo.geometry.centroid.x.mean()]\n",
      "C:\\Users\\bhereth\\AppData\\Local\\Temp\\ipykernel_6768\\782367488.py:111: UserWarning: Geometry is in a geographic CRS. Results from 'centroid' are likely incorrect. Use 'GeoSeries.to_crs()' to re-project geometries to a projected CRS before this operation.\n",
      "\n",
      "  taz_match.geometry.centroid.y.values[0],\n",
      "C:\\Users\\bhereth\\AppData\\Local\\Temp\\ipykernel_6768\\782367488.py:112: UserWarning: Geometry is in a geographic CRS. Results from 'centroid' are likely incorrect. Use 'GeoSeries.to_crs()' to re-project geometries to a projected CRS before this operation.\n",
      "\n",
      "  taz_match.geometry.centroid.x.values[0]\n"
     ]
    },
    {
     "name": "stdout",
     "output_type": "stream",
     "text": [
      "Saved: output_maps\\Roy_transit_drive_New_Method.png\n"
     ]
    },
    {
     "name": "stderr",
     "output_type": "stream",
     "text": [
      "C:\\Users\\bhereth\\AppData\\Local\\Temp\\ipykernel_6768\\782367488.py:102: UserWarning: Geometry is in a geographic CRS. Results from 'centroid' are likely incorrect. Use 'GeoSeries.to_crs()' to re-project geometries to a projected CRS before this operation.\n",
      "\n",
      "  center = [subset_geo.geometry.centroid.y.mean(), subset_geo.geometry.centroid.x.mean()]\n",
      "C:\\Users\\bhereth\\AppData\\Local\\Temp\\ipykernel_6768\\782367488.py:111: UserWarning: Geometry is in a geographic CRS. Results from 'centroid' are likely incorrect. Use 'GeoSeries.to_crs()' to re-project geometries to a projected CRS before this operation.\n",
      "\n",
      "  taz_match.geometry.centroid.y.values[0],\n",
      "C:\\Users\\bhereth\\AppData\\Local\\Temp\\ipykernel_6768\\782367488.py:112: UserWarning: Geometry is in a geographic CRS. Results from 'centroid' are likely incorrect. Use 'GeoSeries.to_crs()' to re-project geometries to a projected CRS before this operation.\n",
      "\n",
      "  taz_match.geometry.centroid.x.values[0]\n"
     ]
    },
    {
     "name": "stdout",
     "output_type": "stream",
     "text": [
      "Saved: output_maps\\Roy_transit_New_Method.png\n",
      "Saved: output_maps\\Roy_transit_Old_Method.png\n"
     ]
    },
    {
     "name": "stderr",
     "output_type": "stream",
     "text": [
      "C:\\Users\\bhereth\\AppData\\Local\\Temp\\ipykernel_6768\\782367488.py:102: UserWarning: Geometry is in a geographic CRS. Results from 'centroid' are likely incorrect. Use 'GeoSeries.to_crs()' to re-project geometries to a projected CRS before this operation.\n",
      "\n",
      "  center = [subset_geo.geometry.centroid.y.mean(), subset_geo.geometry.centroid.x.mean()]\n",
      "C:\\Users\\bhereth\\AppData\\Local\\Temp\\ipykernel_6768\\782367488.py:111: UserWarning: Geometry is in a geographic CRS. Results from 'centroid' are likely incorrect. Use 'GeoSeries.to_crs()' to re-project geometries to a projected CRS before this operation.\n",
      "\n",
      "  taz_match.geometry.centroid.y.values[0],\n",
      "C:\\Users\\bhereth\\AppData\\Local\\Temp\\ipykernel_6768\\782367488.py:112: UserWarning: Geometry is in a geographic CRS. Results from 'centroid' are likely incorrect. Use 'GeoSeries.to_crs()' to re-project geometries to a projected CRS before this operation.\n",
      "\n",
      "  taz_match.geometry.centroid.x.values[0]\n"
     ]
    },
    {
     "name": "stdout",
     "output_type": "stream",
     "text": [
      "Saved: output_maps\\Roy_transit_New_Method.png\n",
      "Saved: output_maps\\Roy_transit_Old_Method.png\n"
     ]
    },
    {
     "name": "stderr",
     "output_type": "stream",
     "text": [
      "C:\\Users\\bhereth\\AppData\\Local\\Temp\\ipykernel_6768\\782367488.py:102: UserWarning: Geometry is in a geographic CRS. Results from 'centroid' are likely incorrect. Use 'GeoSeries.to_crs()' to re-project geometries to a projected CRS before this operation.\n",
      "\n",
      "  center = [subset_geo.geometry.centroid.y.mean(), subset_geo.geometry.centroid.x.mean()]\n",
      "C:\\Users\\bhereth\\AppData\\Local\\Temp\\ipykernel_6768\\782367488.py:111: UserWarning: Geometry is in a geographic CRS. Results from 'centroid' are likely incorrect. Use 'GeoSeries.to_crs()' to re-project geometries to a projected CRS before this operation.\n",
      "\n",
      "  taz_match.geometry.centroid.y.values[0],\n",
      "C:\\Users\\bhereth\\AppData\\Local\\Temp\\ipykernel_6768\\782367488.py:112: UserWarning: Geometry is in a geographic CRS. Results from 'centroid' are likely incorrect. Use 'GeoSeries.to_crs()' to re-project geometries to a projected CRS before this operation.\n",
      "\n",
      "  taz_match.geometry.centroid.x.values[0]\n"
     ]
    },
    {
     "name": "stdout",
     "output_type": "stream",
     "text": [
      "Saved: output_maps\\Kaysville_auto_New_Method.png\n",
      "Saved: output_maps\\Kaysville_auto_Old_Method.png\n"
     ]
    },
    {
     "name": "stderr",
     "output_type": "stream",
     "text": [
      "C:\\Users\\bhereth\\AppData\\Local\\Temp\\ipykernel_6768\\782367488.py:102: UserWarning: Geometry is in a geographic CRS. Results from 'centroid' are likely incorrect. Use 'GeoSeries.to_crs()' to re-project geometries to a projected CRS before this operation.\n",
      "\n",
      "  center = [subset_geo.geometry.centroid.y.mean(), subset_geo.geometry.centroid.x.mean()]\n",
      "C:\\Users\\bhereth\\AppData\\Local\\Temp\\ipykernel_6768\\782367488.py:111: UserWarning: Geometry is in a geographic CRS. Results from 'centroid' are likely incorrect. Use 'GeoSeries.to_crs()' to re-project geometries to a projected CRS before this operation.\n",
      "\n",
      "  taz_match.geometry.centroid.y.values[0],\n",
      "C:\\Users\\bhereth\\AppData\\Local\\Temp\\ipykernel_6768\\782367488.py:112: UserWarning: Geometry is in a geographic CRS. Results from 'centroid' are likely incorrect. Use 'GeoSeries.to_crs()' to re-project geometries to a projected CRS before this operation.\n",
      "\n",
      "  taz_match.geometry.centroid.x.values[0]\n"
     ]
    },
    {
     "name": "stdout",
     "output_type": "stream",
     "text": [
      "Saved: output_maps\\Kaysville_auto_New_Method.png\n",
      "Saved: output_maps\\Kaysville_auto_Old_Method.png\n",
      "No data for Old Method: Kaysville, transit, walk\n"
     ]
    },
    {
     "name": "stderr",
     "output_type": "stream",
     "text": [
      "C:\\Users\\bhereth\\AppData\\Local\\Temp\\ipykernel_6768\\782367488.py:102: UserWarning: Geometry is in a geographic CRS. Results from 'centroid' are likely incorrect. Use 'GeoSeries.to_crs()' to re-project geometries to a projected CRS before this operation.\n",
      "\n",
      "  center = [subset_geo.geometry.centroid.y.mean(), subset_geo.geometry.centroid.x.mean()]\n",
      "C:\\Users\\bhereth\\AppData\\Local\\Temp\\ipykernel_6768\\782367488.py:111: UserWarning: Geometry is in a geographic CRS. Results from 'centroid' are likely incorrect. Use 'GeoSeries.to_crs()' to re-project geometries to a projected CRS before this operation.\n",
      "\n",
      "  taz_match.geometry.centroid.y.values[0],\n",
      "C:\\Users\\bhereth\\AppData\\Local\\Temp\\ipykernel_6768\\782367488.py:112: UserWarning: Geometry is in a geographic CRS. Results from 'centroid' are likely incorrect. Use 'GeoSeries.to_crs()' to re-project geometries to a projected CRS before this operation.\n",
      "\n",
      "  taz_match.geometry.centroid.x.values[0]\n"
     ]
    },
    {
     "name": "stdout",
     "output_type": "stream",
     "text": [
      "Saved: output_maps\\Kaysville_transit_walk_New_Method.png\n",
      "No data for Old Method: Kaysville, transit, drive\n"
     ]
    },
    {
     "name": "stderr",
     "output_type": "stream",
     "text": [
      "C:\\Users\\bhereth\\AppData\\Local\\Temp\\ipykernel_6768\\782367488.py:102: UserWarning: Geometry is in a geographic CRS. Results from 'centroid' are likely incorrect. Use 'GeoSeries.to_crs()' to re-project geometries to a projected CRS before this operation.\n",
      "\n",
      "  center = [subset_geo.geometry.centroid.y.mean(), subset_geo.geometry.centroid.x.mean()]\n",
      "C:\\Users\\bhereth\\AppData\\Local\\Temp\\ipykernel_6768\\782367488.py:111: UserWarning: Geometry is in a geographic CRS. Results from 'centroid' are likely incorrect. Use 'GeoSeries.to_crs()' to re-project geometries to a projected CRS before this operation.\n",
      "\n",
      "  taz_match.geometry.centroid.y.values[0],\n",
      "C:\\Users\\bhereth\\AppData\\Local\\Temp\\ipykernel_6768\\782367488.py:112: UserWarning: Geometry is in a geographic CRS. Results from 'centroid' are likely incorrect. Use 'GeoSeries.to_crs()' to re-project geometries to a projected CRS before this operation.\n",
      "\n",
      "  taz_match.geometry.centroid.x.values[0]\n"
     ]
    },
    {
     "name": "stdout",
     "output_type": "stream",
     "text": [
      "Saved: output_maps\\Kaysville_transit_drive_New_Method.png\n"
     ]
    },
    {
     "name": "stderr",
     "output_type": "stream",
     "text": [
      "C:\\Users\\bhereth\\AppData\\Local\\Temp\\ipykernel_6768\\782367488.py:102: UserWarning: Geometry is in a geographic CRS. Results from 'centroid' are likely incorrect. Use 'GeoSeries.to_crs()' to re-project geometries to a projected CRS before this operation.\n",
      "\n",
      "  center = [subset_geo.geometry.centroid.y.mean(), subset_geo.geometry.centroid.x.mean()]\n",
      "C:\\Users\\bhereth\\AppData\\Local\\Temp\\ipykernel_6768\\782367488.py:111: UserWarning: Geometry is in a geographic CRS. Results from 'centroid' are likely incorrect. Use 'GeoSeries.to_crs()' to re-project geometries to a projected CRS before this operation.\n",
      "\n",
      "  taz_match.geometry.centroid.y.values[0],\n",
      "C:\\Users\\bhereth\\AppData\\Local\\Temp\\ipykernel_6768\\782367488.py:112: UserWarning: Geometry is in a geographic CRS. Results from 'centroid' are likely incorrect. Use 'GeoSeries.to_crs()' to re-project geometries to a projected CRS before this operation.\n",
      "\n",
      "  taz_match.geometry.centroid.x.values[0]\n"
     ]
    },
    {
     "name": "stdout",
     "output_type": "stream",
     "text": [
      "Saved: output_maps\\Kaysville_transit_New_Method.png\n",
      "Saved: output_maps\\Kaysville_transit_Old_Method.png\n"
     ]
    },
    {
     "name": "stderr",
     "output_type": "stream",
     "text": [
      "C:\\Users\\bhereth\\AppData\\Local\\Temp\\ipykernel_6768\\782367488.py:102: UserWarning: Geometry is in a geographic CRS. Results from 'centroid' are likely incorrect. Use 'GeoSeries.to_crs()' to re-project geometries to a projected CRS before this operation.\n",
      "\n",
      "  center = [subset_geo.geometry.centroid.y.mean(), subset_geo.geometry.centroid.x.mean()]\n",
      "C:\\Users\\bhereth\\AppData\\Local\\Temp\\ipykernel_6768\\782367488.py:111: UserWarning: Geometry is in a geographic CRS. Results from 'centroid' are likely incorrect. Use 'GeoSeries.to_crs()' to re-project geometries to a projected CRS before this operation.\n",
      "\n",
      "  taz_match.geometry.centroid.y.values[0],\n",
      "C:\\Users\\bhereth\\AppData\\Local\\Temp\\ipykernel_6768\\782367488.py:112: UserWarning: Geometry is in a geographic CRS. Results from 'centroid' are likely incorrect. Use 'GeoSeries.to_crs()' to re-project geometries to a projected CRS before this operation.\n",
      "\n",
      "  taz_match.geometry.centroid.x.values[0]\n"
     ]
    },
    {
     "name": "stdout",
     "output_type": "stream",
     "text": [
      "Saved: output_maps\\Kaysville_transit_New_Method.png\n",
      "Saved: output_maps\\Kaysville_transit_Old_Method.png\n"
     ]
    },
    {
     "name": "stderr",
     "output_type": "stream",
     "text": [
      "C:\\Users\\bhereth\\AppData\\Local\\Temp\\ipykernel_6768\\782367488.py:102: UserWarning: Geometry is in a geographic CRS. Results from 'centroid' are likely incorrect. Use 'GeoSeries.to_crs()' to re-project geometries to a projected CRS before this operation.\n",
      "\n",
      "  center = [subset_geo.geometry.centroid.y.mean(), subset_geo.geometry.centroid.x.mean()]\n",
      "C:\\Users\\bhereth\\AppData\\Local\\Temp\\ipykernel_6768\\782367488.py:111: UserWarning: Geometry is in a geographic CRS. Results from 'centroid' are likely incorrect. Use 'GeoSeries.to_crs()' to re-project geometries to a projected CRS before this operation.\n",
      "\n",
      "  taz_match.geometry.centroid.y.values[0],\n",
      "C:\\Users\\bhereth\\AppData\\Local\\Temp\\ipykernel_6768\\782367488.py:112: UserWarning: Geometry is in a geographic CRS. Results from 'centroid' are likely incorrect. Use 'GeoSeries.to_crs()' to re-project geometries to a projected CRS before this operation.\n",
      "\n",
      "  taz_match.geometry.centroid.x.values[0]\n"
     ]
    },
    {
     "name": "stdout",
     "output_type": "stream",
     "text": [
      "Saved: output_maps\\Bountiful_auto_New_Method.png\n",
      "Saved: output_maps\\Bountiful_auto_Old_Method.png\n"
     ]
    },
    {
     "name": "stderr",
     "output_type": "stream",
     "text": [
      "C:\\Users\\bhereth\\AppData\\Local\\Temp\\ipykernel_6768\\782367488.py:102: UserWarning: Geometry is in a geographic CRS. Results from 'centroid' are likely incorrect. Use 'GeoSeries.to_crs()' to re-project geometries to a projected CRS before this operation.\n",
      "\n",
      "  center = [subset_geo.geometry.centroid.y.mean(), subset_geo.geometry.centroid.x.mean()]\n",
      "C:\\Users\\bhereth\\AppData\\Local\\Temp\\ipykernel_6768\\782367488.py:111: UserWarning: Geometry is in a geographic CRS. Results from 'centroid' are likely incorrect. Use 'GeoSeries.to_crs()' to re-project geometries to a projected CRS before this operation.\n",
      "\n",
      "  taz_match.geometry.centroid.y.values[0],\n",
      "C:\\Users\\bhereth\\AppData\\Local\\Temp\\ipykernel_6768\\782367488.py:112: UserWarning: Geometry is in a geographic CRS. Results from 'centroid' are likely incorrect. Use 'GeoSeries.to_crs()' to re-project geometries to a projected CRS before this operation.\n",
      "\n",
      "  taz_match.geometry.centroid.x.values[0]\n"
     ]
    },
    {
     "name": "stdout",
     "output_type": "stream",
     "text": [
      "Saved: output_maps\\Bountiful_auto_New_Method.png\n",
      "Saved: output_maps\\Bountiful_auto_Old_Method.png\n",
      "No data for Old Method: Bountiful, transit, walk\n"
     ]
    },
    {
     "name": "stderr",
     "output_type": "stream",
     "text": [
      "C:\\Users\\bhereth\\AppData\\Local\\Temp\\ipykernel_6768\\782367488.py:102: UserWarning: Geometry is in a geographic CRS. Results from 'centroid' are likely incorrect. Use 'GeoSeries.to_crs()' to re-project geometries to a projected CRS before this operation.\n",
      "\n",
      "  center = [subset_geo.geometry.centroid.y.mean(), subset_geo.geometry.centroid.x.mean()]\n",
      "C:\\Users\\bhereth\\AppData\\Local\\Temp\\ipykernel_6768\\782367488.py:111: UserWarning: Geometry is in a geographic CRS. Results from 'centroid' are likely incorrect. Use 'GeoSeries.to_crs()' to re-project geometries to a projected CRS before this operation.\n",
      "\n",
      "  taz_match.geometry.centroid.y.values[0],\n",
      "C:\\Users\\bhereth\\AppData\\Local\\Temp\\ipykernel_6768\\782367488.py:112: UserWarning: Geometry is in a geographic CRS. Results from 'centroid' are likely incorrect. Use 'GeoSeries.to_crs()' to re-project geometries to a projected CRS before this operation.\n",
      "\n",
      "  taz_match.geometry.centroid.x.values[0]\n"
     ]
    },
    {
     "name": "stdout",
     "output_type": "stream",
     "text": [
      "Saved: output_maps\\Bountiful_transit_walk_New_Method.png\n"
     ]
    },
    {
     "name": "stderr",
     "output_type": "stream",
     "text": [
      "C:\\Users\\bhereth\\AppData\\Local\\Temp\\ipykernel_6768\\782367488.py:102: UserWarning: Geometry is in a geographic CRS. Results from 'centroid' are likely incorrect. Use 'GeoSeries.to_crs()' to re-project geometries to a projected CRS before this operation.\n",
      "\n",
      "  center = [subset_geo.geometry.centroid.y.mean(), subset_geo.geometry.centroid.x.mean()]\n",
      "C:\\Users\\bhereth\\AppData\\Local\\Temp\\ipykernel_6768\\782367488.py:111: UserWarning: Geometry is in a geographic CRS. Results from 'centroid' are likely incorrect. Use 'GeoSeries.to_crs()' to re-project geometries to a projected CRS before this operation.\n",
      "\n",
      "  taz_match.geometry.centroid.y.values[0],\n",
      "C:\\Users\\bhereth\\AppData\\Local\\Temp\\ipykernel_6768\\782367488.py:112: UserWarning: Geometry is in a geographic CRS. Results from 'centroid' are likely incorrect. Use 'GeoSeries.to_crs()' to re-project geometries to a projected CRS before this operation.\n",
      "\n",
      "  taz_match.geometry.centroid.x.values[0]\n"
     ]
    },
    {
     "name": "stdout",
     "output_type": "stream",
     "text": [
      "No data for Old Method: Bountiful, transit, drive\n",
      "Saved: output_maps\\Bountiful_transit_drive_New_Method.png\n"
     ]
    },
    {
     "name": "stderr",
     "output_type": "stream",
     "text": [
      "C:\\Users\\bhereth\\AppData\\Local\\Temp\\ipykernel_6768\\782367488.py:102: UserWarning: Geometry is in a geographic CRS. Results from 'centroid' are likely incorrect. Use 'GeoSeries.to_crs()' to re-project geometries to a projected CRS before this operation.\n",
      "\n",
      "  center = [subset_geo.geometry.centroid.y.mean(), subset_geo.geometry.centroid.x.mean()]\n",
      "C:\\Users\\bhereth\\AppData\\Local\\Temp\\ipykernel_6768\\782367488.py:111: UserWarning: Geometry is in a geographic CRS. Results from 'centroid' are likely incorrect. Use 'GeoSeries.to_crs()' to re-project geometries to a projected CRS before this operation.\n",
      "\n",
      "  taz_match.geometry.centroid.y.values[0],\n",
      "C:\\Users\\bhereth\\AppData\\Local\\Temp\\ipykernel_6768\\782367488.py:112: UserWarning: Geometry is in a geographic CRS. Results from 'centroid' are likely incorrect. Use 'GeoSeries.to_crs()' to re-project geometries to a projected CRS before this operation.\n",
      "\n",
      "  taz_match.geometry.centroid.x.values[0]\n"
     ]
    },
    {
     "name": "stdout",
     "output_type": "stream",
     "text": [
      "Saved: output_maps\\Bountiful_transit_New_Method.png\n",
      "Saved: output_maps\\Bountiful_transit_Old_Method.png\n"
     ]
    },
    {
     "name": "stderr",
     "output_type": "stream",
     "text": [
      "C:\\Users\\bhereth\\AppData\\Local\\Temp\\ipykernel_6768\\782367488.py:102: UserWarning: Geometry is in a geographic CRS. Results from 'centroid' are likely incorrect. Use 'GeoSeries.to_crs()' to re-project geometries to a projected CRS before this operation.\n",
      "\n",
      "  center = [subset_geo.geometry.centroid.y.mean(), subset_geo.geometry.centroid.x.mean()]\n",
      "C:\\Users\\bhereth\\AppData\\Local\\Temp\\ipykernel_6768\\782367488.py:111: UserWarning: Geometry is in a geographic CRS. Results from 'centroid' are likely incorrect. Use 'GeoSeries.to_crs()' to re-project geometries to a projected CRS before this operation.\n",
      "\n",
      "  taz_match.geometry.centroid.y.values[0],\n",
      "C:\\Users\\bhereth\\AppData\\Local\\Temp\\ipykernel_6768\\782367488.py:112: UserWarning: Geometry is in a geographic CRS. Results from 'centroid' are likely incorrect. Use 'GeoSeries.to_crs()' to re-project geometries to a projected CRS before this operation.\n",
      "\n",
      "  taz_match.geometry.centroid.x.values[0]\n"
     ]
    },
    {
     "name": "stdout",
     "output_type": "stream",
     "text": [
      "Saved: output_maps\\Bountiful_transit_New_Method.png\n",
      "Saved: output_maps\\Bountiful_transit_Old_Method.png\n"
     ]
    },
    {
     "name": "stderr",
     "output_type": "stream",
     "text": [
      "C:\\Users\\bhereth\\AppData\\Local\\Temp\\ipykernel_6768\\782367488.py:102: UserWarning: Geometry is in a geographic CRS. Results from 'centroid' are likely incorrect. Use 'GeoSeries.to_crs()' to re-project geometries to a projected CRS before this operation.\n",
      "\n",
      "  center = [subset_geo.geometry.centroid.y.mean(), subset_geo.geometry.centroid.x.mean()]\n",
      "C:\\Users\\bhereth\\AppData\\Local\\Temp\\ipykernel_6768\\782367488.py:111: UserWarning: Geometry is in a geographic CRS. Results from 'centroid' are likely incorrect. Use 'GeoSeries.to_crs()' to re-project geometries to a projected CRS before this operation.\n",
      "\n",
      "  taz_match.geometry.centroid.y.values[0],\n",
      "C:\\Users\\bhereth\\AppData\\Local\\Temp\\ipykernel_6768\\782367488.py:112: UserWarning: Geometry is in a geographic CRS. Results from 'centroid' are likely incorrect. Use 'GeoSeries.to_crs()' to re-project geometries to a projected CRS before this operation.\n",
      "\n",
      "  taz_match.geometry.centroid.x.values[0]\n"
     ]
    },
    {
     "name": "stdout",
     "output_type": "stream",
     "text": [
      "Saved: output_maps\\Murray_auto_New_Method.png\n",
      "Saved: output_maps\\Murray_auto_Old_Method.png\n"
     ]
    },
    {
     "name": "stderr",
     "output_type": "stream",
     "text": [
      "C:\\Users\\bhereth\\AppData\\Local\\Temp\\ipykernel_6768\\782367488.py:102: UserWarning: Geometry is in a geographic CRS. Results from 'centroid' are likely incorrect. Use 'GeoSeries.to_crs()' to re-project geometries to a projected CRS before this operation.\n",
      "\n",
      "  center = [subset_geo.geometry.centroid.y.mean(), subset_geo.geometry.centroid.x.mean()]\n",
      "C:\\Users\\bhereth\\AppData\\Local\\Temp\\ipykernel_6768\\782367488.py:111: UserWarning: Geometry is in a geographic CRS. Results from 'centroid' are likely incorrect. Use 'GeoSeries.to_crs()' to re-project geometries to a projected CRS before this operation.\n",
      "\n",
      "  taz_match.geometry.centroid.y.values[0],\n",
      "C:\\Users\\bhereth\\AppData\\Local\\Temp\\ipykernel_6768\\782367488.py:112: UserWarning: Geometry is in a geographic CRS. Results from 'centroid' are likely incorrect. Use 'GeoSeries.to_crs()' to re-project geometries to a projected CRS before this operation.\n",
      "\n",
      "  taz_match.geometry.centroid.x.values[0]\n"
     ]
    },
    {
     "name": "stdout",
     "output_type": "stream",
     "text": [
      "Saved: output_maps\\Murray_auto_New_Method.png\n",
      "Saved: output_maps\\Murray_auto_Old_Method.png\n"
     ]
    },
    {
     "name": "stderr",
     "output_type": "stream",
     "text": [
      "C:\\Users\\bhereth\\AppData\\Local\\Temp\\ipykernel_6768\\782367488.py:102: UserWarning: Geometry is in a geographic CRS. Results from 'centroid' are likely incorrect. Use 'GeoSeries.to_crs()' to re-project geometries to a projected CRS before this operation.\n",
      "\n",
      "  center = [subset_geo.geometry.centroid.y.mean(), subset_geo.geometry.centroid.x.mean()]\n",
      "C:\\Users\\bhereth\\AppData\\Local\\Temp\\ipykernel_6768\\782367488.py:111: UserWarning: Geometry is in a geographic CRS. Results from 'centroid' are likely incorrect. Use 'GeoSeries.to_crs()' to re-project geometries to a projected CRS before this operation.\n",
      "\n",
      "  taz_match.geometry.centroid.y.values[0],\n",
      "C:\\Users\\bhereth\\AppData\\Local\\Temp\\ipykernel_6768\\782367488.py:112: UserWarning: Geometry is in a geographic CRS. Results from 'centroid' are likely incorrect. Use 'GeoSeries.to_crs()' to re-project geometries to a projected CRS before this operation.\n",
      "\n",
      "  taz_match.geometry.centroid.x.values[0]\n"
     ]
    },
    {
     "name": "stdout",
     "output_type": "stream",
     "text": [
      "No data for Old Method: Murray, transit, walk\n",
      "Saved: output_maps\\Murray_transit_walk_New_Method.png\n"
     ]
    },
    {
     "name": "stderr",
     "output_type": "stream",
     "text": [
      "C:\\Users\\bhereth\\AppData\\Local\\Temp\\ipykernel_6768\\782367488.py:102: UserWarning: Geometry is in a geographic CRS. Results from 'centroid' are likely incorrect. Use 'GeoSeries.to_crs()' to re-project geometries to a projected CRS before this operation.\n",
      "\n",
      "  center = [subset_geo.geometry.centroid.y.mean(), subset_geo.geometry.centroid.x.mean()]\n",
      "C:\\Users\\bhereth\\AppData\\Local\\Temp\\ipykernel_6768\\782367488.py:111: UserWarning: Geometry is in a geographic CRS. Results from 'centroid' are likely incorrect. Use 'GeoSeries.to_crs()' to re-project geometries to a projected CRS before this operation.\n",
      "\n",
      "  taz_match.geometry.centroid.y.values[0],\n",
      "C:\\Users\\bhereth\\AppData\\Local\\Temp\\ipykernel_6768\\782367488.py:112: UserWarning: Geometry is in a geographic CRS. Results from 'centroid' are likely incorrect. Use 'GeoSeries.to_crs()' to re-project geometries to a projected CRS before this operation.\n",
      "\n",
      "  taz_match.geometry.centroid.x.values[0]\n"
     ]
    },
    {
     "name": "stdout",
     "output_type": "stream",
     "text": [
      "No data for Old Method: Murray, transit, drive\n",
      "Saved: output_maps\\Murray_transit_drive_New_Method.png\n"
     ]
    },
    {
     "name": "stderr",
     "output_type": "stream",
     "text": [
      "C:\\Users\\bhereth\\AppData\\Local\\Temp\\ipykernel_6768\\782367488.py:102: UserWarning: Geometry is in a geographic CRS. Results from 'centroid' are likely incorrect. Use 'GeoSeries.to_crs()' to re-project geometries to a projected CRS before this operation.\n",
      "\n",
      "  center = [subset_geo.geometry.centroid.y.mean(), subset_geo.geometry.centroid.x.mean()]\n",
      "C:\\Users\\bhereth\\AppData\\Local\\Temp\\ipykernel_6768\\782367488.py:111: UserWarning: Geometry is in a geographic CRS. Results from 'centroid' are likely incorrect. Use 'GeoSeries.to_crs()' to re-project geometries to a projected CRS before this operation.\n",
      "\n",
      "  taz_match.geometry.centroid.y.values[0],\n",
      "C:\\Users\\bhereth\\AppData\\Local\\Temp\\ipykernel_6768\\782367488.py:112: UserWarning: Geometry is in a geographic CRS. Results from 'centroid' are likely incorrect. Use 'GeoSeries.to_crs()' to re-project geometries to a projected CRS before this operation.\n",
      "\n",
      "  taz_match.geometry.centroid.x.values[0]\n"
     ]
    },
    {
     "name": "stdout",
     "output_type": "stream",
     "text": [
      "Saved: output_maps\\Murray_transit_New_Method.png\n",
      "Saved: output_maps\\Murray_transit_Old_Method.png\n"
     ]
    },
    {
     "name": "stderr",
     "output_type": "stream",
     "text": [
      "C:\\Users\\bhereth\\AppData\\Local\\Temp\\ipykernel_6768\\782367488.py:102: UserWarning: Geometry is in a geographic CRS. Results from 'centroid' are likely incorrect. Use 'GeoSeries.to_crs()' to re-project geometries to a projected CRS before this operation.\n",
      "\n",
      "  center = [subset_geo.geometry.centroid.y.mean(), subset_geo.geometry.centroid.x.mean()]\n",
      "C:\\Users\\bhereth\\AppData\\Local\\Temp\\ipykernel_6768\\782367488.py:111: UserWarning: Geometry is in a geographic CRS. Results from 'centroid' are likely incorrect. Use 'GeoSeries.to_crs()' to re-project geometries to a projected CRS before this operation.\n",
      "\n",
      "  taz_match.geometry.centroid.y.values[0],\n",
      "C:\\Users\\bhereth\\AppData\\Local\\Temp\\ipykernel_6768\\782367488.py:112: UserWarning: Geometry is in a geographic CRS. Results from 'centroid' are likely incorrect. Use 'GeoSeries.to_crs()' to re-project geometries to a projected CRS before this operation.\n",
      "\n",
      "  taz_match.geometry.centroid.x.values[0]\n"
     ]
    },
    {
     "name": "stdout",
     "output_type": "stream",
     "text": [
      "Saved: output_maps\\Murray_transit_New_Method.png\n",
      "Saved: output_maps\\Murray_transit_Old_Method.png\n"
     ]
    },
    {
     "name": "stderr",
     "output_type": "stream",
     "text": [
      "C:\\Users\\bhereth\\AppData\\Local\\Temp\\ipykernel_6768\\782367488.py:102: UserWarning: Geometry is in a geographic CRS. Results from 'centroid' are likely incorrect. Use 'GeoSeries.to_crs()' to re-project geometries to a projected CRS before this operation.\n",
      "\n",
      "  center = [subset_geo.geometry.centroid.y.mean(), subset_geo.geometry.centroid.x.mean()]\n",
      "C:\\Users\\bhereth\\AppData\\Local\\Temp\\ipykernel_6768\\782367488.py:111: UserWarning: Geometry is in a geographic CRS. Results from 'centroid' are likely incorrect. Use 'GeoSeries.to_crs()' to re-project geometries to a projected CRS before this operation.\n",
      "\n",
      "  taz_match.geometry.centroid.y.values[0],\n",
      "C:\\Users\\bhereth\\AppData\\Local\\Temp\\ipykernel_6768\\782367488.py:112: UserWarning: Geometry is in a geographic CRS. Results from 'centroid' are likely incorrect. Use 'GeoSeries.to_crs()' to re-project geometries to a projected CRS before this operation.\n",
      "\n",
      "  taz_match.geometry.centroid.x.values[0]\n"
     ]
    },
    {
     "name": "stdout",
     "output_type": "stream",
     "text": [
      "Saved: output_maps\\South Jordan_auto_New_Method.png\n",
      "Saved: output_maps\\South Jordan_auto_Old_Method.png\n"
     ]
    },
    {
     "name": "stderr",
     "output_type": "stream",
     "text": [
      "C:\\Users\\bhereth\\AppData\\Local\\Temp\\ipykernel_6768\\782367488.py:102: UserWarning: Geometry is in a geographic CRS. Results from 'centroid' are likely incorrect. Use 'GeoSeries.to_crs()' to re-project geometries to a projected CRS before this operation.\n",
      "\n",
      "  center = [subset_geo.geometry.centroid.y.mean(), subset_geo.geometry.centroid.x.mean()]\n",
      "C:\\Users\\bhereth\\AppData\\Local\\Temp\\ipykernel_6768\\782367488.py:111: UserWarning: Geometry is in a geographic CRS. Results from 'centroid' are likely incorrect. Use 'GeoSeries.to_crs()' to re-project geometries to a projected CRS before this operation.\n",
      "\n",
      "  taz_match.geometry.centroid.y.values[0],\n",
      "C:\\Users\\bhereth\\AppData\\Local\\Temp\\ipykernel_6768\\782367488.py:112: UserWarning: Geometry is in a geographic CRS. Results from 'centroid' are likely incorrect. Use 'GeoSeries.to_crs()' to re-project geometries to a projected CRS before this operation.\n",
      "\n",
      "  taz_match.geometry.centroid.x.values[0]\n"
     ]
    },
    {
     "name": "stdout",
     "output_type": "stream",
     "text": [
      "Saved: output_maps\\South Jordan_auto_New_Method.png\n",
      "Saved: output_maps\\South Jordan_auto_Old_Method.png\n",
      "No data for Old Method: South Jordan, transit, walk\n"
     ]
    },
    {
     "name": "stderr",
     "output_type": "stream",
     "text": [
      "C:\\Users\\bhereth\\AppData\\Local\\Temp\\ipykernel_6768\\782367488.py:102: UserWarning: Geometry is in a geographic CRS. Results from 'centroid' are likely incorrect. Use 'GeoSeries.to_crs()' to re-project geometries to a projected CRS before this operation.\n",
      "\n",
      "  center = [subset_geo.geometry.centroid.y.mean(), subset_geo.geometry.centroid.x.mean()]\n",
      "C:\\Users\\bhereth\\AppData\\Local\\Temp\\ipykernel_6768\\782367488.py:111: UserWarning: Geometry is in a geographic CRS. Results from 'centroid' are likely incorrect. Use 'GeoSeries.to_crs()' to re-project geometries to a projected CRS before this operation.\n",
      "\n",
      "  taz_match.geometry.centroid.y.values[0],\n",
      "C:\\Users\\bhereth\\AppData\\Local\\Temp\\ipykernel_6768\\782367488.py:112: UserWarning: Geometry is in a geographic CRS. Results from 'centroid' are likely incorrect. Use 'GeoSeries.to_crs()' to re-project geometries to a projected CRS before this operation.\n",
      "\n",
      "  taz_match.geometry.centroid.x.values[0]\n"
     ]
    },
    {
     "name": "stdout",
     "output_type": "stream",
     "text": [
      "Saved: output_maps\\South Jordan_transit_walk_New_Method.png\n"
     ]
    },
    {
     "name": "stderr",
     "output_type": "stream",
     "text": [
      "C:\\Users\\bhereth\\AppData\\Local\\Temp\\ipykernel_6768\\782367488.py:102: UserWarning: Geometry is in a geographic CRS. Results from 'centroid' are likely incorrect. Use 'GeoSeries.to_crs()' to re-project geometries to a projected CRS before this operation.\n",
      "\n",
      "  center = [subset_geo.geometry.centroid.y.mean(), subset_geo.geometry.centroid.x.mean()]\n",
      "C:\\Users\\bhereth\\AppData\\Local\\Temp\\ipykernel_6768\\782367488.py:111: UserWarning: Geometry is in a geographic CRS. Results from 'centroid' are likely incorrect. Use 'GeoSeries.to_crs()' to re-project geometries to a projected CRS before this operation.\n",
      "\n",
      "  taz_match.geometry.centroid.y.values[0],\n",
      "C:\\Users\\bhereth\\AppData\\Local\\Temp\\ipykernel_6768\\782367488.py:112: UserWarning: Geometry is in a geographic CRS. Results from 'centroid' are likely incorrect. Use 'GeoSeries.to_crs()' to re-project geometries to a projected CRS before this operation.\n",
      "\n",
      "  taz_match.geometry.centroid.x.values[0]\n"
     ]
    },
    {
     "name": "stdout",
     "output_type": "stream",
     "text": [
      "No data for Old Method: South Jordan, transit, drive\n",
      "Saved: output_maps\\South Jordan_transit_drive_New_Method.png\n"
     ]
    },
    {
     "name": "stderr",
     "output_type": "stream",
     "text": [
      "C:\\Users\\bhereth\\AppData\\Local\\Temp\\ipykernel_6768\\782367488.py:102: UserWarning: Geometry is in a geographic CRS. Results from 'centroid' are likely incorrect. Use 'GeoSeries.to_crs()' to re-project geometries to a projected CRS before this operation.\n",
      "\n",
      "  center = [subset_geo.geometry.centroid.y.mean(), subset_geo.geometry.centroid.x.mean()]\n",
      "C:\\Users\\bhereth\\AppData\\Local\\Temp\\ipykernel_6768\\782367488.py:111: UserWarning: Geometry is in a geographic CRS. Results from 'centroid' are likely incorrect. Use 'GeoSeries.to_crs()' to re-project geometries to a projected CRS before this operation.\n",
      "\n",
      "  taz_match.geometry.centroid.y.values[0],\n",
      "C:\\Users\\bhereth\\AppData\\Local\\Temp\\ipykernel_6768\\782367488.py:112: UserWarning: Geometry is in a geographic CRS. Results from 'centroid' are likely incorrect. Use 'GeoSeries.to_crs()' to re-project geometries to a projected CRS before this operation.\n",
      "\n",
      "  taz_match.geometry.centroid.x.values[0]\n"
     ]
    },
    {
     "name": "stdout",
     "output_type": "stream",
     "text": [
      "Saved: output_maps\\South Jordan_transit_New_Method.png\n",
      "Saved: output_maps\\South Jordan_transit_Old_Method.png\n"
     ]
    },
    {
     "name": "stderr",
     "output_type": "stream",
     "text": [
      "C:\\Users\\bhereth\\AppData\\Local\\Temp\\ipykernel_6768\\782367488.py:102: UserWarning: Geometry is in a geographic CRS. Results from 'centroid' are likely incorrect. Use 'GeoSeries.to_crs()' to re-project geometries to a projected CRS before this operation.\n",
      "\n",
      "  center = [subset_geo.geometry.centroid.y.mean(), subset_geo.geometry.centroid.x.mean()]\n",
      "C:\\Users\\bhereth\\AppData\\Local\\Temp\\ipykernel_6768\\782367488.py:111: UserWarning: Geometry is in a geographic CRS. Results from 'centroid' are likely incorrect. Use 'GeoSeries.to_crs()' to re-project geometries to a projected CRS before this operation.\n",
      "\n",
      "  taz_match.geometry.centroid.y.values[0],\n",
      "C:\\Users\\bhereth\\AppData\\Local\\Temp\\ipykernel_6768\\782367488.py:112: UserWarning: Geometry is in a geographic CRS. Results from 'centroid' are likely incorrect. Use 'GeoSeries.to_crs()' to re-project geometries to a projected CRS before this operation.\n",
      "\n",
      "  taz_match.geometry.centroid.x.values[0]\n"
     ]
    },
    {
     "name": "stdout",
     "output_type": "stream",
     "text": [
      "Saved: output_maps\\South Jordan_transit_New_Method.png\n",
      "Saved: output_maps\\South Jordan_transit_Old_Method.png\n"
     ]
    },
    {
     "name": "stderr",
     "output_type": "stream",
     "text": [
      "C:\\Users\\bhereth\\AppData\\Local\\Temp\\ipykernel_6768\\782367488.py:102: UserWarning: Geometry is in a geographic CRS. Results from 'centroid' are likely incorrect. Use 'GeoSeries.to_crs()' to re-project geometries to a projected CRS before this operation.\n",
      "\n",
      "  center = [subset_geo.geometry.centroid.y.mean(), subset_geo.geometry.centroid.x.mean()]\n",
      "C:\\Users\\bhereth\\AppData\\Local\\Temp\\ipykernel_6768\\782367488.py:111: UserWarning: Geometry is in a geographic CRS. Results from 'centroid' are likely incorrect. Use 'GeoSeries.to_crs()' to re-project geometries to a projected CRS before this operation.\n",
      "\n",
      "  taz_match.geometry.centroid.y.values[0],\n",
      "C:\\Users\\bhereth\\AppData\\Local\\Temp\\ipykernel_6768\\782367488.py:112: UserWarning: Geometry is in a geographic CRS. Results from 'centroid' are likely incorrect. Use 'GeoSeries.to_crs()' to re-project geometries to a projected CRS before this operation.\n",
      "\n",
      "  taz_match.geometry.centroid.x.values[0]\n"
     ]
    },
    {
     "name": "stdout",
     "output_type": "stream",
     "text": [
      "Saved: output_maps\\Spanish Fork_auto_New_Method.png\n",
      "Saved: output_maps\\Spanish Fork_auto_Old_Method.png\n"
     ]
    },
    {
     "name": "stderr",
     "output_type": "stream",
     "text": [
      "C:\\Users\\bhereth\\AppData\\Local\\Temp\\ipykernel_6768\\782367488.py:102: UserWarning: Geometry is in a geographic CRS. Results from 'centroid' are likely incorrect. Use 'GeoSeries.to_crs()' to re-project geometries to a projected CRS before this operation.\n",
      "\n",
      "  center = [subset_geo.geometry.centroid.y.mean(), subset_geo.geometry.centroid.x.mean()]\n",
      "C:\\Users\\bhereth\\AppData\\Local\\Temp\\ipykernel_6768\\782367488.py:111: UserWarning: Geometry is in a geographic CRS. Results from 'centroid' are likely incorrect. Use 'GeoSeries.to_crs()' to re-project geometries to a projected CRS before this operation.\n",
      "\n",
      "  taz_match.geometry.centroid.y.values[0],\n",
      "C:\\Users\\bhereth\\AppData\\Local\\Temp\\ipykernel_6768\\782367488.py:112: UserWarning: Geometry is in a geographic CRS. Results from 'centroid' are likely incorrect. Use 'GeoSeries.to_crs()' to re-project geometries to a projected CRS before this operation.\n",
      "\n",
      "  taz_match.geometry.centroid.x.values[0]\n"
     ]
    },
    {
     "name": "stdout",
     "output_type": "stream",
     "text": [
      "Saved: output_maps\\Spanish Fork_auto_New_Method.png\n",
      "Saved: output_maps\\Spanish Fork_auto_Old_Method.png\n",
      "No data for Old Method: Spanish Fork, transit, walk\n"
     ]
    },
    {
     "name": "stderr",
     "output_type": "stream",
     "text": [
      "C:\\Users\\bhereth\\AppData\\Local\\Temp\\ipykernel_6768\\782367488.py:102: UserWarning: Geometry is in a geographic CRS. Results from 'centroid' are likely incorrect. Use 'GeoSeries.to_crs()' to re-project geometries to a projected CRS before this operation.\n",
      "\n",
      "  center = [subset_geo.geometry.centroid.y.mean(), subset_geo.geometry.centroid.x.mean()]\n",
      "C:\\Users\\bhereth\\AppData\\Local\\Temp\\ipykernel_6768\\782367488.py:111: UserWarning: Geometry is in a geographic CRS. Results from 'centroid' are likely incorrect. Use 'GeoSeries.to_crs()' to re-project geometries to a projected CRS before this operation.\n",
      "\n",
      "  taz_match.geometry.centroid.y.values[0],\n",
      "C:\\Users\\bhereth\\AppData\\Local\\Temp\\ipykernel_6768\\782367488.py:112: UserWarning: Geometry is in a geographic CRS. Results from 'centroid' are likely incorrect. Use 'GeoSeries.to_crs()' to re-project geometries to a projected CRS before this operation.\n",
      "\n",
      "  taz_match.geometry.centroid.x.values[0]\n"
     ]
    },
    {
     "name": "stdout",
     "output_type": "stream",
     "text": [
      "Saved: output_maps\\Spanish Fork_transit_walk_New_Method.png\n",
      "No data for Old Method: Spanish Fork, transit, drive\n"
     ]
    },
    {
     "name": "stderr",
     "output_type": "stream",
     "text": [
      "C:\\Users\\bhereth\\AppData\\Local\\Temp\\ipykernel_6768\\782367488.py:102: UserWarning: Geometry is in a geographic CRS. Results from 'centroid' are likely incorrect. Use 'GeoSeries.to_crs()' to re-project geometries to a projected CRS before this operation.\n",
      "\n",
      "  center = [subset_geo.geometry.centroid.y.mean(), subset_geo.geometry.centroid.x.mean()]\n",
      "C:\\Users\\bhereth\\AppData\\Local\\Temp\\ipykernel_6768\\782367488.py:111: UserWarning: Geometry is in a geographic CRS. Results from 'centroid' are likely incorrect. Use 'GeoSeries.to_crs()' to re-project geometries to a projected CRS before this operation.\n",
      "\n",
      "  taz_match.geometry.centroid.y.values[0],\n",
      "C:\\Users\\bhereth\\AppData\\Local\\Temp\\ipykernel_6768\\782367488.py:112: UserWarning: Geometry is in a geographic CRS. Results from 'centroid' are likely incorrect. Use 'GeoSeries.to_crs()' to re-project geometries to a projected CRS before this operation.\n",
      "\n",
      "  taz_match.geometry.centroid.x.values[0]\n"
     ]
    },
    {
     "name": "stdout",
     "output_type": "stream",
     "text": [
      "Saved: output_maps\\Spanish Fork_transit_drive_New_Method.png\n"
     ]
    },
    {
     "name": "stderr",
     "output_type": "stream",
     "text": [
      "C:\\Users\\bhereth\\AppData\\Local\\Temp\\ipykernel_6768\\782367488.py:102: UserWarning: Geometry is in a geographic CRS. Results from 'centroid' are likely incorrect. Use 'GeoSeries.to_crs()' to re-project geometries to a projected CRS before this operation.\n",
      "\n",
      "  center = [subset_geo.geometry.centroid.y.mean(), subset_geo.geometry.centroid.x.mean()]\n",
      "C:\\Users\\bhereth\\AppData\\Local\\Temp\\ipykernel_6768\\782367488.py:111: UserWarning: Geometry is in a geographic CRS. Results from 'centroid' are likely incorrect. Use 'GeoSeries.to_crs()' to re-project geometries to a projected CRS before this operation.\n",
      "\n",
      "  taz_match.geometry.centroid.y.values[0],\n",
      "C:\\Users\\bhereth\\AppData\\Local\\Temp\\ipykernel_6768\\782367488.py:112: UserWarning: Geometry is in a geographic CRS. Results from 'centroid' are likely incorrect. Use 'GeoSeries.to_crs()' to re-project geometries to a projected CRS before this operation.\n",
      "\n",
      "  taz_match.geometry.centroid.x.values[0]\n"
     ]
    },
    {
     "name": "stdout",
     "output_type": "stream",
     "text": [
      "Saved: output_maps\\Spanish Fork_transit_New_Method.png\n",
      "Saved: output_maps\\Spanish Fork_transit_Old_Method.png\n"
     ]
    },
    {
     "name": "stderr",
     "output_type": "stream",
     "text": [
      "C:\\Users\\bhereth\\AppData\\Local\\Temp\\ipykernel_6768\\782367488.py:102: UserWarning: Geometry is in a geographic CRS. Results from 'centroid' are likely incorrect. Use 'GeoSeries.to_crs()' to re-project geometries to a projected CRS before this operation.\n",
      "\n",
      "  center = [subset_geo.geometry.centroid.y.mean(), subset_geo.geometry.centroid.x.mean()]\n",
      "C:\\Users\\bhereth\\AppData\\Local\\Temp\\ipykernel_6768\\782367488.py:111: UserWarning: Geometry is in a geographic CRS. Results from 'centroid' are likely incorrect. Use 'GeoSeries.to_crs()' to re-project geometries to a projected CRS before this operation.\n",
      "\n",
      "  taz_match.geometry.centroid.y.values[0],\n",
      "C:\\Users\\bhereth\\AppData\\Local\\Temp\\ipykernel_6768\\782367488.py:112: UserWarning: Geometry is in a geographic CRS. Results from 'centroid' are likely incorrect. Use 'GeoSeries.to_crs()' to re-project geometries to a projected CRS before this operation.\n",
      "\n",
      "  taz_match.geometry.centroid.x.values[0]\n"
     ]
    },
    {
     "name": "stdout",
     "output_type": "stream",
     "text": [
      "Saved: output_maps\\Spanish Fork_transit_New_Method.png\n",
      "Saved: output_maps\\Spanish Fork_transit_Old_Method.png\n"
     ]
    },
    {
     "name": "stderr",
     "output_type": "stream",
     "text": [
      "C:\\Users\\bhereth\\AppData\\Local\\Temp\\ipykernel_6768\\782367488.py:102: UserWarning: Geometry is in a geographic CRS. Results from 'centroid' are likely incorrect. Use 'GeoSeries.to_crs()' to re-project geometries to a projected CRS before this operation.\n",
      "\n",
      "  center = [subset_geo.geometry.centroid.y.mean(), subset_geo.geometry.centroid.x.mean()]\n",
      "C:\\Users\\bhereth\\AppData\\Local\\Temp\\ipykernel_6768\\782367488.py:111: UserWarning: Geometry is in a geographic CRS. Results from 'centroid' are likely incorrect. Use 'GeoSeries.to_crs()' to re-project geometries to a projected CRS before this operation.\n",
      "\n",
      "  taz_match.geometry.centroid.y.values[0],\n",
      "C:\\Users\\bhereth\\AppData\\Local\\Temp\\ipykernel_6768\\782367488.py:112: UserWarning: Geometry is in a geographic CRS. Results from 'centroid' are likely incorrect. Use 'GeoSeries.to_crs()' to re-project geometries to a projected CRS before this operation.\n",
      "\n",
      "  taz_match.geometry.centroid.x.values[0]\n"
     ]
    },
    {
     "name": "stdout",
     "output_type": "stream",
     "text": [
      "Saved: output_maps\\MAG Office_auto_New_Method.png\n",
      "Saved: output_maps\\MAG Office_auto_Old_Method.png\n"
     ]
    },
    {
     "name": "stderr",
     "output_type": "stream",
     "text": [
      "C:\\Users\\bhereth\\AppData\\Local\\Temp\\ipykernel_6768\\782367488.py:102: UserWarning: Geometry is in a geographic CRS. Results from 'centroid' are likely incorrect. Use 'GeoSeries.to_crs()' to re-project geometries to a projected CRS before this operation.\n",
      "\n",
      "  center = [subset_geo.geometry.centroid.y.mean(), subset_geo.geometry.centroid.x.mean()]\n",
      "C:\\Users\\bhereth\\AppData\\Local\\Temp\\ipykernel_6768\\782367488.py:111: UserWarning: Geometry is in a geographic CRS. Results from 'centroid' are likely incorrect. Use 'GeoSeries.to_crs()' to re-project geometries to a projected CRS before this operation.\n",
      "\n",
      "  taz_match.geometry.centroid.y.values[0],\n",
      "C:\\Users\\bhereth\\AppData\\Local\\Temp\\ipykernel_6768\\782367488.py:112: UserWarning: Geometry is in a geographic CRS. Results from 'centroid' are likely incorrect. Use 'GeoSeries.to_crs()' to re-project geometries to a projected CRS before this operation.\n",
      "\n",
      "  taz_match.geometry.centroid.x.values[0]\n"
     ]
    },
    {
     "name": "stdout",
     "output_type": "stream",
     "text": [
      "Saved: output_maps\\MAG Office_auto_New_Method.png\n",
      "Saved: output_maps\\MAG Office_auto_Old_Method.png\n",
      "No data for Old Method: MAG Office, transit, walk\n"
     ]
    },
    {
     "name": "stderr",
     "output_type": "stream",
     "text": [
      "C:\\Users\\bhereth\\AppData\\Local\\Temp\\ipykernel_6768\\782367488.py:102: UserWarning: Geometry is in a geographic CRS. Results from 'centroid' are likely incorrect. Use 'GeoSeries.to_crs()' to re-project geometries to a projected CRS before this operation.\n",
      "\n",
      "  center = [subset_geo.geometry.centroid.y.mean(), subset_geo.geometry.centroid.x.mean()]\n",
      "C:\\Users\\bhereth\\AppData\\Local\\Temp\\ipykernel_6768\\782367488.py:111: UserWarning: Geometry is in a geographic CRS. Results from 'centroid' are likely incorrect. Use 'GeoSeries.to_crs()' to re-project geometries to a projected CRS before this operation.\n",
      "\n",
      "  taz_match.geometry.centroid.y.values[0],\n",
      "C:\\Users\\bhereth\\AppData\\Local\\Temp\\ipykernel_6768\\782367488.py:112: UserWarning: Geometry is in a geographic CRS. Results from 'centroid' are likely incorrect. Use 'GeoSeries.to_crs()' to re-project geometries to a projected CRS before this operation.\n",
      "\n",
      "  taz_match.geometry.centroid.x.values[0]\n"
     ]
    },
    {
     "name": "stdout",
     "output_type": "stream",
     "text": [
      "Saved: output_maps\\MAG Office_transit_walk_New_Method.png\n",
      "No data for Old Method: MAG Office, transit, drive\n"
     ]
    },
    {
     "name": "stderr",
     "output_type": "stream",
     "text": [
      "C:\\Users\\bhereth\\AppData\\Local\\Temp\\ipykernel_6768\\782367488.py:102: UserWarning: Geometry is in a geographic CRS. Results from 'centroid' are likely incorrect. Use 'GeoSeries.to_crs()' to re-project geometries to a projected CRS before this operation.\n",
      "\n",
      "  center = [subset_geo.geometry.centroid.y.mean(), subset_geo.geometry.centroid.x.mean()]\n",
      "C:\\Users\\bhereth\\AppData\\Local\\Temp\\ipykernel_6768\\782367488.py:111: UserWarning: Geometry is in a geographic CRS. Results from 'centroid' are likely incorrect. Use 'GeoSeries.to_crs()' to re-project geometries to a projected CRS before this operation.\n",
      "\n",
      "  taz_match.geometry.centroid.y.values[0],\n",
      "C:\\Users\\bhereth\\AppData\\Local\\Temp\\ipykernel_6768\\782367488.py:112: UserWarning: Geometry is in a geographic CRS. Results from 'centroid' are likely incorrect. Use 'GeoSeries.to_crs()' to re-project geometries to a projected CRS before this operation.\n",
      "\n",
      "  taz_match.geometry.centroid.x.values[0]\n"
     ]
    },
    {
     "name": "stdout",
     "output_type": "stream",
     "text": [
      "Saved: output_maps\\MAG Office_transit_drive_New_Method.png\n"
     ]
    },
    {
     "name": "stderr",
     "output_type": "stream",
     "text": [
      "C:\\Users\\bhereth\\AppData\\Local\\Temp\\ipykernel_6768\\782367488.py:102: UserWarning: Geometry is in a geographic CRS. Results from 'centroid' are likely incorrect. Use 'GeoSeries.to_crs()' to re-project geometries to a projected CRS before this operation.\n",
      "\n",
      "  center = [subset_geo.geometry.centroid.y.mean(), subset_geo.geometry.centroid.x.mean()]\n",
      "C:\\Users\\bhereth\\AppData\\Local\\Temp\\ipykernel_6768\\782367488.py:111: UserWarning: Geometry is in a geographic CRS. Results from 'centroid' are likely incorrect. Use 'GeoSeries.to_crs()' to re-project geometries to a projected CRS before this operation.\n",
      "\n",
      "  taz_match.geometry.centroid.y.values[0],\n",
      "C:\\Users\\bhereth\\AppData\\Local\\Temp\\ipykernel_6768\\782367488.py:112: UserWarning: Geometry is in a geographic CRS. Results from 'centroid' are likely incorrect. Use 'GeoSeries.to_crs()' to re-project geometries to a projected CRS before this operation.\n",
      "\n",
      "  taz_match.geometry.centroid.x.values[0]\n"
     ]
    },
    {
     "name": "stdout",
     "output_type": "stream",
     "text": [
      "Saved: output_maps\\MAG Office_transit_New_Method.png\n",
      "Saved: output_maps\\MAG Office_transit_Old_Method.png\n"
     ]
    },
    {
     "name": "stderr",
     "output_type": "stream",
     "text": [
      "C:\\Users\\bhereth\\AppData\\Local\\Temp\\ipykernel_6768\\782367488.py:102: UserWarning: Geometry is in a geographic CRS. Results from 'centroid' are likely incorrect. Use 'GeoSeries.to_crs()' to re-project geometries to a projected CRS before this operation.\n",
      "\n",
      "  center = [subset_geo.geometry.centroid.y.mean(), subset_geo.geometry.centroid.x.mean()]\n",
      "C:\\Users\\bhereth\\AppData\\Local\\Temp\\ipykernel_6768\\782367488.py:111: UserWarning: Geometry is in a geographic CRS. Results from 'centroid' are likely incorrect. Use 'GeoSeries.to_crs()' to re-project geometries to a projected CRS before this operation.\n",
      "\n",
      "  taz_match.geometry.centroid.y.values[0],\n",
      "C:\\Users\\bhereth\\AppData\\Local\\Temp\\ipykernel_6768\\782367488.py:112: UserWarning: Geometry is in a geographic CRS. Results from 'centroid' are likely incorrect. Use 'GeoSeries.to_crs()' to re-project geometries to a projected CRS before this operation.\n",
      "\n",
      "  taz_match.geometry.centroid.x.values[0]\n"
     ]
    },
    {
     "name": "stdout",
     "output_type": "stream",
     "text": [
      "Saved: output_maps\\MAG Office_transit_New_Method.png\n",
      "Saved: output_maps\\MAG Office_transit_Old_Method.png\n"
     ]
    },
    {
     "name": "stderr",
     "output_type": "stream",
     "text": [
      "C:\\Users\\bhereth\\AppData\\Local\\Temp\\ipykernel_6768\\782367488.py:102: UserWarning: Geometry is in a geographic CRS. Results from 'centroid' are likely incorrect. Use 'GeoSeries.to_crs()' to re-project geometries to a projected CRS before this operation.\n",
      "\n",
      "  center = [subset_geo.geometry.centroid.y.mean(), subset_geo.geometry.centroid.x.mean()]\n",
      "C:\\Users\\bhereth\\AppData\\Local\\Temp\\ipykernel_6768\\782367488.py:111: UserWarning: Geometry is in a geographic CRS. Results from 'centroid' are likely incorrect. Use 'GeoSeries.to_crs()' to re-project geometries to a projected CRS before this operation.\n",
      "\n",
      "  taz_match.geometry.centroid.y.values[0],\n",
      "C:\\Users\\bhereth\\AppData\\Local\\Temp\\ipykernel_6768\\782367488.py:112: UserWarning: Geometry is in a geographic CRS. Results from 'centroid' are likely incorrect. Use 'GeoSeries.to_crs()' to re-project geometries to a projected CRS before this operation.\n",
      "\n",
      "  taz_match.geometry.centroid.x.values[0]\n"
     ]
    },
    {
     "name": "stdout",
     "output_type": "stream",
     "text": [
      "Saved: output_maps\\Saratoga_auto_New_Method.png\n",
      "Saved: output_maps\\Saratoga_auto_Old_Method.png\n"
     ]
    },
    {
     "name": "stderr",
     "output_type": "stream",
     "text": [
      "C:\\Users\\bhereth\\AppData\\Local\\Temp\\ipykernel_6768\\782367488.py:102: UserWarning: Geometry is in a geographic CRS. Results from 'centroid' are likely incorrect. Use 'GeoSeries.to_crs()' to re-project geometries to a projected CRS before this operation.\n",
      "\n",
      "  center = [subset_geo.geometry.centroid.y.mean(), subset_geo.geometry.centroid.x.mean()]\n",
      "C:\\Users\\bhereth\\AppData\\Local\\Temp\\ipykernel_6768\\782367488.py:111: UserWarning: Geometry is in a geographic CRS. Results from 'centroid' are likely incorrect. Use 'GeoSeries.to_crs()' to re-project geometries to a projected CRS before this operation.\n",
      "\n",
      "  taz_match.geometry.centroid.y.values[0],\n",
      "C:\\Users\\bhereth\\AppData\\Local\\Temp\\ipykernel_6768\\782367488.py:112: UserWarning: Geometry is in a geographic CRS. Results from 'centroid' are likely incorrect. Use 'GeoSeries.to_crs()' to re-project geometries to a projected CRS before this operation.\n",
      "\n",
      "  taz_match.geometry.centroid.x.values[0]\n"
     ]
    },
    {
     "name": "stdout",
     "output_type": "stream",
     "text": [
      "Saved: output_maps\\Saratoga_auto_New_Method.png\n",
      "Saved: output_maps\\Saratoga_auto_Old_Method.png\n",
      "No data for Old Method: Saratoga, transit, walk\n"
     ]
    },
    {
     "name": "stderr",
     "output_type": "stream",
     "text": [
      "C:\\Users\\bhereth\\AppData\\Local\\Temp\\ipykernel_6768\\782367488.py:102: UserWarning: Geometry is in a geographic CRS. Results from 'centroid' are likely incorrect. Use 'GeoSeries.to_crs()' to re-project geometries to a projected CRS before this operation.\n",
      "\n",
      "  center = [subset_geo.geometry.centroid.y.mean(), subset_geo.geometry.centroid.x.mean()]\n",
      "C:\\Users\\bhereth\\AppData\\Local\\Temp\\ipykernel_6768\\782367488.py:111: UserWarning: Geometry is in a geographic CRS. Results from 'centroid' are likely incorrect. Use 'GeoSeries.to_crs()' to re-project geometries to a projected CRS before this operation.\n",
      "\n",
      "  taz_match.geometry.centroid.y.values[0],\n",
      "C:\\Users\\bhereth\\AppData\\Local\\Temp\\ipykernel_6768\\782367488.py:112: UserWarning: Geometry is in a geographic CRS. Results from 'centroid' are likely incorrect. Use 'GeoSeries.to_crs()' to re-project geometries to a projected CRS before this operation.\n",
      "\n",
      "  taz_match.geometry.centroid.x.values[0]\n"
     ]
    },
    {
     "name": "stdout",
     "output_type": "stream",
     "text": [
      "Saved: output_maps\\Saratoga_transit_walk_New_Method.png\n",
      "No data for Old Method: Saratoga, transit, drive\n"
     ]
    },
    {
     "name": "stderr",
     "output_type": "stream",
     "text": [
      "C:\\Users\\bhereth\\AppData\\Local\\Temp\\ipykernel_6768\\782367488.py:102: UserWarning: Geometry is in a geographic CRS. Results from 'centroid' are likely incorrect. Use 'GeoSeries.to_crs()' to re-project geometries to a projected CRS before this operation.\n",
      "\n",
      "  center = [subset_geo.geometry.centroid.y.mean(), subset_geo.geometry.centroid.x.mean()]\n",
      "C:\\Users\\bhereth\\AppData\\Local\\Temp\\ipykernel_6768\\782367488.py:111: UserWarning: Geometry is in a geographic CRS. Results from 'centroid' are likely incorrect. Use 'GeoSeries.to_crs()' to re-project geometries to a projected CRS before this operation.\n",
      "\n",
      "  taz_match.geometry.centroid.y.values[0],\n",
      "C:\\Users\\bhereth\\AppData\\Local\\Temp\\ipykernel_6768\\782367488.py:112: UserWarning: Geometry is in a geographic CRS. Results from 'centroid' are likely incorrect. Use 'GeoSeries.to_crs()' to re-project geometries to a projected CRS before this operation.\n",
      "\n",
      "  taz_match.geometry.centroid.x.values[0]\n"
     ]
    },
    {
     "name": "stdout",
     "output_type": "stream",
     "text": [
      "Saved: output_maps\\Saratoga_transit_drive_New_Method.png\n"
     ]
    },
    {
     "name": "stderr",
     "output_type": "stream",
     "text": [
      "C:\\Users\\bhereth\\AppData\\Local\\Temp\\ipykernel_6768\\782367488.py:102: UserWarning: Geometry is in a geographic CRS. Results from 'centroid' are likely incorrect. Use 'GeoSeries.to_crs()' to re-project geometries to a projected CRS before this operation.\n",
      "\n",
      "  center = [subset_geo.geometry.centroid.y.mean(), subset_geo.geometry.centroid.x.mean()]\n",
      "C:\\Users\\bhereth\\AppData\\Local\\Temp\\ipykernel_6768\\782367488.py:111: UserWarning: Geometry is in a geographic CRS. Results from 'centroid' are likely incorrect. Use 'GeoSeries.to_crs()' to re-project geometries to a projected CRS before this operation.\n",
      "\n",
      "  taz_match.geometry.centroid.y.values[0],\n",
      "C:\\Users\\bhereth\\AppData\\Local\\Temp\\ipykernel_6768\\782367488.py:112: UserWarning: Geometry is in a geographic CRS. Results from 'centroid' are likely incorrect. Use 'GeoSeries.to_crs()' to re-project geometries to a projected CRS before this operation.\n",
      "\n",
      "  taz_match.geometry.centroid.x.values[0]\n"
     ]
    },
    {
     "name": "stdout",
     "output_type": "stream",
     "text": [
      "Saved: output_maps\\Saratoga_transit_New_Method.png\n",
      "Saved: output_maps\\Saratoga_transit_Old_Method.png\n"
     ]
    },
    {
     "name": "stderr",
     "output_type": "stream",
     "text": [
      "C:\\Users\\bhereth\\AppData\\Local\\Temp\\ipykernel_6768\\782367488.py:102: UserWarning: Geometry is in a geographic CRS. Results from 'centroid' are likely incorrect. Use 'GeoSeries.to_crs()' to re-project geometries to a projected CRS before this operation.\n",
      "\n",
      "  center = [subset_geo.geometry.centroid.y.mean(), subset_geo.geometry.centroid.x.mean()]\n",
      "C:\\Users\\bhereth\\AppData\\Local\\Temp\\ipykernel_6768\\782367488.py:111: UserWarning: Geometry is in a geographic CRS. Results from 'centroid' are likely incorrect. Use 'GeoSeries.to_crs()' to re-project geometries to a projected CRS before this operation.\n",
      "\n",
      "  taz_match.geometry.centroid.y.values[0],\n",
      "C:\\Users\\bhereth\\AppData\\Local\\Temp\\ipykernel_6768\\782367488.py:112: UserWarning: Geometry is in a geographic CRS. Results from 'centroid' are likely incorrect. Use 'GeoSeries.to_crs()' to re-project geometries to a projected CRS before this operation.\n",
      "\n",
      "  taz_match.geometry.centroid.x.values[0]\n"
     ]
    },
    {
     "name": "stdout",
     "output_type": "stream",
     "text": [
      "Saved: output_maps\\Saratoga_transit_New_Method.png\n",
      "Saved: output_maps\\Saratoga_transit_Old_Method.png\n",
      "All PNG maps saved in 'output_maps' folder.\n"
     ]
    }
   ],
   "source": [
    "# Load the TAZ GeoJSON file\n",
    "taz_geo = gpd.read_file(\"taz/WFv910_TAZ.geojson\")\n",
    "taz_df = pd.read_csv(\"taz/WFv910_TAZ.csv\")\n",
    "taz_geo_merged = pd.merge(taz_geo, taz_df, on=\"TAZID\")\n",
    "taz_geo_merged = taz_geo_merged[(taz_geo_merged['REMM']==1) & (taz_geo_merged['DEVPBLEPCT']>0)]\n",
    "taz_geo = taz_geo_merged\n",
    "#display(taz_geo_merged)\n",
    "\n",
    "# Merge TAZ data with the extracted dataset using 'TAZID'\n",
    "merged_geo = taz_geo.merge(merged_df, left_on=\"TAZID\", right_on=\"TAZ_A\")\n",
    "\n",
    "# Set up Chrome WebDriver for capturing PNGs\n",
    "chrome_options = webdriver.ChromeOptions()\n",
    "chrome_options.add_argument(\"--headless\")\n",
    "chrome_options.add_argument(\"--window-size=1200x800\")\n",
    "chrome_options.add_argument(\"--no-sandbox\")\n",
    "\n",
    "driver = webdriver.Chrome(service=Service(ChromeDriverManager().install()), options=chrome_options)\n",
    "\n",
    "# Custom RGB color palette for MapClass (converted to HEX)\n",
    "mapclass_colors = {\n",
    "    11: \"#ACFA70\",  # (172,250,112)\n",
    "    10: \"#70EA80\",  # (112,234,128)\n",
    "    9:  \"#23D890\",  # ( 35,216,144)\n",
    "    8:  \"#00C49E\",  # (  0,196,158)\n",
    "    7:  \"#00ADA4\",  # (  0,173,164)\n",
    "    6:  \"#0097A3\",  # (  0,151,163)\n",
    "    5:  \"#00829D\",  # (  0,130,157)\n",
    "    4:  \"#006D95\",  # (  0,109,149)\n",
    "    3:  \"#005886\",  # (  0, 88,134)\n",
    "    2:  \"#204370\",  # ( 32, 67,112)\n",
    "    1:  \"#292F56\",  # ( 41, 47, 86)\n",
    "}\n",
    "\n",
    "# Function to create a Folium map with custom colors and matching polygon borders\n",
    "def create_map(geo_data, title, center, zoom_level, taz_p_location=None):\n",
    "    \"\"\"Creates a Folium map with a custom color scheme, polygon borders, and a marker at TAZ_P.\"\"\"\n",
    "    map_obj = folium.Map(location=taz_p_location, zoom_start=zoom_level)\n",
    "\n",
    "    if geo_data.empty or geo_data[\"geometry\"].isna().all():\n",
    "        # If no data, add a marker indicating \"No Data Available\"\n",
    "        folium.Marker(\n",
    "            location=center,\n",
    "            popup=\"No Data Available\",\n",
    "            icon=folium.Icon(color=\"gray\")\n",
    "        ).add_to(map_obj)\n",
    "    else:\n",
    "        # Style function to apply custom colors and matching border color\n",
    "        def style_function(feature):\n",
    "            mapclass = feature[\"properties\"].get(\"MapClass\", None)\n",
    "            fill_color = mapclass_colors.get(mapclass, \"#FFFFFF\")  # Default to white if not found\n",
    "            return {\n",
    "                \"fillColor\": fill_color,\n",
    "                \"color\": fill_color,  # **MATCH BORDER TO FILL COLOR**\n",
    "                \"weight\": 0.5,  # Slight weight to avoid slivers\n",
    "                \"fillOpacity\": 0.85\n",
    "            }\n",
    "\n",
    "        folium.GeoJson(\n",
    "            geo_data,\n",
    "            style_function=style_function,\n",
    "            tooltip=folium.GeoJsonTooltip(fields=[\"MapClass\"])\n",
    "        ).add_to(map_obj)\n",
    "\n",
    "    # Add a marker for the TAZ_P location if available\n",
    "    if taz_p_location:\n",
    "        folium.Marker(\n",
    "            location=taz_p_location,\n",
    "            popup=f\"TAZ_P: {title}\",\n",
    "            icon=folium.Icon(color=\"red\", icon=\"info-sign\")\n",
    "        ).add_to(map_obj)\n",
    "\n",
    "    return map_obj\n",
    "\n",
    "\n",
    "# Folder to store PNGs\n",
    "output_folder = \"output_maps\"\n",
    "os.makedirs(output_folder, exist_ok=True)\n",
    "\n",
    "# Loop through each unique I value to create separate maps\n",
    "for _, row_taz_rows_to_extract_df in taz_rows_to_extract_df.iterrows():\n",
    "\n",
    "    taz_p_val = row_taz_rows_to_extract_df['taz_id']\n",
    "    map_label = row_taz_rows_to_extract_df['map_label']\n",
    "\n",
    "    for _, row in groups_df.iterrows():\n",
    "\n",
    "        auto_transit = row['AutoTransit']\n",
    "        access_mode = row['AccessMode']\n",
    "\n",
    "        subset_geo = merged_geo[\n",
    "            (merged_geo[\"TAZ_P\"] == taz_p_val) &\n",
    "            (merged_geo['AutoTransit'] == auto_transit) &\n",
    "            (merged_geo['AccessMode'] == access_mode)\n",
    "        ]\n",
    "\n",
    "        # Separate datasets for New and Old methods\n",
    "        new_geo = subset_geo[subset_geo[\"Method\"] == \"New\"]\n",
    "        old_geo = subset_geo[subset_geo[\"Method\"] == \"Old\"]\n",
    "\n",
    "        # Define a consistent zoom extent based on the full dataset for `TAZ_P`\n",
    "        center = [subset_geo.geometry.centroid.y.mean(), subset_geo.geometry.centroid.x.mean()]\n",
    "        zoom_level = 10  # Adjust if necessary\n",
    "\n",
    "        # Find the centroid of the TAZ polygon where TAZID == TAZ_P\n",
    "        taz_p_location = None\n",
    "        taz_match = taz_geo[taz_geo[\"TAZID\"] == taz_p_val]\n",
    "\n",
    "        if not taz_match.empty:\n",
    "            taz_p_location = [\n",
    "                taz_match.geometry.centroid.y.values[0],\n",
    "                taz_match.geometry.centroid.x.values[0]\n",
    "            ]\n",
    "\n",
    "        # Ensure an empty GeoDataFrame is properly structured\n",
    "        empty_geojson = gpd.GeoDataFrame({'MapClass': [], 'geometry': []}, geometry='geometry', crs=\"EPSG:4326\")\n",
    "\n",
    "        # Create maps with the correct TAZ marker\n",
    "        if not new_geo.empty:\n",
    "            new_map = create_map(new_geo, f\"{map_label}_{auto_transit}_{access_mode}_New_Method\", center, zoom_level, taz_p_location)\n",
    "            new_map_html = f\"output_html/map_temp_{map_label}_{auto_transit}_{access_mode}_new.html\"\n",
    "            new_map.save(new_map_html)\n",
    "        else:\n",
    "            print(f\"No data for New Method: {map_label}, {auto_transit}, {access_mode}\")\n",
    "\n",
    "        if not old_geo.empty:\n",
    "            old_map = create_map(old_geo, f\"{map_label}_{auto_transit}_{access_mode}_Old_Method\", center, zoom_level, taz_p_location)\n",
    "            old_map_html = f\"output_html/map_temp_{map_label}_{auto_transit}_{access_mode}_old.html\"\n",
    "            old_map.save(old_map_html)\n",
    "        else:\n",
    "            print(f\"No data for Old Method: {map_label}, {auto_transit}, {access_mode}\")\n",
    "\n",
    "        # Save maps as temporary HTML files\n",
    "        \n",
    "\n",
    "        # Convert HTML to PNG\n",
    "        def save_as_png(html_file, output_file):\n",
    "            \"\"\"Renders the HTML map and saves it as a PNG image.\"\"\"\n",
    "            file_url = f\"file://{os.path.abspath(html_file)}\"\n",
    "            driver.get(file_url)\n",
    "            driver.save_screenshot(output_file)\n",
    "            print(f\"Saved: {output_file}\")\n",
    "\n",
    "        # File names with TAZ_P at the beginning\n",
    "        if not new_geo.empty:\n",
    "            if access_mode == 'none' or access_mode == 'both':\n",
    "                new_png = os.path.join(output_folder, f\"{map_label}_{auto_transit}_New_Method.png\")\n",
    "            else:\n",
    "                new_png = os.path.join(output_folder, f\"{map_label}_{auto_transit}_{access_mode}_New_Method.png\")\n",
    "            save_as_png(new_map_html, new_png)\n",
    "            os.remove(new_map_html)\n",
    "        if not old_geo.empty:\n",
    "            if access_mode == 'none' or access_mode == 'both':\n",
    "                old_png = os.path.join(output_folder, f\"{map_label}_{auto_transit}_Old_Method.png\")\n",
    "            else:\n",
    "                old_png = os.path.join(output_folder, f\"{map_label}_{auto_transit}_{access_mode}_Old_Method.png\")\n",
    "            save_as_png(old_map_html, old_png)\n",
    "            os.remove(old_map_html)\n",
    "\n",
    "# Close the WebDriver\n",
    "driver.quit()\n",
    "\n",
    "print(f\"All PNG maps saved in '{output_folder}' folder.\")\n"
   ]
  }
 ],
 "metadata": {
  "kernelspec": {
   "display_name": "march2024",
   "language": "python",
   "name": "python3"
  },
  "language_info": {
   "codemirror_mode": {
    "name": "ipython",
    "version": 3
   },
   "file_extension": ".py",
   "mimetype": "text/x-python",
   "name": "python",
   "nbconvert_exporter": "python",
   "pygments_lexer": "ipython3",
   "version": "3.9.19"
  }
 },
 "nbformat": 4,
 "nbformat_minor": 2
}
